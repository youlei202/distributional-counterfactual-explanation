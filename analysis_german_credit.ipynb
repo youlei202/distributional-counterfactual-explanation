{
 "cells": [
  {
   "cell_type": "code",
   "execution_count": null,
   "metadata": {},
   "outputs": [],
   "source": [
    "import pickle\n",
    "import pandas as pd\n",
    "import os\n",
    "from explainers.dce import DistributionalCounterfactualExplainer\n",
    "import torch\n",
    "from utils.visualization import *\n",
    "from utils.data_processing import *\n",
    "import numpy as np\n",
    "import matplotlib.pyplot as plt\n",
    "from matplotlib.gridspec import GridSpec\n",
    "\n",
    "\n",
    "pd.set_option('display.max_columns', None)\n",
    "\n",
    "%reload_ext autoreload\n",
    "%autoreload 2"
   ]
  },
  {
   "cell_type": "code",
   "execution_count": null,
   "metadata": {},
   "outputs": [],
   "source": [
    "os.environ[\"PATH\"] += os.pathsep + 'C:\\\\texlive\\\\2023\\\\bin\\\\windows'"
   ]
  },
  {
   "cell_type": "code",
   "execution_count": null,
   "metadata": {},
   "outputs": [],
   "source": [
    "data_path = 'data/german_credit'"
   ]
  },
  {
   "cell_type": "code",
   "execution_count": null,
   "metadata": {},
   "outputs": [],
   "source": [
    "df_ = pd.read_csv(os.path.join(data_path, 'german_credit_data.csv'))\n",
    "df = df_.copy()"
   ]
  },
  {
   "cell_type": "code",
   "execution_count": null,
   "metadata": {},
   "outputs": [],
   "source": [
    "df.sample(5)"
   ]
  },
  {
   "cell_type": "code",
   "execution_count": null,
   "metadata": {},
   "outputs": [],
   "source": [
    "df, label_mappings = feature_encoding(df=df, target_name='Risk', target_encode_dict={\"good\": 0, \"bad\": 1})"
   ]
  },
  {
   "cell_type": "code",
   "execution_count": null,
   "metadata": {},
   "outputs": [],
   "source": [
    "factual = pd.read_csv(os.path.join(data_path,'factual.csv'))\n",
    "counterfactual = pd.read_csv(os.path.join(data_path,'counterfactual.csv'))"
   ]
  },
  {
   "cell_type": "code",
   "execution_count": null,
   "metadata": {},
   "outputs": [],
   "source": [
    "plot_quantile(factual=factual, counterfactual=counterfactual, column_name='Credit amount');"
   ]
  },
  {
   "cell_type": "code",
   "execution_count": null,
   "metadata": {},
   "outputs": [],
   "source": [
    "np.quantile(factual['Credit amount'], 0.4)"
   ]
  },
  {
   "cell_type": "code",
   "execution_count": null,
   "metadata": {},
   "outputs": [],
   "source": [
    "factual.head(10)"
   ]
  },
  {
   "cell_type": "code",
   "execution_count": null,
   "metadata": {},
   "outputs": [],
   "source": [
    "counterfactual.head(10)"
   ]
  },
  {
   "cell_type": "code",
   "execution_count": null,
   "metadata": {},
   "outputs": [],
   "source": [
    "interval = (0, 25, 35, 65, 120)\n",
    "\n",
    "cats = ['Student', 'Young', 'Adult', 'Senior']\n",
    "df[\"Age_cat\"] = pd.cut(df.Age, interval, labels=cats)\n",
    "\n",
    "for cat in cats:\n",
    "    risk_prob = df[df.Age_cat == cat]['Risk'].mean()\n",
    "    print(f'Risk {cat}: {risk_prob}')"
   ]
  },
  {
   "cell_type": "code",
   "execution_count": null,
   "metadata": {},
   "outputs": [],
   "source": [
    "plot_quantile(factual=factual, counterfactual=counterfactual, column_name='Age');"
   ]
  },
  {
   "cell_type": "code",
   "execution_count": null,
   "metadata": {},
   "outputs": [],
   "source": [
    "factual['Risk'].mean(), counterfactual['Risk'].mean()"
   ]
  },
  {
   "cell_type": "code",
   "execution_count": null,
   "metadata": {},
   "outputs": [],
   "source": [
    "plot_quantile(factual=factual, counterfactual=counterfactual, column_name='Risk');"
   ]
  },
  {
   "cell_type": "code",
   "execution_count": null,
   "metadata": {},
   "outputs": [],
   "source": [
    "print('Risk Low credit amount:', df[df['Credit amount']<1000]['Risk'].mean())\n",
    "print('Risk Middle credit amount:', df[ (df['Credit amount']>=1000) & (df['Credit amount']<=6000) ]['Risk'].mean())\n",
    "print('Risk High credit amount:', df[df['Credit amount']>6000]['Risk'].mean())"
   ]
  },
  {
   "cell_type": "code",
   "execution_count": null,
   "metadata": {},
   "outputs": [],
   "source": [
    "factual['Risk'].mean(), counterfactual['Risk'].mean()"
   ]
  },
  {
   "cell_type": "code",
   "execution_count": null,
   "metadata": {},
   "outputs": [],
   "source": [
    "factual['data'] = 'factual'\n",
    "counterfactual['data'] = 'counterfactual'\n",
    "\n",
    "fcf = pd.concat([factual, counterfactual])\n",
    "\n",
    "def plot_quantile_ax(factual, counterfactual, column_name):\n",
    "    quantiles_factual = factual[column_name].quantile(np.linspace(0, 1, 100))\n",
    "    quantiles_counterfactual = counterfactual[column_name].quantile(np.linspace(0, 1, 100))\n",
    "\n",
    "    # Plot quantiles\n",
    "    plt.plot(quantiles_factual.values, np.linspace(0, 1, 100), label=\"Factual\")\n",
    "    plt.plot(quantiles_counterfactual.values, np.linspace(0, 1, 100), label=\"Counterfactual\")\n",
    "    plt.xlabel(\"Quantile Values\")\n",
    "    plt.ylabel(\"Quantiles\")\n",
    "    plt.title(f\"{column_name}\")\n",
    "    plt.legend()\n",
    "    plt.grid(True)\n",
    "\n",
    "# Assuming factual and counterfactual are pandas DataFrames with the same columns\n",
    "columns = ['Age', 'Credit amount', 'Duration', 'Risk']\n",
    "\n",
    "# Create a 3x4 subplot layout\n",
    "plt.figure(figsize=(20, 5))\n",
    "for i, column in enumerate(columns):\n",
    "    plt.subplot(1, 4, i+1)\n",
    "    plot_quantile_ax(factual, counterfactual, column)\n",
    "\n",
    "plt.tight_layout()\n",
    "plt.show()\n",
    "\n",
    "def hist_plot_ax(df, x, hue, title, ax):\n",
    "    g = sns.countplot(x=x, hue=hue, data=df.sort_values(by=x), palette=\"hls\", ax=ax)\n",
    "    g.set_xticklabels(g.get_xticklabels(), rotation=45)\n",
    "    g.set_xlabel(x, fontsize=12)\n",
    "    g.set_ylabel(\"Count\", fontsize=12)\n",
    "    g.set_title(title, fontsize=20)\n",
    "\n",
    "\n",
    "columns = ['Sex', 'Job', 'Housing', 'Saving accounts', 'Checking account']\n",
    "\n",
    "factual['is_cf'] = False\n",
    "counterfactual['is_cf'] = True\n",
    "\n",
    "fcf = pd.concat([factual, counterfactual])\n",
    "\n",
    "# Create a 3x4 subplot layout\n",
    "plt.figure(figsize=(25, 5))\n",
    "for i, column in enumerate(columns):\n",
    "    ax = plt.subplot(1, 5, i+1)\n",
    "    hist_plot_ax(fcf, column, 'data', column, ax)\n",
    "\n",
    "plt.tight_layout()\n",
    "plt.show()"
   ]
  },
  {
   "cell_type": "code",
   "execution_count": null,
   "metadata": {},
   "outputs": [],
   "source": [
    "fig, ax = plt.subplots(figsize=(25,5))\n",
    "\n",
    "hist_plot_ax(fcf, 'Purpose', 'data', 'Purpose', ax)\n",
    "\n",
    "plt.tight_layout()\n",
    "plt.show()"
   ]
  },
  {
   "cell_type": "code",
   "execution_count": null,
   "metadata": {},
   "outputs": [],
   "source": [
    "column_name = 'Risk'\n",
    "quantiles_factual = factual[column_name].quantile(np.linspace(0, 1, 100))\n",
    "quantiles_counterfactual = counterfactual[column_name].quantile(np.linspace(0, 1, 100))"
   ]
  },
  {
   "cell_type": "code",
   "execution_count": null,
   "metadata": {},
   "outputs": [],
   "source": [
    "s_factual = \"\"\n",
    "for k, v in quantiles_factual.to_dict().items():\n",
    "    s_factual += f\" ({np.round(v,6)},{np.round(k,6)})\"\n",
    "print(s_factual)"
   ]
  },
  {
   "cell_type": "code",
   "execution_count": null,
   "metadata": {},
   "outputs": [],
   "source": [
    "s_counterfactual = \"\"\n",
    "for k, v in quantiles_counterfactual.to_dict().items():\n",
    "    s_counterfactual += f\" ({np.round(v,6)},{np.round(k,6)})\"\n",
    "print(s_counterfactual)"
   ]
  },
  {
   "cell_type": "code",
   "execution_count": null,
   "metadata": {},
   "outputs": [],
   "source": [
    "column_name = 'Purpose'\n",
    "factual[column_name].value_counts()"
   ]
  },
  {
   "cell_type": "code",
   "execution_count": null,
   "metadata": {},
   "outputs": [],
   "source": [
    "counterfactual[column_name].value_counts()"
   ]
  },
  {
   "cell_type": "code",
   "execution_count": null,
   "metadata": {},
   "outputs": [],
   "source": [
    "column_name = 'Purpose'\n",
    "pd.concat(\n",
    "    [\n",
    "        pd.DataFrame(factual.groupby(column_name)['Risk'].mean()).rename({'Risk': 'Risk_factual'}, axis=1),\n",
    "        pd.DataFrame(counterfactual.groupby(column_name)['Risk'].mean()).rename({'Risk': 'Risk_counterfactual'}, axis=1)\n",
    "    ],\n",
    "    axis=1,\n",
    ")"
   ]
  },
  {
   "cell_type": "code",
   "execution_count": null,
   "metadata": {},
   "outputs": [],
   "source": [
    "column_name = 'Saving accounts'\n",
    "indice = factual[(factual[column_name] != counterfactual[column_name])].index\n",
    "\n",
    "factual.loc[indice]\n"
   ]
  },
  {
   "cell_type": "code",
   "execution_count": null,
   "metadata": {},
   "outputs": [],
   "source": [
    "counterfactual.loc[indice]"
   ]
  },
  {
   "cell_type": "code",
   "execution_count": null,
   "metadata": {},
   "outputs": [],
   "source": [
    "def colorful_scatter(df, x, y, color_col, title, ax):\n",
    "    scatter = ax.scatter(df[x], df[y], alpha=0.7, c=df[color_col], cmap='rocket_r')\n",
    "\n",
    "    # Adding colorbar to show the scale\n",
    "    plt.colorbar(scatter, ax=ax, label=color_col)\n",
    "\n",
    "    # Adding labels and title\n",
    "    ax.set_xlabel(x)\n",
    "    ax.set_ylabel(y)\n",
    "    ax.set_title(title)\n",
    "\n",
    "fig, (ax1, ax2) = plt.subplots(1, 2, figsize=(14, 5))  # Create 1 row, 2 columns of subplots\n",
    "\n",
    "# Assuming 'df' is your DataFrame and it already contains the columns 'Credit amount', 'Duration', and 'Risk'\n",
    "# Call the function with the respective axes object\n",
    "colorful_scatter(factual[factual['Saving accounts']=='little'], 'Credit amount', 'Duration', 'Risk', 'Factual', ax1)\n",
    "colorful_scatter(counterfactual[counterfactual['Saving accounts']=='little'], 'Credit amount', 'Duration', 'Risk', 'Counterfactual', ax2)\n",
    "\n",
    "plt.tight_layout()  # Adjust the layout\n",
    "plt.show()"
   ]
  },
  {
   "cell_type": "code",
   "execution_count": null,
   "metadata": {},
   "outputs": [],
   "source": [
    "fontsize = 25\n",
    "\n",
    "# Enable LaTeX text rendering in Matplotlib\n",
    "plt.rcParams.update({\n",
    "    \"text.usetex\": True,\n",
    "    \"text.latex.preamble\": r\"\\usepackage{times}\",  # Ensure you use the times package\n",
    "    \"font.family\": \"serif\",\n",
    "    \"font.serif\": [\"Times\", \"Times New Roman\"],  # This should use Times font\n",
    "    \"font.size\": fontsize\n",
    "})\n",
    "\n",
    "def colorful_scatter_with_sizing(df, x, y, size_col, color_col, title, ax, show_colorbar=True, cbar_ax=None):\n",
    "    scatter = ax.scatter(df[x], df[y], s=df[size_col]*10, alpha=0.7, c=df[color_col], cmap='rocket_r', edgecolor='black')\n",
    "\n",
    "    # Adding colorbar conditionally\n",
    "    if show_colorbar and cbar_ax is not None:\n",
    "        cbar = plt.colorbar(scatter, cax=cbar_ax, label=color_col)\n",
    "        cbar.ax.tick_params(labelsize=fontsize)  # Adjust for LaTeX\n",
    "\n",
    "    # Adding labels and title\n",
    "    ax.set_xlabel('Credit Amount')\n",
    "    ax.set_ylabel(y)\n",
    "    ax.set_title(title)\n",
    "    ax.tick_params(axis='both', which='major', labelsize=fontsize)\n",
    "\n",
    "    # Set grid interval\n",
    "    ax.set_xticks(np.arange(0, 15000, 4000))  # Set x grid interval\n",
    "    ax.set_yticks(np.arange(20, 80, 10))  # Set y grid interval\n",
    "\n",
    "    ax.grid(True, which='both', linestyle='--', linewidth=0.5, color='gray')  # Grid lines like TikZ\n",
    "    ax.set_facecolor('white')  # White background like TikZ\n",
    "    ax.set_ylim(20, 80)\n",
    "\n",
    "    # Make sure the spines (frame) are visible\n",
    "    for spine in ax.spines.values():\n",
    "        spine.set_visible(True)\n",
    "        spine.set_color('black')\n",
    "        spine.set_linewidth(0.5)\n",
    "\n",
    "# Create a GridSpec with 2 columns with the second column being slightly narrower for the colorbar\n",
    "fig = plt.figure(figsize=(12, 5))\n",
    "gs = GridSpec(1, 3, width_ratios=[1, 1, 0.05])\n",
    "\n",
    "# Create the two subplots and the colorbar axis\n",
    "ax1 = fig.add_subplot(gs[0])\n",
    "ax2 = fig.add_subplot(gs[1])\n",
    "cbar_ax = fig.add_subplot(gs[2])\n",
    "\n",
    "# Call the function with the axes object\n",
    "colorful_scatter_with_sizing(factual, 'Credit amount', 'Age', 'Duration', 'Risk', 'Factual', ax1, show_colorbar=False)\n",
    "colorful_scatter_with_sizing(counterfactual, 'Credit amount', 'Age', 'Duration', 'Risk', 'Counterfactual', ax2, cbar_ax=cbar_ax)\n",
    "\n",
    "# Adjust the layout so there's no extra space\n",
    "plt.tight_layout()\n",
    "\n",
    "# Save the figure as a PDF\n",
    "plt.savefig('pictures/german_credit_scatter.pdf', format='pdf', bbox_inches='tight')\n",
    "\n",
    "# Display the plot\n",
    "plt.show()\n",
    "\n",
    "# Make sure to close the figure after saving to avoid memory issues\n",
    "plt.close(fig)\n",
    "\n"
   ]
  },
  {
   "cell_type": "code",
   "execution_count": null,
   "metadata": {},
   "outputs": [],
   "source": [
    "factual.groupby('Saving accounts')['Risk'].mean()"
   ]
  },
  {
   "cell_type": "code",
   "execution_count": null,
   "metadata": {},
   "outputs": [],
   "source": [
    "counterfactual.groupby('Saving accounts')['Risk'].mean()"
   ]
  },
  {
   "cell_type": "code",
   "execution_count": null,
   "metadata": {},
   "outputs": [],
   "source": [
    "with open(os.path.join(data_path, 'explainer.pkl'), 'rb') as file:\n",
    "    explainer = pickle.load(file)"
   ]
  },
  {
   "cell_type": "code",
   "execution_count": null,
   "metadata": {},
   "outputs": [],
   "source": [
    "col_names = []\n",
    "col_scores = []\n",
    "for column, col_index in zip(explainer.explain_columns, explainer.explain_indices):\n",
    "\n",
    "    y_s = torch.FloatTensor(explainer.X[:, col_index])\n",
    "    y_t = torch.FloatTensor(explainer.X_prime[:, col_index])\n",
    "    wd_dist, _ = explainer.wd.distance(y_s, y_t, delta=0)\n",
    "\n",
    "    col_names.append(column)\n",
    "    col_scores.append(wd_dist.item())\n",
    "\n",
    "pd.DataFrame({\n",
    "    'Feature': col_names,\n",
    "    'Score': col_scores,\n",
    "}).sort_values(by='Score', ascending=False)"
   ]
  },
  {
   "cell_type": "code",
   "execution_count": null,
   "metadata": {},
   "outputs": [],
   "source": [
    "plt.figure(figsize=(16, 6))\n",
    "heatmap = sns.heatmap(explainer.X_prime.corr(), vmin=-1, vmax=1, annot=True, cmap='BrBG')\n",
    "heatmap.set_title('Correlation Heatmap', fontdict={'fontsize':18}, pad=12);\n",
    "# save heatmap as .png file\n",
    "# dpi - sets the resolution of the saved image in dots/inches\n",
    "# bbox_inches - when set to 'tight' - does not allow the labels to be cropped\n",
    "# plt.savefig('heatmap.png', dpi=300, bbox_inches='tight')"
   ]
  },
  {
   "cell_type": "code",
   "execution_count": null,
   "metadata": {},
   "outputs": [],
   "source": [
    "\n",
    "fa = torch.zeros_like(explainer.X_prime[:, explainer.explain_indices] @ explainer.swd.thetas[0])\n",
    "dfa = torch.zeros_like(explainer.X_prime[:, explainer.explain_indices] @ explainer.swd.thetas[0])\n",
    "for theta in explainer.swd.thetas:\n",
    "\n",
    "    fa += explainer.X_prime[:, explainer.explain_indices] @ theta\n",
    "    dfa += explainer.best_X[:, explainer.explain_indices] @ theta\n",
    "    \n",
    "fa /= len(explainer.swd.thetas)\n",
    "dfa /= len(explainer.swd.thetas)\n",
    "\n",
    "plot_quantile(factual=pd.DataFrame({'X': fa}), counterfactual=pd.DataFrame({'X': dfa}), column_name='X')"
   ]
  },
  {
   "cell_type": "code",
   "execution_count": null,
   "metadata": {},
   "outputs": [],
   "source": [
    "s_factual = \"\"\n",
    "s_counterfactual = \"\"\n",
    "\n",
    "for k, v in enumerate(np.sort(fa.numpy())):\n",
    "    s_factual += f\" ({np.round(v,6)},{np.round(k/100,6)})\"\n",
    "\n",
    "for k, v in enumerate(np.sort(dfa.numpy())):\n",
    "    s_counterfactual += f\" ({np.round(v,6)},{np.round(k/100,6)})\"\n",
    "\n",
    "print(s_factual)\n",
    "print(s_counterfactual)"
   ]
  },
  {
   "cell_type": "code",
   "execution_count": null,
   "metadata": {},
   "outputs": [],
   "source": [
    "fa"
   ]
  },
  {
   "cell_type": "code",
   "execution_count": null,
   "metadata": {},
   "outputs": [],
   "source": [
    "matrix_nu = explainer.wd.nu.detach().numpy()\n",
    "\n",
    "mu_avg = torch.zeros_like(explainer.swd.mu_list[0])\n",
    "for mu in explainer.swd.mu_list:\n",
    "    mu_avg += mu\n",
    "\n",
    "total_sum = mu_avg.sum()\n",
    "\n",
    "matrix_mu = mu_avg / total_sum\n",
    "\n",
    "# Determine the global minimum and maximum values across both matrices\n",
    "vmin = min(matrix_mu.min(), matrix_nu.min())\n",
    "vmax = max(matrix_mu.max(), matrix_nu.max())\n",
    "\n",
    "# Create a figure and a set of subplots\n",
    "fig, axs = plt.subplots(1, 2, figsize=(20, 8))  # 1 row, 2 columns\n",
    "\n",
    "# First subplot for matrix_mu\n",
    "im_mu = axs[0].imshow(matrix_mu, cmap='viridis', vmin=vmin, vmax=vmax)\n",
    "axs[0].set_title(\"Heatmap of $\\mu$\")\n",
    "\n",
    "# Second subplot for matrix_nu\n",
    "im_nu = axs[1].imshow(matrix_nu, cmap='viridis', vmin=vmin, vmax=vmax)\n",
    "axs[1].set_title(\"Heatmap of $\\\\nu$\")\n",
    "\n",
    "# Create a colorbar for the whole figure\n",
    "fig.colorbar(im_mu, ax=axs, orientation='vertical')\n",
    "\n",
    "# Display the plots\n",
    "plt.show()"
   ]
  },
  {
   "cell_type": "code",
   "execution_count": null,
   "metadata": {},
   "outputs": [],
   "source": [
    "row_num  = 16\n",
    "\n",
    "# Interleave rows\n",
    "combined = pd.concat([factual.head(row_num), counterfactual.head(row_num)]).sort_index(kind='merge')\n",
    "\n",
    "# Define formatters for specific columns\n",
    "formatters = {\n",
    "    \"Risk\": lambda x: f\"{x:.4f}\"\n",
    "}\n",
    "\n",
    "\n",
    "# Convert to LaTeX\n",
    "latex_code = combined.to_latex(index=False, formatters=formatters, \n",
    "                               caption=\"[\\\\textit{{German-Credit}}] Data points of factual and counterfactual distributions.\", label=\"tab:german-credit\")\n",
    "\n",
    "print(latex_code)"
   ]
  }
 ],
 "metadata": {
  "kernelspec": {
   "display_name": "base",
   "language": "python",
   "name": "python3"
  },
  "language_info": {
   "codemirror_mode": {
    "name": "ipython",
    "version": 3
   },
   "file_extension": ".py",
   "mimetype": "text/x-python",
   "name": "python",
   "nbconvert_exporter": "python",
   "pygments_lexer": "ipython3",
   "version": "3.9.13"
  }
 },
 "nbformat": 4,
 "nbformat_minor": 2
}
