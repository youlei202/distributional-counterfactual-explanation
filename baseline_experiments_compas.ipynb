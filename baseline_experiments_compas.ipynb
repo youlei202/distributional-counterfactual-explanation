{
 "cells": [
  {
   "cell_type": "code",
   "execution_count": 99,
   "metadata": {},
   "outputs": [],
   "source": [
    "import pandas as pd\n",
    "import numpy as np\n",
    "import seaborn as sns\n",
    "import matplotlib.pyplot as plt\n",
    "\n",
    "import torch.optim as optim\n",
    "from sklearn.model_selection import train_test_split\n",
    "import torch\n",
    "import torch.nn as nn\n",
    "\n",
    "from sklearn.preprocessing import LabelEncoder\n",
    "\n",
    "from models.mlp import BlackBoxModel\n",
    "from models.rbf import RBFNet\n",
    "from models.svm import LinearSVM\n",
    "from utils.datasets import dataset_loader\n",
    "\n",
    "pd.set_option('display.max_columns', None)\n",
    "\n",
    "%reload_ext autoreload\n",
    "%autoreload 2"
   ]
  },
  {
   "cell_type": "code",
   "execution_count": 100,
   "metadata": {},
   "outputs": [],
   "source": [
    "def bold(string):\n",
    "    return \"\\033[1m\" + string + \"\\033[0m\""
   ]
  },
  {
   "cell_type": "code",
   "execution_count": 101,
   "metadata": {},
   "outputs": [],
   "source": [
    "name = 'compas'\n",
    "dropped_features = []#UCIDatasets().continuous_features[dataset]\n",
    "dataset = dataset_loader(name, dropped_features=dropped_features, n_bins=None)"
   ]
  },
  {
   "cell_type": "code",
   "execution_count": 102,
   "metadata": {},
   "outputs": [
    {
     "data": {
      "text/html": [
       "<div>\n",
       "<style scoped>\n",
       "    .dataframe tbody tr th:only-of-type {\n",
       "        vertical-align: middle;\n",
       "    }\n",
       "\n",
       "    .dataframe tbody tr th {\n",
       "        vertical-align: top;\n",
       "    }\n",
       "\n",
       "    .dataframe thead th {\n",
       "        text-align: right;\n",
       "    }\n",
       "</style>\n",
       "<table border=\"1\" class=\"dataframe\">\n",
       "  <thead>\n",
       "    <tr style=\"text-align: right;\">\n",
       "      <th></th>\n",
       "      <th>Sex = Female</th>\n",
       "      <th>Sex = Male</th>\n",
       "      <th>Age_Cat = Less than 25</th>\n",
       "      <th>Age_Cat = 25 - 45</th>\n",
       "      <th>Age_Cat = Greater than 45</th>\n",
       "      <th>Race = African-American</th>\n",
       "      <th>Race = Asian</th>\n",
       "      <th>Race = Caucasian</th>\n",
       "      <th>Race = Hispanic</th>\n",
       "      <th>Race = Native American</th>\n",
       "      <th>Race = Other</th>\n",
       "      <th>C_Charge_Degree = F</th>\n",
       "      <th>C_Charge_Degree = M</th>\n",
       "      <th>Priors_Count</th>\n",
       "      <th>Time_Served</th>\n",
       "      <th>Status</th>\n",
       "    </tr>\n",
       "  </thead>\n",
       "  <tbody>\n",
       "    <tr>\n",
       "      <th>0</th>\n",
       "      <td>0</td>\n",
       "      <td>1</td>\n",
       "      <td>0</td>\n",
       "      <td>0</td>\n",
       "      <td>1</td>\n",
       "      <td>0</td>\n",
       "      <td>0</td>\n",
       "      <td>0</td>\n",
       "      <td>0</td>\n",
       "      <td>0</td>\n",
       "      <td>1</td>\n",
       "      <td>1</td>\n",
       "      <td>0</td>\n",
       "      <td>0</td>\n",
       "      <td>0</td>\n",
       "      <td>1</td>\n",
       "    </tr>\n",
       "    <tr>\n",
       "      <th>1</th>\n",
       "      <td>0</td>\n",
       "      <td>1</td>\n",
       "      <td>0</td>\n",
       "      <td>1</td>\n",
       "      <td>0</td>\n",
       "      <td>1</td>\n",
       "      <td>0</td>\n",
       "      <td>0</td>\n",
       "      <td>0</td>\n",
       "      <td>0</td>\n",
       "      <td>0</td>\n",
       "      <td>1</td>\n",
       "      <td>0</td>\n",
       "      <td>0</td>\n",
       "      <td>10</td>\n",
       "      <td>0</td>\n",
       "    </tr>\n",
       "    <tr>\n",
       "      <th>2</th>\n",
       "      <td>0</td>\n",
       "      <td>1</td>\n",
       "      <td>1</td>\n",
       "      <td>0</td>\n",
       "      <td>0</td>\n",
       "      <td>1</td>\n",
       "      <td>0</td>\n",
       "      <td>0</td>\n",
       "      <td>0</td>\n",
       "      <td>0</td>\n",
       "      <td>0</td>\n",
       "      <td>1</td>\n",
       "      <td>0</td>\n",
       "      <td>4</td>\n",
       "      <td>1</td>\n",
       "      <td>0</td>\n",
       "    </tr>\n",
       "    <tr>\n",
       "      <th>3</th>\n",
       "      <td>0</td>\n",
       "      <td>1</td>\n",
       "      <td>0</td>\n",
       "      <td>1</td>\n",
       "      <td>0</td>\n",
       "      <td>0</td>\n",
       "      <td>0</td>\n",
       "      <td>0</td>\n",
       "      <td>0</td>\n",
       "      <td>0</td>\n",
       "      <td>1</td>\n",
       "      <td>0</td>\n",
       "      <td>1</td>\n",
       "      <td>0</td>\n",
       "      <td>1</td>\n",
       "      <td>1</td>\n",
       "    </tr>\n",
       "    <tr>\n",
       "      <th>4</th>\n",
       "      <td>0</td>\n",
       "      <td>1</td>\n",
       "      <td>0</td>\n",
       "      <td>1</td>\n",
       "      <td>0</td>\n",
       "      <td>0</td>\n",
       "      <td>0</td>\n",
       "      <td>1</td>\n",
       "      <td>0</td>\n",
       "      <td>0</td>\n",
       "      <td>0</td>\n",
       "      <td>1</td>\n",
       "      <td>0</td>\n",
       "      <td>14</td>\n",
       "      <td>6</td>\n",
       "      <td>0</td>\n",
       "    </tr>\n",
       "    <tr>\n",
       "      <th>...</th>\n",
       "      <td>...</td>\n",
       "      <td>...</td>\n",
       "      <td>...</td>\n",
       "      <td>...</td>\n",
       "      <td>...</td>\n",
       "      <td>...</td>\n",
       "      <td>...</td>\n",
       "      <td>...</td>\n",
       "      <td>...</td>\n",
       "      <td>...</td>\n",
       "      <td>...</td>\n",
       "      <td>...</td>\n",
       "      <td>...</td>\n",
       "      <td>...</td>\n",
       "      <td>...</td>\n",
       "      <td>...</td>\n",
       "    </tr>\n",
       "    <tr>\n",
       "      <th>6167</th>\n",
       "      <td>0</td>\n",
       "      <td>1</td>\n",
       "      <td>1</td>\n",
       "      <td>0</td>\n",
       "      <td>0</td>\n",
       "      <td>1</td>\n",
       "      <td>0</td>\n",
       "      <td>0</td>\n",
       "      <td>0</td>\n",
       "      <td>0</td>\n",
       "      <td>0</td>\n",
       "      <td>1</td>\n",
       "      <td>0</td>\n",
       "      <td>0</td>\n",
       "      <td>1</td>\n",
       "      <td>1</td>\n",
       "    </tr>\n",
       "    <tr>\n",
       "      <th>6168</th>\n",
       "      <td>0</td>\n",
       "      <td>1</td>\n",
       "      <td>1</td>\n",
       "      <td>0</td>\n",
       "      <td>0</td>\n",
       "      <td>1</td>\n",
       "      <td>0</td>\n",
       "      <td>0</td>\n",
       "      <td>0</td>\n",
       "      <td>0</td>\n",
       "      <td>0</td>\n",
       "      <td>1</td>\n",
       "      <td>0</td>\n",
       "      <td>0</td>\n",
       "      <td>1</td>\n",
       "      <td>1</td>\n",
       "    </tr>\n",
       "    <tr>\n",
       "      <th>6169</th>\n",
       "      <td>0</td>\n",
       "      <td>1</td>\n",
       "      <td>0</td>\n",
       "      <td>0</td>\n",
       "      <td>1</td>\n",
       "      <td>0</td>\n",
       "      <td>0</td>\n",
       "      <td>0</td>\n",
       "      <td>0</td>\n",
       "      <td>0</td>\n",
       "      <td>1</td>\n",
       "      <td>1</td>\n",
       "      <td>0</td>\n",
       "      <td>0</td>\n",
       "      <td>1</td>\n",
       "      <td>1</td>\n",
       "    </tr>\n",
       "    <tr>\n",
       "      <th>6170</th>\n",
       "      <td>1</td>\n",
       "      <td>0</td>\n",
       "      <td>0</td>\n",
       "      <td>1</td>\n",
       "      <td>0</td>\n",
       "      <td>1</td>\n",
       "      <td>0</td>\n",
       "      <td>0</td>\n",
       "      <td>0</td>\n",
       "      <td>0</td>\n",
       "      <td>0</td>\n",
       "      <td>0</td>\n",
       "      <td>1</td>\n",
       "      <td>3</td>\n",
       "      <td>1</td>\n",
       "      <td>1</td>\n",
       "    </tr>\n",
       "    <tr>\n",
       "      <th>6171</th>\n",
       "      <td>1</td>\n",
       "      <td>0</td>\n",
       "      <td>1</td>\n",
       "      <td>0</td>\n",
       "      <td>0</td>\n",
       "      <td>0</td>\n",
       "      <td>0</td>\n",
       "      <td>0</td>\n",
       "      <td>1</td>\n",
       "      <td>0</td>\n",
       "      <td>0</td>\n",
       "      <td>1</td>\n",
       "      <td>0</td>\n",
       "      <td>2</td>\n",
       "      <td>1</td>\n",
       "      <td>0</td>\n",
       "    </tr>\n",
       "  </tbody>\n",
       "</table>\n",
       "<p>6172 rows × 16 columns</p>\n",
       "</div>"
      ],
      "text/plain": [
       "      Sex = Female  Sex = Male  Age_Cat = Less than 25  Age_Cat = 25 - 45  \\\n",
       "0                0           1                       0                  0   \n",
       "1                0           1                       0                  1   \n",
       "2                0           1                       1                  0   \n",
       "3                0           1                       0                  1   \n",
       "4                0           1                       0                  1   \n",
       "...            ...         ...                     ...                ...   \n",
       "6167             0           1                       1                  0   \n",
       "6168             0           1                       1                  0   \n",
       "6169             0           1                       0                  0   \n",
       "6170             1           0                       0                  1   \n",
       "6171             1           0                       1                  0   \n",
       "\n",
       "      Age_Cat = Greater than 45  Race = African-American  Race = Asian  \\\n",
       "0                             1                        0             0   \n",
       "1                             0                        1             0   \n",
       "2                             0                        1             0   \n",
       "3                             0                        0             0   \n",
       "4                             0                        0             0   \n",
       "...                         ...                      ...           ...   \n",
       "6167                          0                        1             0   \n",
       "6168                          0                        1             0   \n",
       "6169                          1                        0             0   \n",
       "6170                          0                        1             0   \n",
       "6171                          0                        0             0   \n",
       "\n",
       "      Race = Caucasian  Race = Hispanic  Race = Native American  Race = Other  \\\n",
       "0                    0                0                       0             1   \n",
       "1                    0                0                       0             0   \n",
       "2                    0                0                       0             0   \n",
       "3                    0                0                       0             1   \n",
       "4                    1                0                       0             0   \n",
       "...                ...              ...                     ...           ...   \n",
       "6167                 0                0                       0             0   \n",
       "6168                 0                0                       0             0   \n",
       "6169                 0                0                       0             1   \n",
       "6170                 0                0                       0             0   \n",
       "6171                 0                1                       0             0   \n",
       "\n",
       "      C_Charge_Degree = F  C_Charge_Degree = M  Priors_Count  Time_Served  \\\n",
       "0                       1                    0             0            0   \n",
       "1                       1                    0             0           10   \n",
       "2                       1                    0             4            1   \n",
       "3                       0                    1             0            1   \n",
       "4                       1                    0            14            6   \n",
       "...                   ...                  ...           ...          ...   \n",
       "6167                    1                    0             0            1   \n",
       "6168                    1                    0             0            1   \n",
       "6169                    1                    0             0            1   \n",
       "6170                    0                    1             3            1   \n",
       "6171                    1                    0             2            1   \n",
       "\n",
       "      Status  \n",
       "0          1  \n",
       "1          0  \n",
       "2          0  \n",
       "3          1  \n",
       "4          0  \n",
       "...      ...  \n",
       "6167       1  \n",
       "6168       1  \n",
       "6169       1  \n",
       "6170       1  \n",
       "6171       0  \n",
       "\n",
       "[6172 rows x 16 columns]"
      ]
     },
     "execution_count": 102,
     "metadata": {},
     "output_type": "execute_result"
    }
   ],
   "source": [
    "dataset.data"
   ]
  },
  {
   "cell_type": "code",
   "execution_count": 103,
   "metadata": {},
   "outputs": [
    {
     "name": "stdout",
     "output_type": "stream",
     "text": [
      "\u001b[1mProportion of 1s in Training Data:\u001b[0m 54.53%\n"
     ]
    }
   ],
   "source": [
    "X_train, y_train, X_test, y_test, mean, std = dataset.get_split(normalise=False, shuffle=False,\n",
    "                                                                     return_mean_std=True)\n",
    "prop1s = round(np.average(y_train)*100, 2)\n",
    "print(bold(\"Proportion of 1s in Training Data:\") + \" {}%\".format(prop1s))"
   ]
  },
  {
   "cell_type": "code",
   "execution_count": 104,
   "metadata": {},
   "outputs": [
    {
     "name": "stdout",
     "output_type": "stream",
     "text": [
      "\u001b[1mDataset:\u001b[0m Compas\n",
      "\n"
     ]
    },
    {
     "data": {
      "text/html": [
       "<div>\n",
       "<style scoped>\n",
       "    .dataframe tbody tr th:only-of-type {\n",
       "        vertical-align: middle;\n",
       "    }\n",
       "\n",
       "    .dataframe tbody tr th {\n",
       "        vertical-align: top;\n",
       "    }\n",
       "\n",
       "    .dataframe thead th {\n",
       "        text-align: right;\n",
       "    }\n",
       "</style>\n",
       "<table border=\"1\" class=\"dataframe\">\n",
       "  <thead>\n",
       "    <tr style=\"text-align: right;\">\n",
       "      <th></th>\n",
       "      <th>Sex = Female</th>\n",
       "      <th>Sex = Male</th>\n",
       "      <th>Age_Cat = Less than 25</th>\n",
       "      <th>Age_Cat = 25 - 45</th>\n",
       "      <th>Age_Cat = Greater than 45</th>\n",
       "      <th>Race = African-American</th>\n",
       "      <th>Race = Asian</th>\n",
       "      <th>Race = Caucasian</th>\n",
       "      <th>Race = Hispanic</th>\n",
       "      <th>Race = Native American</th>\n",
       "      <th>Race = Other</th>\n",
       "      <th>C_Charge_Degree = F</th>\n",
       "      <th>C_Charge_Degree = M</th>\n",
       "      <th>Priors_Count</th>\n",
       "      <th>Time_Served</th>\n",
       "    </tr>\n",
       "  </thead>\n",
       "  <tbody>\n",
       "    <tr>\n",
       "      <th>0</th>\n",
       "      <td>0</td>\n",
       "      <td>1</td>\n",
       "      <td>0</td>\n",
       "      <td>0</td>\n",
       "      <td>1</td>\n",
       "      <td>0</td>\n",
       "      <td>0</td>\n",
       "      <td>0</td>\n",
       "      <td>0</td>\n",
       "      <td>0</td>\n",
       "      <td>1</td>\n",
       "      <td>1</td>\n",
       "      <td>0</td>\n",
       "      <td>0</td>\n",
       "      <td>0</td>\n",
       "    </tr>\n",
       "    <tr>\n",
       "      <th>1</th>\n",
       "      <td>0</td>\n",
       "      <td>1</td>\n",
       "      <td>0</td>\n",
       "      <td>1</td>\n",
       "      <td>0</td>\n",
       "      <td>1</td>\n",
       "      <td>0</td>\n",
       "      <td>0</td>\n",
       "      <td>0</td>\n",
       "      <td>0</td>\n",
       "      <td>0</td>\n",
       "      <td>1</td>\n",
       "      <td>0</td>\n",
       "      <td>0</td>\n",
       "      <td>10</td>\n",
       "    </tr>\n",
       "    <tr>\n",
       "      <th>2</th>\n",
       "      <td>0</td>\n",
       "      <td>1</td>\n",
       "      <td>1</td>\n",
       "      <td>0</td>\n",
       "      <td>0</td>\n",
       "      <td>1</td>\n",
       "      <td>0</td>\n",
       "      <td>0</td>\n",
       "      <td>0</td>\n",
       "      <td>0</td>\n",
       "      <td>0</td>\n",
       "      <td>1</td>\n",
       "      <td>0</td>\n",
       "      <td>4</td>\n",
       "      <td>1</td>\n",
       "    </tr>\n",
       "    <tr>\n",
       "      <th>3</th>\n",
       "      <td>0</td>\n",
       "      <td>1</td>\n",
       "      <td>0</td>\n",
       "      <td>1</td>\n",
       "      <td>0</td>\n",
       "      <td>0</td>\n",
       "      <td>0</td>\n",
       "      <td>0</td>\n",
       "      <td>0</td>\n",
       "      <td>0</td>\n",
       "      <td>1</td>\n",
       "      <td>0</td>\n",
       "      <td>1</td>\n",
       "      <td>0</td>\n",
       "      <td>1</td>\n",
       "    </tr>\n",
       "    <tr>\n",
       "      <th>4</th>\n",
       "      <td>0</td>\n",
       "      <td>1</td>\n",
       "      <td>0</td>\n",
       "      <td>1</td>\n",
       "      <td>0</td>\n",
       "      <td>0</td>\n",
       "      <td>0</td>\n",
       "      <td>1</td>\n",
       "      <td>0</td>\n",
       "      <td>0</td>\n",
       "      <td>0</td>\n",
       "      <td>1</td>\n",
       "      <td>0</td>\n",
       "      <td>14</td>\n",
       "      <td>6</td>\n",
       "    </tr>\n",
       "    <tr>\n",
       "      <th>...</th>\n",
       "      <td>...</td>\n",
       "      <td>...</td>\n",
       "      <td>...</td>\n",
       "      <td>...</td>\n",
       "      <td>...</td>\n",
       "      <td>...</td>\n",
       "      <td>...</td>\n",
       "      <td>...</td>\n",
       "      <td>...</td>\n",
       "      <td>...</td>\n",
       "      <td>...</td>\n",
       "      <td>...</td>\n",
       "      <td>...</td>\n",
       "      <td>...</td>\n",
       "      <td>...</td>\n",
       "    </tr>\n",
       "    <tr>\n",
       "      <th>4932</th>\n",
       "      <td>0</td>\n",
       "      <td>1</td>\n",
       "      <td>0</td>\n",
       "      <td>1</td>\n",
       "      <td>0</td>\n",
       "      <td>1</td>\n",
       "      <td>0</td>\n",
       "      <td>0</td>\n",
       "      <td>0</td>\n",
       "      <td>0</td>\n",
       "      <td>0</td>\n",
       "      <td>1</td>\n",
       "      <td>0</td>\n",
       "      <td>7</td>\n",
       "      <td>58</td>\n",
       "    </tr>\n",
       "    <tr>\n",
       "      <th>4933</th>\n",
       "      <td>0</td>\n",
       "      <td>1</td>\n",
       "      <td>0</td>\n",
       "      <td>1</td>\n",
       "      <td>0</td>\n",
       "      <td>0</td>\n",
       "      <td>0</td>\n",
       "      <td>1</td>\n",
       "      <td>0</td>\n",
       "      <td>0</td>\n",
       "      <td>0</td>\n",
       "      <td>1</td>\n",
       "      <td>0</td>\n",
       "      <td>7</td>\n",
       "      <td>43</td>\n",
       "    </tr>\n",
       "    <tr>\n",
       "      <th>4934</th>\n",
       "      <td>0</td>\n",
       "      <td>1</td>\n",
       "      <td>1</td>\n",
       "      <td>0</td>\n",
       "      <td>0</td>\n",
       "      <td>0</td>\n",
       "      <td>0</td>\n",
       "      <td>1</td>\n",
       "      <td>0</td>\n",
       "      <td>0</td>\n",
       "      <td>0</td>\n",
       "      <td>1</td>\n",
       "      <td>0</td>\n",
       "      <td>1</td>\n",
       "      <td>11</td>\n",
       "    </tr>\n",
       "    <tr>\n",
       "      <th>4935</th>\n",
       "      <td>1</td>\n",
       "      <td>0</td>\n",
       "      <td>0</td>\n",
       "      <td>0</td>\n",
       "      <td>1</td>\n",
       "      <td>0</td>\n",
       "      <td>0</td>\n",
       "      <td>1</td>\n",
       "      <td>0</td>\n",
       "      <td>0</td>\n",
       "      <td>0</td>\n",
       "      <td>0</td>\n",
       "      <td>1</td>\n",
       "      <td>0</td>\n",
       "      <td>0</td>\n",
       "    </tr>\n",
       "    <tr>\n",
       "      <th>4936</th>\n",
       "      <td>0</td>\n",
       "      <td>1</td>\n",
       "      <td>0</td>\n",
       "      <td>1</td>\n",
       "      <td>0</td>\n",
       "      <td>0</td>\n",
       "      <td>0</td>\n",
       "      <td>1</td>\n",
       "      <td>0</td>\n",
       "      <td>0</td>\n",
       "      <td>0</td>\n",
       "      <td>0</td>\n",
       "      <td>1</td>\n",
       "      <td>5</td>\n",
       "      <td>0</td>\n",
       "    </tr>\n",
       "  </tbody>\n",
       "</table>\n",
       "<p>4937 rows × 15 columns</p>\n",
       "</div>"
      ],
      "text/plain": [
       "      Sex = Female  Sex = Male  Age_Cat = Less than 25  Age_Cat = 25 - 45  \\\n",
       "0                0           1                       0                  0   \n",
       "1                0           1                       0                  1   \n",
       "2                0           1                       1                  0   \n",
       "3                0           1                       0                  1   \n",
       "4                0           1                       0                  1   \n",
       "...            ...         ...                     ...                ...   \n",
       "4932             0           1                       0                  1   \n",
       "4933             0           1                       0                  1   \n",
       "4934             0           1                       1                  0   \n",
       "4935             1           0                       0                  0   \n",
       "4936             0           1                       0                  1   \n",
       "\n",
       "      Age_Cat = Greater than 45  Race = African-American  Race = Asian  \\\n",
       "0                             1                        0             0   \n",
       "1                             0                        1             0   \n",
       "2                             0                        1             0   \n",
       "3                             0                        0             0   \n",
       "4                             0                        0             0   \n",
       "...                         ...                      ...           ...   \n",
       "4932                          0                        1             0   \n",
       "4933                          0                        0             0   \n",
       "4934                          0                        0             0   \n",
       "4935                          1                        0             0   \n",
       "4936                          0                        0             0   \n",
       "\n",
       "      Race = Caucasian  Race = Hispanic  Race = Native American  Race = Other  \\\n",
       "0                    0                0                       0             1   \n",
       "1                    0                0                       0             0   \n",
       "2                    0                0                       0             0   \n",
       "3                    0                0                       0             1   \n",
       "4                    1                0                       0             0   \n",
       "...                ...              ...                     ...           ...   \n",
       "4932                 0                0                       0             0   \n",
       "4933                 1                0                       0             0   \n",
       "4934                 1                0                       0             0   \n",
       "4935                 1                0                       0             0   \n",
       "4936                 1                0                       0             0   \n",
       "\n",
       "      C_Charge_Degree = F  C_Charge_Degree = M  Priors_Count  Time_Served  \n",
       "0                       1                    0             0            0  \n",
       "1                       1                    0             0           10  \n",
       "2                       1                    0             4            1  \n",
       "3                       0                    1             0            1  \n",
       "4                       1                    0            14            6  \n",
       "...                   ...                  ...           ...          ...  \n",
       "4932                    1                    0             7           58  \n",
       "4933                    1                    0             7           43  \n",
       "4934                    1                    0             1           11  \n",
       "4935                    0                    1             0            0  \n",
       "4936                    0                    1             5            0  \n",
       "\n",
       "[4937 rows x 15 columns]"
      ]
     },
     "execution_count": 104,
     "metadata": {},
     "output_type": "execute_result"
    }
   ],
   "source": [
    "X = pd.DataFrame(X_train)\n",
    "X.columns = dataset.features[:-1]\n",
    "X_train = pd.DataFrame(X_train)\n",
    "X_train.columns = dataset.features[:-1]\n",
    "X_test = pd.DataFrame(X_test)\n",
    "X_test.columns = dataset.features[:-1]\n",
    "y_train = pd.DataFrame(y_train)\n",
    "y_test = pd.DataFrame(y_test)\n",
    "print(bold(\"Dataset:\") + \" {}\\n\".format(name.replace('_', ' ').title()))\n",
    "X"
   ]
  },
  {
   "cell_type": "code",
   "execution_count": 105,
   "metadata": {},
   "outputs": [],
   "source": [
    "# B_name = 'dnn'  # 'lr' or 'dnn' or 'xgb'\n",
    "# if B_name == 'dnn':\n",
    "#     from models.models_global_ce import dnn_normalisers as normalisers\n",
    "# elif B_name == 'lr':\n",
    "#     from models.models_global_ce import lr_normalisers as normalisers\n",
    "# else:  # no xgb normalisation\n",
    "#     normalisers = {name: False}\n",
    "# normalise = [mean, std] if normalisers[name] else None"
   ]
  },
  {
   "cell_type": "code",
   "execution_count": 106,
   "metadata": {},
   "outputs": [],
   "source": [
    "# import pickle\n",
    "# with open('data/models_global_ce/{}_{}.pkl'.format(name, B_name), 'rb') as f:\n",
    "#     B = pickle.load(f)"
   ]
  },
  {
   "cell_type": "code",
   "execution_count": 107,
   "metadata": {},
   "outputs": [],
   "source": [
    "# print(bold(\"Dataset:\") + \" {}\".format(name.replace('_', ' ').title()))\n",
    "# print(bold(\"Model:\") + \" {}\\n\".format(B_name.replace('_', ' ').upper()))\n",
    "# performance(B, x_train, x_test, y_train, y_test, normalise=normalise)"
   ]
  },
  {
   "cell_type": "code",
   "execution_count": 108,
   "metadata": {},
   "outputs": [],
   "source": [
    "target_name = 'Status'"
   ]
  },
  {
   "cell_type": "code",
   "execution_count": 109,
   "metadata": {},
   "outputs": [
    {
     "data": {
      "text/plain": [
       "0.6469635367393494"
      ]
     },
     "execution_count": 109,
     "metadata": {},
     "output_type": "execute_result"
    }
   ],
   "source": [
    "seed = 42\n",
    "\n",
    "np.random.seed(seed)  # for reproducibility\n",
    "\n",
    "\n",
    "std = X_train.std()\n",
    "mean = X_train.mean()\n",
    "\n",
    "for col in ['Priors_Count', 'Time_Served']:\n",
    "    X_train[col] = (X_train[col] - X_train[col].mean()) / X_train[col].std()\n",
    "    X_test[col] = (X_test[col] - X_test[col].mean()) / X_test[col].std()\n",
    "\n",
    "X_train, X_test, y_train, y_test = X_train.values, X_test.values, y_train.values, y_test.values\n",
    "\n",
    "# Convert to PyTorch tensors\n",
    "X_train_tensor = torch.FloatTensor(X_train)\n",
    "y_train_tensor = torch.FloatTensor(y_train).view(-1, 1)\n",
    "X_test_tensor = torch.FloatTensor(X_test)\n",
    "y_test_tensor = torch.FloatTensor(y_test).view(-1, 1)\n",
    "\n",
    "# Initialize the model, loss function, and optimizer\n",
    "# model = BlackBoxModel(input_dim=X_train.shape[1])\n",
    "# model = RBFNet(input_dim=X_train.shape[1], hidden_dim=X_train.shape[1])\n",
    "model = LinearSVM(input_dim=X_train.shape[1])\n",
    "\n",
    "criterion = nn.MSELoss()\n",
    "optimizer = optim.Adam(model.parameters(), lr=0.01)\n",
    "\n",
    "# Training loop\n",
    "num_epochs = 300\n",
    "for epoch in range(num_epochs):\n",
    "    # Forward pass\n",
    "    outputs = model(X_train_tensor)\n",
    "    loss = criterion(outputs, y_train_tensor)\n",
    "    \n",
    "    # Backward pass and optimization\n",
    "    optimizer.zero_grad()\n",
    "    loss.backward()\n",
    "    optimizer.step()\n",
    "\n",
    "# Evaluate on test set\n",
    "model.eval()\n",
    "with torch.no_grad():\n",
    "    test_outputs = model(X_test_tensor)\n",
    "    test_loss = criterion(test_outputs, y_test_tensor)\n",
    "\n",
    "    # Convert outputs to binary using 0.5 as threshold\n",
    "    y_pred_tensor = (test_outputs > 0.5).float()\n",
    "    correct_predictions = (y_pred_tensor == y_test_tensor).float().sum()\n",
    "    accuracy = correct_predictions / y_test_tensor.shape[0]\n",
    "\n",
    "accuracy.item()"
   ]
  },
  {
   "cell_type": "code",
   "execution_count": 110,
   "metadata": {},
   "outputs": [
    {
     "name": "stderr",
     "output_type": "stream",
     "text": [
      "C:\\Users\\leiyo\\AppData\\Local\\Temp\\ipykernel_35752\\2639269771.py:5: FutureWarning: pandas.Int64Index is deprecated and will be removed from pandas in a future version. Use pandas.Index with the appropriate dtype instead.\n",
      "  indice = pd.Int64Index([ 753,  582,  548,  113,  174,  420,  309,  998,  413, 1054, 1171,\n"
     ]
    }
   ],
   "source": [
    "sample_num = 100\n",
    "X_test = pd.DataFrame(X_test, columns=X.columns)\n",
    "# indice = (X_test.sample(sample_num)).index\n",
    "\n",
    "# Fixing the indice for test purpose\n",
    "indice = pd.Int64Index([ 753,  582,  548,  113,  174,  420,  309,  998,  413, 1054, 1171,\n",
    "             275,  771, 1135,  415,  478,  609,  168,  332,  933,  490,  906,\n",
    "            1073,  128,  107, 1136,   43, 1168,  327,  610,  596,  631, 1205,\n",
    "             534,  597,  220,  911,  198,  743,  985,  231,  865, 1088,  715,\n",
    "             306,  101,  438,   78, 1223,   49,  936,  736,  243,  868, 1096,\n",
    "             937,  381,  767,   63,  323,   44,  943, 1098,  482,  575,  254,\n",
    "             529,  286,  992,  123,   76,  218, 1110,  545,  292,  701, 1226,\n",
    "             844,  363,  811,  754,  266,  904,  958,  590, 1222,  233,   70,\n",
    "             566,   23,  155,  707,   58,  428, 1008, 1057,  342,  629,   81,\n",
    "            1127],\n",
    "           dtype='int64')\n",
    "\n",
    "\n",
    "df_explain = X_test.loc[indice]\n",
    "\n",
    "# y_target = torch.distributions.beta.Beta(0.1, 0.9).sample((sample_num,))\n",
    "y_test = pd.Series(y_test.reshape(-1))\n",
    "y_true = y_test.loc[indice]\n",
    "\n",
    "y = model(torch.FloatTensor(df_explain.values))"
   ]
  },
  {
   "cell_type": "code",
   "execution_count": 111,
   "metadata": {},
   "outputs": [],
   "source": [
    "def postprocessing(counterfactual_X):\n",
    "\n",
    "    prior_count_col = counterfactual_X['Priors_Count']\n",
    "    time_served_col = counterfactual_X['Time_Served']\n",
    "    counterfactual_X = (counterfactual_X>0.5).replace({False:0 ,True:1})\n",
    "    counterfactual_X['Priors_Count'] = prior_count_col\n",
    "    counterfactual_X['Time_Served'] = time_served_col\n",
    "    \n",
    "    return counterfactual_X"
   ]
  },
  {
   "cell_type": "markdown",
   "metadata": {},
   "source": [
    "## GLOBE_CE"
   ]
  },
  {
   "cell_type": "code",
   "execution_count": 112,
   "metadata": {},
   "outputs": [],
   "source": [
    "from explainers.globe_ce import GLOBE_CE"
   ]
  },
  {
   "cell_type": "code",
   "execution_count": 113,
   "metadata": {},
   "outputs": [],
   "source": [
    "normalise = None\n",
    "\n",
    "# AReS initiated to determine bin widths for costs\n",
    "from explainers.ares import AReS\n",
    "ares = AReS(model=model, dataset=dataset, X=dataset.data.drop(target_name,axis=1), n_bins=10, normalise=normalise)  # 1MB\n",
    "bin_widths = ares.bin_widths"
   ]
  },
  {
   "cell_type": "code",
   "execution_count": 114,
   "metadata": {},
   "outputs": [],
   "source": [
    "# example of ordinal features usage\n",
    "ordinal_features = ['Present-Employment'] if name == 'german_credit' else []\n",
    "# initialise GLOBE_CE\n",
    "globe_ce = GLOBE_CE(model=model, dataset=dataset, X=df_explain, affected_subgroup=None,\n",
    "                    dropped_features=dropped_features, ordinal_features=ordinal_features, delta_init='zeros',\n",
    "                    normalise=normalise, bin_widths=bin_widths, monotonicity=None, p=1)"
   ]
  },
  {
   "cell_type": "code",
   "execution_count": 115,
   "metadata": {},
   "outputs": [
    {
     "name": "stderr",
     "output_type": "stream",
     "text": [
      "100%|██████████| 100/100 [00:00<00:00, 3036.62it/s]\n"
     ]
    },
    {
     "data": {
      "image/png": "[encoded data removed]",
      "text/plain": [
       "<Figure size 2200x600 with 3 Axes>"
      ]
     },
     "metadata": {},
     "output_type": "display_data"
    }
   ],
   "source": [
    "globe_ce.sample(n_sample=sample_num, magnitude=2, sparsity_power=1,  # magnitude is the fixed cost sampled at\n",
    "                idxs=None, n_features=5, disable_tqdm=False,  # 2 random features chosen at each sample, no sparsity smoothing (p=1)\n",
    "                plot=True, seed=0, scheme='random', dropped_features=dropped_features)\n",
    "delta = globe_ce.best_delta  # pick best delta\n",
    "globe_ce.select_n_deltas(n_div=3)"
   ]
  },
  {
   "cell_type": "code",
   "execution_count": 116,
   "metadata": {},
   "outputs": [
    {
     "data": {
      "image/png": "[encoded data removed]",
      "text/plain": [
       "<Figure size 1800x450 with 3 Axes>"
      ]
     },
     "metadata": {},
     "output_type": "display_data"
    }
   ],
   "source": [
    "fig, ax = plt.subplots(nrows=1, ncols=globe_ce.deltas_div.shape[0], dpi=150)\n",
    "fig.set_figwidth(12)\n",
    "fig.set_figheight(3)\n",
    "plt.subplots_adjust(wspace=0.3)\n",
    "for i in range(globe_ce.deltas_div.shape[0]):\n",
    "    delta_cost = globe_ce.deltas_div[i] * globe_ce.feature_costs_vector\n",
    "    cycle = plt.rcParams['axes.prop_cycle'].by_key()['color']\n",
    "    j, k = 0, 0\n",
    "    for feature in globe_ce.features_tree:\n",
    "        if not globe_ce.features_tree[feature]:\n",
    "            ax[i].bar(range(j, j+1), delta_cost[j], hatch='/',\n",
    "                        linewidth=1, edgecolor='black', color=cycle[k%len(cycle)])\n",
    "            j += 1\n",
    "            k += 1\n",
    "        else:\n",
    "            feature_values = globe_ce.features_tree[feature]\n",
    "            n_f = len(feature_values)\n",
    "            ax[2].bar(range(j, j+n_f), delta_cost[j:j+n_f], color=cycle[k%len(cycle)])\n",
    "            j += n_f\n",
    "            k += 1\n",
    "    ax[i].set_title(f'Direction {i+1}')\n",
    "    ax[i].set_xlabel('Feature Index')\n",
    "    ax[i].set_ylabel('Cost')\n",
    "plt.show()"
   ]
  },
  {
   "cell_type": "code",
   "execution_count": 117,
   "metadata": {},
   "outputs": [
    {
     "name": "stderr",
     "output_type": "stream",
     "text": [
      "100%|██████████| 1000/1000 [00:00<00:00, 5102.96it/s]\n"
     ]
    },
    {
     "name": "stdout",
     "output_type": "stream",
     "text": [
      "\u001b[1mUnable to find recourse for 0/38 inputs\u001b[0m\n"
     ]
    },
    {
     "name": "stderr",
     "output_type": "stream",
     "text": [
      "100%|██████████| 1000/1000 [00:00<00:00, 5023.36it/s]\n"
     ]
    },
    {
     "name": "stdout",
     "output_type": "stream",
     "text": [
      "\u001b[1mUnable to find recourse for 0/38 inputs\u001b[0m\n"
     ]
    },
    {
     "name": "stderr",
     "output_type": "stream",
     "text": [
      "100%|██████████| 1000/1000 [00:00<00:00, 5018.15it/s]"
     ]
    },
    {
     "name": "stdout",
     "output_type": "stream",
     "text": [
      "\u001b[1mUnable to find recourse for 0/38 inputs\u001b[0m\n"
     ]
    },
    {
     "name": "stderr",
     "output_type": "stream",
     "text": [
      "\n"
     ]
    }
   ],
   "source": [
    "n_div = globe_ce.deltas_div.shape[0]\n",
    "min_costs = np.zeros((n_div, globe_ce.x_aff.shape[0]))\n",
    "min_costs_idxs = np.zeros((n_div, globe_ce.x_aff.shape[0]))\n",
    "for i in range(n_div):  # Algorithm 1, Line 2\n",
    "    cor_s, cos_s, k_s = globe_ce.scale(globe_ce.deltas_div[i], disable_tqdm=False, vector=True)  # Algorithm 1, Line 3\n",
    "    min_costs[i], min_costs_idxs[i] = globe_ce.min_scalar_costs(cos_s, return_idxs=True, inf=True)  # Implicitly computes Algorithm 1, Lines 4-6, returning minimum costs per input and their indices in the k vector\n",
    "    max_scalar_idxs = globe_ce.cluster_by_costs(cos_s, n_bins=5)\n",
    "min_costs = min_costs.min(axis=0)"
   ]
  },
  {
   "cell_type": "code",
   "execution_count": 118,
   "metadata": {},
   "outputs": [],
   "source": [
    "ces = globe_ce.round_categorical(globe_ce.x_aff+globe_ce.best_delta) if globe_ce.n_categorical else globe_ce.x_aff+globe_ce.best_delta\n",
    "counterfactual_X_global_ce = pd.DataFrame(ces, columns=X_test.columns)\n",
    "counterfactual_X_global_ce = postprocessing(counterfactual_X_global_ce)\n",
    "counterfactual_y_global_ce = model.predict(counterfactual_X_global_ce.values)"
   ]
  },
  {
   "cell_type": "code",
   "execution_count": 119,
   "metadata": {},
   "outputs": [
    {
     "name": "stdout",
     "output_type": "stream",
     "text": [
      "Coverage (Globe CE): 1.0\n"
     ]
    }
   ],
   "source": [
    "print('Coverage (Globe CE):', counterfactual_y_global_ce.sum()/len(counterfactual_y_global_ce))"
   ]
  },
  {
   "cell_type": "code",
   "execution_count": 120,
   "metadata": {},
   "outputs": [],
   "source": [
    "factual_X = pd.DataFrame(globe_ce.x_aff, columns=df_explain.columns)\n",
    "factual_y = model.predict(factual_X.values)"
   ]
  },
  {
   "cell_type": "code",
   "execution_count": 121,
   "metadata": {},
   "outputs": [],
   "source": [
    "y_target = torch.ones(factual_X.shape[0])"
   ]
  },
  {
   "cell_type": "code",
   "execution_count": 122,
   "metadata": {},
   "outputs": [],
   "source": [
    "costs_vector = globe_ce.feature_costs_vector"
   ]
  },
  {
   "cell_type": "markdown",
   "metadata": {},
   "source": [
    "## AReS"
   ]
  },
  {
   "cell_type": "code",
   "execution_count": 171,
   "metadata": {},
   "outputs": [],
   "source": [
    "# AReS initiated to determine bin widths for costs\n",
    "from explainers.ares import AReS\n",
    "ares = AReS(model=model, dataset=dataset, X=factual_X, n_bins=10, normalise=normalise)  # 1MB"
   ]
  },
  {
   "cell_type": "code",
   "execution_count": 173,
   "metadata": {},
   "outputs": [
    {
     "name": "stderr",
     "output_type": "stream",
     "text": [
      "C:\\Users\\leiyo\\AppData\\Roaming\\Python\\Python39\\site-packages\\mlxtend\\frequent_patterns\\fpcommon.py:109: DeprecationWarning: DataFrames with non-bool types result in worse computationalperformance and their support might be discontinued in the future.Please use a DataFrame with bool type\n",
      "  warnings.warn(\n"
     ]
    },
    {
     "name": "stdout",
     "output_type": "stream",
     "text": [
      "Computing Candidate Sets of Conjunctions of Predicates SD and RL\n",
      "Processing 15 combinations | Sampling itemset size 54\n",
      "SD and RL Computed with Lengths 58 and 58\n",
      "Computing Ground Set of Triples V\n",
      "Reducing RL\n",
      "RL Reduced from Size 58 to 37\n"
     ]
    },
    {
     "name": "stderr",
     "output_type": "stream",
     "text": [
      "100%|██████████| 58/58 [00:00<00:00, 7084.97it/s]\n"
     ]
    },
    {
     "name": "stdout",
     "output_type": "stream",
     "text": [
      "Ground Set Computed with Length 710\n"
     ]
    },
    {
     "name": "stderr",
     "output_type": "stream",
     "text": [
      "199it [00:00, 541.85it/s]\n"
     ]
    },
    {
     "data": {
      "image/png": "[encoded data removed]",
      "text/plain": [
       "<Figure size 900x600 with 1 Axes>"
      ]
     },
     "metadata": {},
     "output_type": "display_data"
    },
    {
     "name": "stdout",
     "output_type": "stream",
     "text": [
      "Candidate Set Filtered with Length: 200\n",
      "Initialising Copy of Ground Set\n",
      "While there exists a delete/update operation, loop:\n",
      "Checking Delete\n",
      "Checking Add\n"
     ]
    },
    {
     "name": "stderr",
     "output_type": "stream",
     "text": [
      "100%|██████████| 199/199 [00:00<00:00, 12709.04it/s]\n"
     ]
    },
    {
     "name": "stdout",
     "output_type": "stream",
     "text": [
      "Checking Exchange\n"
     ]
    },
    {
     "name": "stderr",
     "output_type": "stream",
     "text": [
      "100%|██████████| 194/194 [00:00<00:00, 2295.29it/s]\n"
     ]
    },
    {
     "name": "stdout",
     "output_type": "stream",
     "text": [
      "Checking Delete\n",
      "Checking Add\n"
     ]
    },
    {
     "name": "stderr",
     "output_type": "stream",
     "text": [
      "100%|██████████| 194/194 [00:00<00:00, 14369.38it/s]\n",
      "5it [00:00, 390.07it/s]\n"
     ]
    },
    {
     "data": {
      "image/png": "[encoded data removed]",
      "text/plain": [
       "<Figure size 900x600 with 1 Axes>"
      ]
     },
     "metadata": {},
     "output_type": "display_data"
    }
   ],
   "source": [
    "ares.generate_itemsets(apriori_threshold=0.2, max_width=None, # defaults to e2-1\n",
    "                       affected_subgroup=None, save_copy=False)\n",
    "# Note: progress bar initial time estimate about 10 times too large\n",
    "ares.generate_groundset(max_width=None, RL_reduction=True,\n",
    "                        then_generation=None, save_copy=False)\n",
    "lams = [1, 0]  # can play around with these lambda values\n",
    "ares.evaluate_groundset(lams=lams, r=200, save_mode=1,\n",
    "                        disable_tqdm=False, plot_accuracy=True)\n",
    "ares.select_groundset(s=200)\n",
    "ares.optimise_groundset(lams=lams, factor=1, print_updates=False,\n",
    "                        print_terms=False)"
   ]
  },
  {
   "cell_type": "code",
   "execution_count": 169,
   "metadata": {},
   "outputs": [],
   "source": [
    "counterfactual_X_ares = pd.DataFrame(ares.R.cfx_matrix[0], columns=X_test.columns)\n",
    "counterfactual_X_ares = postprocessing(counterfactual_X_ares)\n",
    "counterfactual_y_ares = model.predict(counterfactual_X_ares.values)"
   ]
  },
  {
   "cell_type": "code",
   "execution_count": 170,
   "metadata": {},
   "outputs": [
    {
     "name": "stdout",
     "output_type": "stream",
     "text": [
      "Coverage (AReS): 0.05263157894736842\n"
     ]
    }
   ],
   "source": [
    "print('Coverage (AReS):', counterfactual_y_ares.sum()/len(counterfactual_y_ares))"
   ]
  },
  {
   "cell_type": "markdown",
   "metadata": {},
   "source": [
    "## Diverse Counterfactual Explanation (DiCE)"
   ]
  },
  {
   "cell_type": "code",
   "execution_count": 127,
   "metadata": {},
   "outputs": [],
   "source": [
    "backend = 'PYT'  # needs pytorch installed"
   ]
  },
  {
   "cell_type": "code",
   "execution_count": 128,
   "metadata": {},
   "outputs": [],
   "source": [
    "import dice_ml\n",
    "\n",
    "m = dice_ml.Model(model=model, backend='PYT')\n",
    "\n",
    "factual_X_ext = factual_X.copy()\n",
    "factual_X_ext[target_name] = factual_y\n",
    "\n",
    "dice_features = factual_X.columns.drop(['Race = Asian', 'Race = Other']).to_list()\n",
    "\n",
    "d = dice_ml.Data(dataframe=factual_X_ext, continuous_features=dice_features, outcome_name = target_name)\n",
    "\n",
    "dice_explainer = dice_ml.Dice(d, m, method=\"gradient\")"
   ]
  },
  {
   "cell_type": "code",
   "execution_count": 129,
   "metadata": {},
   "outputs": [],
   "source": [
    "# import os \n",
    "# import pickle \n",
    "# dump_data_path = './data/baseline/'\n",
    "# with open(os.path.join(dump_data_path, f\"dice_results_{model.name}_{name}.pkl\"), 'rb') as file:\n",
    "#     dice_results = pickle.load(file)"
   ]
  },
  {
   "cell_type": "code",
   "execution_count": 130,
   "metadata": {},
   "outputs": [
    {
     "name": "stderr",
     "output_type": "stream",
     "text": [
      "  0%|          | 0/38 [00:00<?, ?it/s]WARNING:root: MAD for feature Sex = Female is 0, so replacing it with 1.0 to avoid error.\n",
      "WARNING:root: MAD for feature Sex = Male is 0, so replacing it with 1.0 to avoid error.\n",
      "WARNING:root: MAD for feature Age_Cat = Less than 25 is 0, so replacing it with 1.0 to avoid error.\n",
      "WARNING:root: MAD for feature Age_Cat = 25 - 45 is 0, so replacing it with 1.0 to avoid error.\n",
      "WARNING:root: MAD for feature Age_Cat = Greater than 45 is 0, so replacing it with 1.0 to avoid error.\n",
      "WARNING:root: MAD for feature Race = African-American is 0, so replacing it with 1.0 to avoid error.\n",
      "WARNING:root: MAD for feature Race = Caucasian is 0, so replacing it with 1.0 to avoid error.\n",
      "WARNING:root: MAD for feature Race = Hispanic is 0, so replacing it with 1.0 to avoid error.\n",
      "WARNING:root: MAD for feature Race = Native American is 0, so replacing it with 1.0 to avoid error.\n",
      "WARNING:root: MAD for feature C_Charge_Degree = F is 0, so replacing it with 1.0 to avoid error.\n",
      "WARNING:root: MAD for feature C_Charge_Degree = M is 0, so replacing it with 1.0 to avoid error.\n",
      "  3%|▎         | 1/38 [00:09<05:45,  9.33s/it]WARNING:root: MAD for feature Sex = Female is 0, so replacing it with 1.0 to avoid error.\n",
      "WARNING:root: MAD for feature Sex = Male is 0, so replacing it with 1.0 to avoid error.\n",
      "WARNING:root: MAD for feature Age_Cat = Less than 25 is 0, so replacing it with 1.0 to avoid error.\n",
      "WARNING:root: MAD for feature Age_Cat = 25 - 45 is 0, so replacing it with 1.0 to avoid error.\n",
      "WARNING:root: MAD for feature Age_Cat = Greater than 45 is 0, so replacing it with 1.0 to avoid error.\n",
      "WARNING:root: MAD for feature Race = African-American is 0, so replacing it with 1.0 to avoid error.\n",
      "WARNING:root: MAD for feature Race = Caucasian is 0, so replacing it with 1.0 to avoid error.\n",
      "WARNING:root: MAD for feature Race = Hispanic is 0, so replacing it with 1.0 to avoid error.\n",
      "WARNING:root: MAD for feature Race = Native American is 0, so replacing it with 1.0 to avoid error.\n",
      "WARNING:root: MAD for feature C_Charge_Degree = F is 0, so replacing it with 1.0 to avoid error.\n",
      "WARNING:root: MAD for feature C_Charge_Degree = M is 0, so replacing it with 1.0 to avoid error.\n"
     ]
    },
    {
     "name": "stdout",
     "output_type": "stream",
     "text": [
      "Diverse Counterfactuals found! total time taken: 00 min 09 sec\n"
     ]
    },
    {
     "name": "stderr",
     "output_type": "stream",
     "text": [
      "  5%|▌         | 2/38 [00:10<02:39,  4.43s/it]WARNING:root: MAD for feature Sex = Female is 0, so replacing it with 1.0 to avoid error.\n",
      "WARNING:root: MAD for feature Sex = Male is 0, so replacing it with 1.0 to avoid error.\n",
      "WARNING:root: MAD for feature Age_Cat = Less than 25 is 0, so replacing it with 1.0 to avoid error.\n",
      "WARNING:root: MAD for feature Age_Cat = 25 - 45 is 0, so replacing it with 1.0 to avoid error.\n",
      "WARNING:root: MAD for feature Age_Cat = Greater than 45 is 0, so replacing it with 1.0 to avoid error.\n",
      "WARNING:root: MAD for feature Race = African-American is 0, so replacing it with 1.0 to avoid error.\n",
      "WARNING:root: MAD for feature Race = Caucasian is 0, so replacing it with 1.0 to avoid error.\n",
      "WARNING:root: MAD for feature Race = Hispanic is 0, so replacing it with 1.0 to avoid error.\n",
      "WARNING:root: MAD for feature Race = Native American is 0, so replacing it with 1.0 to avoid error.\n",
      "WARNING:root: MAD for feature C_Charge_Degree = F is 0, so replacing it with 1.0 to avoid error.\n",
      "WARNING:root: MAD for feature C_Charge_Degree = M is 0, so replacing it with 1.0 to avoid error.\n"
     ]
    },
    {
     "name": "stdout",
     "output_type": "stream",
     "text": [
      "Diverse Counterfactuals found! total time taken: 00 min 00 sec\n"
     ]
    },
    {
     "name": "stderr",
     "output_type": "stream",
     "text": [
      "  8%|▊         | 3/38 [00:11<01:40,  2.88s/it]WARNING:root: MAD for feature Sex = Female is 0, so replacing it with 1.0 to avoid error.\n",
      "WARNING:root: MAD for feature Sex = Male is 0, so replacing it with 1.0 to avoid error.\n",
      "WARNING:root: MAD for feature Age_Cat = Less than 25 is 0, so replacing it with 1.0 to avoid error.\n",
      "WARNING:root: MAD for feature Age_Cat = 25 - 45 is 0, so replacing it with 1.0 to avoid error.\n",
      "WARNING:root: MAD for feature Age_Cat = Greater than 45 is 0, so replacing it with 1.0 to avoid error.\n",
      "WARNING:root: MAD for feature Race = African-American is 0, so replacing it with 1.0 to avoid error.\n",
      "WARNING:root: MAD for feature Race = Caucasian is 0, so replacing it with 1.0 to avoid error.\n",
      "WARNING:root: MAD for feature Race = Hispanic is 0, so replacing it with 1.0 to avoid error.\n",
      "WARNING:root: MAD for feature Race = Native American is 0, so replacing it with 1.0 to avoid error.\n",
      "WARNING:root: MAD for feature C_Charge_Degree = F is 0, so replacing it with 1.0 to avoid error.\n",
      "WARNING:root: MAD for feature C_Charge_Degree = M is 0, so replacing it with 1.0 to avoid error.\n"
     ]
    },
    {
     "name": "stdout",
     "output_type": "stream",
     "text": [
      "Diverse Counterfactuals found! total time taken: 00 min 00 sec\n"
     ]
    },
    {
     "name": "stderr",
     "output_type": "stream",
     "text": [
      " 11%|█         | 4/38 [00:21<03:17,  5.81s/it]WARNING:root: MAD for feature Sex = Female is 0, so replacing it with 1.0 to avoid error.\n",
      "WARNING:root: MAD for feature Sex = Male is 0, so replacing it with 1.0 to avoid error.\n",
      "WARNING:root: MAD for feature Age_Cat = Less than 25 is 0, so replacing it with 1.0 to avoid error.\n",
      "WARNING:root: MAD for feature Age_Cat = 25 - 45 is 0, so replacing it with 1.0 to avoid error.\n",
      "WARNING:root: MAD for feature Age_Cat = Greater than 45 is 0, so replacing it with 1.0 to avoid error.\n",
      "WARNING:root: MAD for feature Race = African-American is 0, so replacing it with 1.0 to avoid error.\n",
      "WARNING:root: MAD for feature Race = Caucasian is 0, so replacing it with 1.0 to avoid error.\n",
      "WARNING:root: MAD for feature Race = Hispanic is 0, so replacing it with 1.0 to avoid error.\n",
      "WARNING:root: MAD for feature Race = Native American is 0, so replacing it with 1.0 to avoid error.\n",
      "WARNING:root: MAD for feature C_Charge_Degree = F is 0, so replacing it with 1.0 to avoid error.\n",
      "WARNING:root: MAD for feature C_Charge_Degree = M is 0, so replacing it with 1.0 to avoid error.\n"
     ]
    },
    {
     "name": "stdout",
     "output_type": "stream",
     "text": [
      "Diverse Counterfactuals found! total time taken: 00 min 10 sec\n"
     ]
    },
    {
     "name": "stderr",
     "output_type": "stream",
     "text": [
      " 13%|█▎        | 5/38 [00:31<03:57,  7.19s/it]WARNING:root: MAD for feature Sex = Female is 0, so replacing it with 1.0 to avoid error.\n",
      "WARNING:root: MAD for feature Sex = Male is 0, so replacing it with 1.0 to avoid error.\n",
      "WARNING:root: MAD for feature Age_Cat = Less than 25 is 0, so replacing it with 1.0 to avoid error.\n",
      "WARNING:root: MAD for feature Age_Cat = 25 - 45 is 0, so replacing it with 1.0 to avoid error.\n",
      "WARNING:root: MAD for feature Age_Cat = Greater than 45 is 0, so replacing it with 1.0 to avoid error.\n",
      "WARNING:root: MAD for feature Race = African-American is 0, so replacing it with 1.0 to avoid error.\n",
      "WARNING:root: MAD for feature Race = Caucasian is 0, so replacing it with 1.0 to avoid error.\n",
      "WARNING:root: MAD for feature Race = Hispanic is 0, so replacing it with 1.0 to avoid error.\n",
      "WARNING:root: MAD for feature Race = Native American is 0, so replacing it with 1.0 to avoid error.\n",
      "WARNING:root: MAD for feature C_Charge_Degree = F is 0, so replacing it with 1.0 to avoid error.\n",
      "WARNING:root: MAD for feature C_Charge_Degree = M is 0, so replacing it with 1.0 to avoid error.\n"
     ]
    },
    {
     "name": "stdout",
     "output_type": "stream",
     "text": [
      "Diverse Counterfactuals found! total time taken: 00 min 09 sec\n"
     ]
    },
    {
     "name": "stderr",
     "output_type": "stream",
     "text": [
      " 16%|█▌        | 6/38 [00:52<06:22, 11.95s/it]WARNING:root: MAD for feature Sex = Female is 0, so replacing it with 1.0 to avoid error.\n",
      "WARNING:root: MAD for feature Sex = Male is 0, so replacing it with 1.0 to avoid error.\n",
      "WARNING:root: MAD for feature Age_Cat = Less than 25 is 0, so replacing it with 1.0 to avoid error.\n",
      "WARNING:root: MAD for feature Age_Cat = 25 - 45 is 0, so replacing it with 1.0 to avoid error.\n",
      "WARNING:root: MAD for feature Age_Cat = Greater than 45 is 0, so replacing it with 1.0 to avoid error.\n",
      "WARNING:root: MAD for feature Race = African-American is 0, so replacing it with 1.0 to avoid error.\n",
      "WARNING:root: MAD for feature Race = Caucasian is 0, so replacing it with 1.0 to avoid error.\n",
      "WARNING:root: MAD for feature Race = Hispanic is 0, so replacing it with 1.0 to avoid error.\n",
      "WARNING:root: MAD for feature Race = Native American is 0, so replacing it with 1.0 to avoid error.\n",
      "WARNING:root: MAD for feature C_Charge_Degree = F is 0, so replacing it with 1.0 to avoid error.\n",
      "WARNING:root: MAD for feature C_Charge_Degree = M is 0, so replacing it with 1.0 to avoid error.\n"
     ]
    },
    {
     "name": "stdout",
     "output_type": "stream",
     "text": [
      "Diverse Counterfactuals found! total time taken: 00 min 09 sec\n"
     ]
    },
    {
     "name": "stderr",
     "output_type": "stream",
     "text": [
      " 18%|█▊        | 7/38 [01:15<08:01, 15.54s/it]WARNING:root: MAD for feature Sex = Female is 0, so replacing it with 1.0 to avoid error.\n",
      "WARNING:root: MAD for feature Sex = Male is 0, so replacing it with 1.0 to avoid error.\n",
      "WARNING:root: MAD for feature Age_Cat = Less than 25 is 0, so replacing it with 1.0 to avoid error.\n",
      "WARNING:root: MAD for feature Age_Cat = 25 - 45 is 0, so replacing it with 1.0 to avoid error.\n",
      "WARNING:root: MAD for feature Age_Cat = Greater than 45 is 0, so replacing it with 1.0 to avoid error.\n",
      "WARNING:root: MAD for feature Race = African-American is 0, so replacing it with 1.0 to avoid error.\n",
      "WARNING:root: MAD for feature Race = Caucasian is 0, so replacing it with 1.0 to avoid error.\n",
      "WARNING:root: MAD for feature Race = Hispanic is 0, so replacing it with 1.0 to avoid error.\n",
      "WARNING:root: MAD for feature Race = Native American is 0, so replacing it with 1.0 to avoid error.\n",
      "WARNING:root: MAD for feature C_Charge_Degree = F is 0, so replacing it with 1.0 to avoid error.\n",
      "WARNING:root: MAD for feature C_Charge_Degree = M is 0, so replacing it with 1.0 to avoid error.\n"
     ]
    },
    {
     "name": "stdout",
     "output_type": "stream",
     "text": [
      "Diverse Counterfactuals found! total time taken: 00 min 09 sec\n"
     ]
    },
    {
     "name": "stderr",
     "output_type": "stream",
     "text": [
      " 21%|██        | 8/38 [01:39<09:08, 18.30s/it]WARNING:root: MAD for feature Sex = Female is 0, so replacing it with 1.0 to avoid error.\n",
      "WARNING:root: MAD for feature Sex = Male is 0, so replacing it with 1.0 to avoid error.\n",
      "WARNING:root: MAD for feature Age_Cat = Less than 25 is 0, so replacing it with 1.0 to avoid error.\n",
      "WARNING:root: MAD for feature Age_Cat = 25 - 45 is 0, so replacing it with 1.0 to avoid error.\n",
      "WARNING:root: MAD for feature Age_Cat = Greater than 45 is 0, so replacing it with 1.0 to avoid error.\n",
      "WARNING:root: MAD for feature Race = African-American is 0, so replacing it with 1.0 to avoid error.\n",
      "WARNING:root: MAD for feature Race = Caucasian is 0, so replacing it with 1.0 to avoid error.\n",
      "WARNING:root: MAD for feature Race = Hispanic is 0, so replacing it with 1.0 to avoid error.\n",
      "WARNING:root: MAD for feature Race = Native American is 0, so replacing it with 1.0 to avoid error.\n",
      "WARNING:root: MAD for feature C_Charge_Degree = F is 0, so replacing it with 1.0 to avoid error.\n",
      "WARNING:root: MAD for feature C_Charge_Degree = M is 0, so replacing it with 1.0 to avoid error.\n"
     ]
    },
    {
     "name": "stdout",
     "output_type": "stream",
     "text": [
      "Diverse Counterfactuals found! total time taken: 00 min 11 sec\n"
     ]
    },
    {
     "name": "stderr",
     "output_type": "stream",
     "text": [
      " 24%|██▎       | 9/38 [01:50<07:42, 15.93s/it]WARNING:root: MAD for feature Sex = Female is 0, so replacing it with 1.0 to avoid error.\n",
      "WARNING:root: MAD for feature Sex = Male is 0, so replacing it with 1.0 to avoid error.\n",
      "WARNING:root: MAD for feature Age_Cat = Less than 25 is 0, so replacing it with 1.0 to avoid error.\n",
      "WARNING:root: MAD for feature Age_Cat = 25 - 45 is 0, so replacing it with 1.0 to avoid error.\n",
      "WARNING:root: MAD for feature Age_Cat = Greater than 45 is 0, so replacing it with 1.0 to avoid error.\n",
      "WARNING:root: MAD for feature Race = African-American is 0, so replacing it with 1.0 to avoid error.\n",
      "WARNING:root: MAD for feature Race = Caucasian is 0, so replacing it with 1.0 to avoid error.\n",
      "WARNING:root: MAD for feature Race = Hispanic is 0, so replacing it with 1.0 to avoid error.\n",
      "WARNING:root: MAD for feature Race = Native American is 0, so replacing it with 1.0 to avoid error.\n",
      "WARNING:root: MAD for feature C_Charge_Degree = F is 0, so replacing it with 1.0 to avoid error.\n",
      "WARNING:root: MAD for feature C_Charge_Degree = M is 0, so replacing it with 1.0 to avoid error.\n"
     ]
    },
    {
     "name": "stdout",
     "output_type": "stream",
     "text": [
      "Diverse Counterfactuals found! total time taken: 00 min 10 sec\n"
     ]
    },
    {
     "name": "stderr",
     "output_type": "stream",
     "text": [
      " 26%|██▋       | 10/38 [02:15<08:43, 18.69s/it]WARNING:root: MAD for feature Sex = Female is 0, so replacing it with 1.0 to avoid error.\n",
      "WARNING:root: MAD for feature Sex = Male is 0, so replacing it with 1.0 to avoid error.\n",
      "WARNING:root: MAD for feature Age_Cat = Less than 25 is 0, so replacing it with 1.0 to avoid error.\n",
      "WARNING:root: MAD for feature Age_Cat = 25 - 45 is 0, so replacing it with 1.0 to avoid error.\n",
      "WARNING:root: MAD for feature Age_Cat = Greater than 45 is 0, so replacing it with 1.0 to avoid error.\n",
      "WARNING:root: MAD for feature Race = African-American is 0, so replacing it with 1.0 to avoid error.\n",
      "WARNING:root: MAD for feature Race = Caucasian is 0, so replacing it with 1.0 to avoid error.\n",
      "WARNING:root: MAD for feature Race = Hispanic is 0, so replacing it with 1.0 to avoid error.\n",
      "WARNING:root: MAD for feature Race = Native American is 0, so replacing it with 1.0 to avoid error.\n",
      "WARNING:root: MAD for feature C_Charge_Degree = F is 0, so replacing it with 1.0 to avoid error.\n",
      "WARNING:root: MAD for feature C_Charge_Degree = M is 0, so replacing it with 1.0 to avoid error.\n"
     ]
    },
    {
     "name": "stdout",
     "output_type": "stream",
     "text": [
      "Diverse Counterfactuals found! total time taken: 00 min 12 sec\n"
     ]
    },
    {
     "name": "stderr",
     "output_type": "stream",
     "text": [
      " 29%|██▉       | 11/38 [02:38<08:59, 19.97s/it]WARNING:root: MAD for feature Sex = Female is 0, so replacing it with 1.0 to avoid error.\n",
      "WARNING:root: MAD for feature Sex = Male is 0, so replacing it with 1.0 to avoid error.\n",
      "WARNING:root: MAD for feature Age_Cat = Less than 25 is 0, so replacing it with 1.0 to avoid error.\n",
      "WARNING:root: MAD for feature Age_Cat = 25 - 45 is 0, so replacing it with 1.0 to avoid error.\n",
      "WARNING:root: MAD for feature Age_Cat = Greater than 45 is 0, so replacing it with 1.0 to avoid error.\n",
      "WARNING:root: MAD for feature Race = African-American is 0, so replacing it with 1.0 to avoid error.\n",
      "WARNING:root: MAD for feature Race = Caucasian is 0, so replacing it with 1.0 to avoid error.\n",
      "WARNING:root: MAD for feature Race = Hispanic is 0, so replacing it with 1.0 to avoid error.\n",
      "WARNING:root: MAD for feature Race = Native American is 0, so replacing it with 1.0 to avoid error.\n",
      "WARNING:root: MAD for feature C_Charge_Degree = F is 0, so replacing it with 1.0 to avoid error.\n",
      "WARNING:root: MAD for feature C_Charge_Degree = M is 0, so replacing it with 1.0 to avoid error.\n"
     ]
    },
    {
     "name": "stdout",
     "output_type": "stream",
     "text": [
      "Diverse Counterfactuals found! total time taken: 00 min 09 sec\n"
     ]
    },
    {
     "name": "stderr",
     "output_type": "stream",
     "text": [
      " 32%|███▏      | 12/38 [03:04<09:30, 21.93s/it]WARNING:root: MAD for feature Sex = Female is 0, so replacing it with 1.0 to avoid error.\n",
      "WARNING:root: MAD for feature Sex = Male is 0, so replacing it with 1.0 to avoid error.\n",
      "WARNING:root: MAD for feature Age_Cat = Less than 25 is 0, so replacing it with 1.0 to avoid error.\n",
      "WARNING:root: MAD for feature Age_Cat = 25 - 45 is 0, so replacing it with 1.0 to avoid error.\n",
      "WARNING:root: MAD for feature Age_Cat = Greater than 45 is 0, so replacing it with 1.0 to avoid error.\n",
      "WARNING:root: MAD for feature Race = African-American is 0, so replacing it with 1.0 to avoid error.\n",
      "WARNING:root: MAD for feature Race = Caucasian is 0, so replacing it with 1.0 to avoid error.\n",
      "WARNING:root: MAD for feature Race = Hispanic is 0, so replacing it with 1.0 to avoid error.\n",
      "WARNING:root: MAD for feature Race = Native American is 0, so replacing it with 1.0 to avoid error.\n",
      "WARNING:root: MAD for feature C_Charge_Degree = F is 0, so replacing it with 1.0 to avoid error.\n",
      "WARNING:root: MAD for feature C_Charge_Degree = M is 0, so replacing it with 1.0 to avoid error.\n"
     ]
    },
    {
     "name": "stdout",
     "output_type": "stream",
     "text": [
      "Diverse Counterfactuals found! total time taken: 00 min 12 sec\n"
     ]
    },
    {
     "name": "stderr",
     "output_type": "stream",
     "text": [
      " 34%|███▍      | 13/38 [03:31<09:45, 23.40s/it]WARNING:root: MAD for feature Sex = Female is 0, so replacing it with 1.0 to avoid error.\n",
      "WARNING:root: MAD for feature Sex = Male is 0, so replacing it with 1.0 to avoid error.\n",
      "WARNING:root: MAD for feature Age_Cat = Less than 25 is 0, so replacing it with 1.0 to avoid error.\n",
      "WARNING:root: MAD for feature Age_Cat = 25 - 45 is 0, so replacing it with 1.0 to avoid error.\n",
      "WARNING:root: MAD for feature Age_Cat = Greater than 45 is 0, so replacing it with 1.0 to avoid error.\n",
      "WARNING:root: MAD for feature Race = African-American is 0, so replacing it with 1.0 to avoid error.\n",
      "WARNING:root: MAD for feature Race = Caucasian is 0, so replacing it with 1.0 to avoid error.\n",
      "WARNING:root: MAD for feature Race = Hispanic is 0, so replacing it with 1.0 to avoid error.\n",
      "WARNING:root: MAD for feature Race = Native American is 0, so replacing it with 1.0 to avoid error.\n",
      "WARNING:root: MAD for feature C_Charge_Degree = F is 0, so replacing it with 1.0 to avoid error.\n",
      "WARNING:root: MAD for feature C_Charge_Degree = M is 0, so replacing it with 1.0 to avoid error.\n"
     ]
    },
    {
     "name": "stdout",
     "output_type": "stream",
     "text": [
      "Diverse Counterfactuals found! total time taken: 00 min 12 sec\n"
     ]
    },
    {
     "name": "stderr",
     "output_type": "stream",
     "text": [
      " 37%|███▋      | 14/38 [03:32<06:40, 16.70s/it]WARNING:root: MAD for feature Sex = Female is 0, so replacing it with 1.0 to avoid error.\n",
      "WARNING:root: MAD for feature Sex = Male is 0, so replacing it with 1.0 to avoid error.\n",
      "WARNING:root: MAD for feature Age_Cat = Less than 25 is 0, so replacing it with 1.0 to avoid error.\n",
      "WARNING:root: MAD for feature Age_Cat = 25 - 45 is 0, so replacing it with 1.0 to avoid error.\n",
      "WARNING:root: MAD for feature Age_Cat = Greater than 45 is 0, so replacing it with 1.0 to avoid error.\n",
      "WARNING:root: MAD for feature Race = African-American is 0, so replacing it with 1.0 to avoid error.\n",
      "WARNING:root: MAD for feature Race = Caucasian is 0, so replacing it with 1.0 to avoid error.\n",
      "WARNING:root: MAD for feature Race = Hispanic is 0, so replacing it with 1.0 to avoid error.\n",
      "WARNING:root: MAD for feature Race = Native American is 0, so replacing it with 1.0 to avoid error.\n",
      "WARNING:root: MAD for feature C_Charge_Degree = F is 0, so replacing it with 1.0 to avoid error.\n",
      "WARNING:root: MAD for feature C_Charge_Degree = M is 0, so replacing it with 1.0 to avoid error.\n"
     ]
    },
    {
     "name": "stdout",
     "output_type": "stream",
     "text": [
      "Diverse Counterfactuals found! total time taken: 00 min 01 sec\n"
     ]
    },
    {
     "name": "stderr",
     "output_type": "stream",
     "text": [
      " 39%|███▉      | 15/38 [03:59<07:36, 19.83s/it]WARNING:root: MAD for feature Sex = Female is 0, so replacing it with 1.0 to avoid error.\n",
      "WARNING:root: MAD for feature Sex = Male is 0, so replacing it with 1.0 to avoid error.\n",
      "WARNING:root: MAD for feature Age_Cat = Less than 25 is 0, so replacing it with 1.0 to avoid error.\n",
      "WARNING:root: MAD for feature Age_Cat = 25 - 45 is 0, so replacing it with 1.0 to avoid error.\n",
      "WARNING:root: MAD for feature Age_Cat = Greater than 45 is 0, so replacing it with 1.0 to avoid error.\n",
      "WARNING:root: MAD for feature Race = African-American is 0, so replacing it with 1.0 to avoid error.\n",
      "WARNING:root: MAD for feature Race = Caucasian is 0, so replacing it with 1.0 to avoid error.\n",
      "WARNING:root: MAD for feature Race = Hispanic is 0, so replacing it with 1.0 to avoid error.\n",
      "WARNING:root: MAD for feature Race = Native American is 0, so replacing it with 1.0 to avoid error.\n",
      "WARNING:root: MAD for feature C_Charge_Degree = F is 0, so replacing it with 1.0 to avoid error.\n",
      "WARNING:root: MAD for feature C_Charge_Degree = M is 0, so replacing it with 1.0 to avoid error.\n"
     ]
    },
    {
     "name": "stdout",
     "output_type": "stream",
     "text": [
      "Diverse Counterfactuals found! total time taken: 00 min 11 sec\n"
     ]
    },
    {
     "name": "stderr",
     "output_type": "stream",
     "text": [
      " 42%|████▏     | 16/38 [04:14<06:41, 18.27s/it]WARNING:root: MAD for feature Sex = Female is 0, so replacing it with 1.0 to avoid error.\n",
      "WARNING:root: MAD for feature Sex = Male is 0, so replacing it with 1.0 to avoid error.\n",
      "WARNING:root: MAD for feature Age_Cat = Less than 25 is 0, so replacing it with 1.0 to avoid error.\n",
      "WARNING:root: MAD for feature Age_Cat = 25 - 45 is 0, so replacing it with 1.0 to avoid error.\n",
      "WARNING:root: MAD for feature Age_Cat = Greater than 45 is 0, so replacing it with 1.0 to avoid error.\n",
      "WARNING:root: MAD for feature Race = African-American is 0, so replacing it with 1.0 to avoid error.\n",
      "WARNING:root: MAD for feature Race = Caucasian is 0, so replacing it with 1.0 to avoid error.\n",
      "WARNING:root: MAD for feature Race = Hispanic is 0, so replacing it with 1.0 to avoid error.\n",
      "WARNING:root: MAD for feature Race = Native American is 0, so replacing it with 1.0 to avoid error.\n",
      "WARNING:root: MAD for feature C_Charge_Degree = F is 0, so replacing it with 1.0 to avoid error.\n",
      "WARNING:root: MAD for feature C_Charge_Degree = M is 0, so replacing it with 1.0 to avoid error.\n"
     ]
    },
    {
     "name": "stdout",
     "output_type": "stream",
     "text": [
      "Diverse Counterfactuals found! total time taken: 00 min 14 sec\n"
     ]
    },
    {
     "name": "stderr",
     "output_type": "stream",
     "text": [
      " 45%|████▍     | 17/38 [04:36<06:46, 19.38s/it]WARNING:root: MAD for feature Sex = Female is 0, so replacing it with 1.0 to avoid error.\n",
      "WARNING:root: MAD for feature Sex = Male is 0, so replacing it with 1.0 to avoid error.\n",
      "WARNING:root: MAD for feature Age_Cat = Less than 25 is 0, so replacing it with 1.0 to avoid error.\n",
      "WARNING:root: MAD for feature Age_Cat = 25 - 45 is 0, so replacing it with 1.0 to avoid error.\n",
      "WARNING:root: MAD for feature Age_Cat = Greater than 45 is 0, so replacing it with 1.0 to avoid error.\n",
      "WARNING:root: MAD for feature Race = African-American is 0, so replacing it with 1.0 to avoid error.\n",
      "WARNING:root: MAD for feature Race = Caucasian is 0, so replacing it with 1.0 to avoid error.\n",
      "WARNING:root: MAD for feature Race = Hispanic is 0, so replacing it with 1.0 to avoid error.\n",
      "WARNING:root: MAD for feature Race = Native American is 0, so replacing it with 1.0 to avoid error.\n",
      "WARNING:root: MAD for feature C_Charge_Degree = F is 0, so replacing it with 1.0 to avoid error.\n",
      "WARNING:root: MAD for feature C_Charge_Degree = M is 0, so replacing it with 1.0 to avoid error.\n"
     ]
    },
    {
     "name": "stdout",
     "output_type": "stream",
     "text": [
      "Diverse Counterfactuals found! total time taken: 00 min 10 sec\n"
     ]
    },
    {
     "name": "stderr",
     "output_type": "stream",
     "text": [
      " 47%|████▋     | 18/38 [04:57<06:38, 19.91s/it]WARNING:root: MAD for feature Sex = Female is 0, so replacing it with 1.0 to avoid error.\n",
      "WARNING:root: MAD for feature Sex = Male is 0, so replacing it with 1.0 to avoid error.\n",
      "WARNING:root: MAD for feature Age_Cat = Less than 25 is 0, so replacing it with 1.0 to avoid error.\n",
      "WARNING:root: MAD for feature Age_Cat = 25 - 45 is 0, so replacing it with 1.0 to avoid error.\n",
      "WARNING:root: MAD for feature Age_Cat = Greater than 45 is 0, so replacing it with 1.0 to avoid error.\n",
      "WARNING:root: MAD for feature Race = African-American is 0, so replacing it with 1.0 to avoid error.\n",
      "WARNING:root: MAD for feature Race = Caucasian is 0, so replacing it with 1.0 to avoid error.\n",
      "WARNING:root: MAD for feature Race = Hispanic is 0, so replacing it with 1.0 to avoid error.\n",
      "WARNING:root: MAD for feature Race = Native American is 0, so replacing it with 1.0 to avoid error.\n",
      "WARNING:root: MAD for feature C_Charge_Degree = F is 0, so replacing it with 1.0 to avoid error.\n",
      "WARNING:root: MAD for feature C_Charge_Degree = M is 0, so replacing it with 1.0 to avoid error.\n"
     ]
    },
    {
     "name": "stdout",
     "output_type": "stream",
     "text": [
      "Diverse Counterfactuals found! total time taken: 00 min 09 sec\n"
     ]
    },
    {
     "name": "stderr",
     "output_type": "stream",
     "text": [
      " 50%|█████     | 19/38 [05:09<05:36, 17.71s/it]WARNING:root: MAD for feature Sex = Female is 0, so replacing it with 1.0 to avoid error.\n",
      "WARNING:root: MAD for feature Sex = Male is 0, so replacing it with 1.0 to avoid error.\n",
      "WARNING:root: MAD for feature Age_Cat = Less than 25 is 0, so replacing it with 1.0 to avoid error.\n",
      "WARNING:root: MAD for feature Age_Cat = 25 - 45 is 0, so replacing it with 1.0 to avoid error.\n",
      "WARNING:root: MAD for feature Age_Cat = Greater than 45 is 0, so replacing it with 1.0 to avoid error.\n",
      "WARNING:root: MAD for feature Race = African-American is 0, so replacing it with 1.0 to avoid error.\n",
      "WARNING:root: MAD for feature Race = Caucasian is 0, so replacing it with 1.0 to avoid error.\n",
      "WARNING:root: MAD for feature Race = Hispanic is 0, so replacing it with 1.0 to avoid error.\n",
      "WARNING:root: MAD for feature Race = Native American is 0, so replacing it with 1.0 to avoid error.\n",
      "WARNING:root: MAD for feature C_Charge_Degree = F is 0, so replacing it with 1.0 to avoid error.\n",
      "WARNING:root: MAD for feature C_Charge_Degree = M is 0, so replacing it with 1.0 to avoid error.\n"
     ]
    },
    {
     "name": "stdout",
     "output_type": "stream",
     "text": [
      "Diverse Counterfactuals found! total time taken: 00 min 01 sec\n"
     ]
    },
    {
     "name": "stderr",
     "output_type": "stream",
     "text": [
      " 53%|█████▎    | 20/38 [05:11<03:49, 12.74s/it]WARNING:root: MAD for feature Sex = Female is 0, so replacing it with 1.0 to avoid error.\n",
      "WARNING:root: MAD for feature Sex = Male is 0, so replacing it with 1.0 to avoid error.\n",
      "WARNING:root: MAD for feature Age_Cat = Less than 25 is 0, so replacing it with 1.0 to avoid error.\n",
      "WARNING:root: MAD for feature Age_Cat = 25 - 45 is 0, so replacing it with 1.0 to avoid error.\n",
      "WARNING:root: MAD for feature Age_Cat = Greater than 45 is 0, so replacing it with 1.0 to avoid error.\n",
      "WARNING:root: MAD for feature Race = African-American is 0, so replacing it with 1.0 to avoid error.\n",
      "WARNING:root: MAD for feature Race = Caucasian is 0, so replacing it with 1.0 to avoid error.\n",
      "WARNING:root: MAD for feature Race = Hispanic is 0, so replacing it with 1.0 to avoid error.\n",
      "WARNING:root: MAD for feature Race = Native American is 0, so replacing it with 1.0 to avoid error.\n",
      "WARNING:root: MAD for feature C_Charge_Degree = F is 0, so replacing it with 1.0 to avoid error.\n",
      "WARNING:root: MAD for feature C_Charge_Degree = M is 0, so replacing it with 1.0 to avoid error.\n"
     ]
    },
    {
     "name": "stdout",
     "output_type": "stream",
     "text": [
      "Diverse Counterfactuals found! total time taken: 00 min 01 sec\n"
     ]
    },
    {
     "name": "stderr",
     "output_type": "stream",
     "text": [
      " 55%|█████▌    | 21/38 [05:18<03:09, 11.12s/it]WARNING:root: MAD for feature Sex = Female is 0, so replacing it with 1.0 to avoid error.\n",
      "WARNING:root: MAD for feature Sex = Male is 0, so replacing it with 1.0 to avoid error.\n",
      "WARNING:root: MAD for feature Age_Cat = Less than 25 is 0, so replacing it with 1.0 to avoid error.\n",
      "WARNING:root: MAD for feature Age_Cat = 25 - 45 is 0, so replacing it with 1.0 to avoid error.\n",
      "WARNING:root: MAD for feature Age_Cat = Greater than 45 is 0, so replacing it with 1.0 to avoid error.\n",
      "WARNING:root: MAD for feature Race = African-American is 0, so replacing it with 1.0 to avoid error.\n",
      "WARNING:root: MAD for feature Race = Caucasian is 0, so replacing it with 1.0 to avoid error.\n",
      "WARNING:root: MAD for feature Race = Hispanic is 0, so replacing it with 1.0 to avoid error.\n",
      "WARNING:root: MAD for feature Race = Native American is 0, so replacing it with 1.0 to avoid error.\n",
      "WARNING:root: MAD for feature C_Charge_Degree = F is 0, so replacing it with 1.0 to avoid error.\n",
      "WARNING:root: MAD for feature C_Charge_Degree = M is 0, so replacing it with 1.0 to avoid error.\n"
     ]
    },
    {
     "name": "stdout",
     "output_type": "stream",
     "text": [
      "Diverse Counterfactuals found! total time taken: 00 min 07 sec\n"
     ]
    },
    {
     "name": "stderr",
     "output_type": "stream",
     "text": [
      " 58%|█████▊    | 22/38 [05:39<03:44, 14.04s/it]WARNING:root: MAD for feature Sex = Female is 0, so replacing it with 1.0 to avoid error.\n",
      "WARNING:root: MAD for feature Sex = Male is 0, so replacing it with 1.0 to avoid error.\n",
      "WARNING:root: MAD for feature Age_Cat = Less than 25 is 0, so replacing it with 1.0 to avoid error.\n",
      "WARNING:root: MAD for feature Age_Cat = 25 - 45 is 0, so replacing it with 1.0 to avoid error.\n",
      "WARNING:root: MAD for feature Age_Cat = Greater than 45 is 0, so replacing it with 1.0 to avoid error.\n",
      "WARNING:root: MAD for feature Race = African-American is 0, so replacing it with 1.0 to avoid error.\n",
      "WARNING:root: MAD for feature Race = Caucasian is 0, so replacing it with 1.0 to avoid error.\n",
      "WARNING:root: MAD for feature Race = Hispanic is 0, so replacing it with 1.0 to avoid error.\n",
      "WARNING:root: MAD for feature Race = Native American is 0, so replacing it with 1.0 to avoid error.\n",
      "WARNING:root: MAD for feature C_Charge_Degree = F is 0, so replacing it with 1.0 to avoid error.\n",
      "WARNING:root: MAD for feature C_Charge_Degree = M is 0, so replacing it with 1.0 to avoid error.\n"
     ]
    },
    {
     "name": "stdout",
     "output_type": "stream",
     "text": [
      "Diverse Counterfactuals found! total time taken: 00 min 09 sec\n"
     ]
    },
    {
     "name": "stderr",
     "output_type": "stream",
     "text": [
      " 61%|██████    | 23/38 [05:50<03:20, 13.33s/it]WARNING:root: MAD for feature Sex = Female is 0, so replacing it with 1.0 to avoid error.\n",
      "WARNING:root: MAD for feature Sex = Male is 0, so replacing it with 1.0 to avoid error.\n",
      "WARNING:root: MAD for feature Age_Cat = Less than 25 is 0, so replacing it with 1.0 to avoid error.\n",
      "WARNING:root: MAD for feature Age_Cat = 25 - 45 is 0, so replacing it with 1.0 to avoid error.\n",
      "WARNING:root: MAD for feature Age_Cat = Greater than 45 is 0, so replacing it with 1.0 to avoid error.\n",
      "WARNING:root: MAD for feature Race = African-American is 0, so replacing it with 1.0 to avoid error.\n",
      "WARNING:root: MAD for feature Race = Caucasian is 0, so replacing it with 1.0 to avoid error.\n",
      "WARNING:root: MAD for feature Race = Hispanic is 0, so replacing it with 1.0 to avoid error.\n",
      "WARNING:root: MAD for feature Race = Native American is 0, so replacing it with 1.0 to avoid error.\n",
      "WARNING:root: MAD for feature C_Charge_Degree = F is 0, so replacing it with 1.0 to avoid error.\n",
      "WARNING:root: MAD for feature C_Charge_Degree = M is 0, so replacing it with 1.0 to avoid error.\n"
     ]
    },
    {
     "name": "stdout",
     "output_type": "stream",
     "text": [
      "Diverse Counterfactuals found! total time taken: 00 min 11 sec\n"
     ]
    },
    {
     "name": "stderr",
     "output_type": "stream",
     "text": [
      " 63%|██████▎   | 24/38 [05:59<02:45, 11.80s/it]WARNING:root: MAD for feature Sex = Female is 0, so replacing it with 1.0 to avoid error.\n",
      "WARNING:root: MAD for feature Sex = Male is 0, so replacing it with 1.0 to avoid error.\n",
      "WARNING:root: MAD for feature Age_Cat = Less than 25 is 0, so replacing it with 1.0 to avoid error.\n",
      "WARNING:root: MAD for feature Age_Cat = 25 - 45 is 0, so replacing it with 1.0 to avoid error.\n",
      "WARNING:root: MAD for feature Age_Cat = Greater than 45 is 0, so replacing it with 1.0 to avoid error.\n",
      "WARNING:root: MAD for feature Race = African-American is 0, so replacing it with 1.0 to avoid error.\n",
      "WARNING:root: MAD for feature Race = Caucasian is 0, so replacing it with 1.0 to avoid error.\n",
      "WARNING:root: MAD for feature Race = Hispanic is 0, so replacing it with 1.0 to avoid error.\n",
      "WARNING:root: MAD for feature Race = Native American is 0, so replacing it with 1.0 to avoid error.\n",
      "WARNING:root: MAD for feature C_Charge_Degree = F is 0, so replacing it with 1.0 to avoid error.\n",
      "WARNING:root: MAD for feature C_Charge_Degree = M is 0, so replacing it with 1.0 to avoid error.\n"
     ]
    },
    {
     "name": "stdout",
     "output_type": "stream",
     "text": [
      "Diverse Counterfactuals found! total time taken: 00 min 08 sec\n"
     ]
    },
    {
     "name": "stderr",
     "output_type": "stream",
     "text": [
      " 66%|██████▌   | 25/38 [06:01<01:54,  8.84s/it]WARNING:root: MAD for feature Sex = Female is 0, so replacing it with 1.0 to avoid error.\n",
      "WARNING:root: MAD for feature Sex = Male is 0, so replacing it with 1.0 to avoid error.\n",
      "WARNING:root: MAD for feature Age_Cat = Less than 25 is 0, so replacing it with 1.0 to avoid error.\n",
      "WARNING:root: MAD for feature Age_Cat = 25 - 45 is 0, so replacing it with 1.0 to avoid error.\n",
      "WARNING:root: MAD for feature Age_Cat = Greater than 45 is 0, so replacing it with 1.0 to avoid error.\n",
      "WARNING:root: MAD for feature Race = African-American is 0, so replacing it with 1.0 to avoid error.\n",
      "WARNING:root: MAD for feature Race = Caucasian is 0, so replacing it with 1.0 to avoid error.\n",
      "WARNING:root: MAD for feature Race = Hispanic is 0, so replacing it with 1.0 to avoid error.\n",
      "WARNING:root: MAD for feature Race = Native American is 0, so replacing it with 1.0 to avoid error.\n",
      "WARNING:root: MAD for feature C_Charge_Degree = F is 0, so replacing it with 1.0 to avoid error.\n",
      "WARNING:root: MAD for feature C_Charge_Degree = M is 0, so replacing it with 1.0 to avoid error.\n"
     ]
    },
    {
     "name": "stdout",
     "output_type": "stream",
     "text": [
      "Diverse Counterfactuals found! total time taken: 00 min 01 sec\n"
     ]
    },
    {
     "name": "stderr",
     "output_type": "stream",
     "text": [
      " 68%|██████▊   | 26/38 [06:02<01:19,  6.65s/it]WARNING:root: MAD for feature Sex = Female is 0, so replacing it with 1.0 to avoid error.\n",
      "WARNING:root: MAD for feature Sex = Male is 0, so replacing it with 1.0 to avoid error.\n",
      "WARNING:root: MAD for feature Age_Cat = Less than 25 is 0, so replacing it with 1.0 to avoid error.\n",
      "WARNING:root: MAD for feature Age_Cat = 25 - 45 is 0, so replacing it with 1.0 to avoid error.\n",
      "WARNING:root: MAD for feature Age_Cat = Greater than 45 is 0, so replacing it with 1.0 to avoid error.\n",
      "WARNING:root: MAD for feature Race = African-American is 0, so replacing it with 1.0 to avoid error.\n",
      "WARNING:root: MAD for feature Race = Caucasian is 0, so replacing it with 1.0 to avoid error.\n",
      "WARNING:root: MAD for feature Race = Hispanic is 0, so replacing it with 1.0 to avoid error.\n",
      "WARNING:root: MAD for feature Race = Native American is 0, so replacing it with 1.0 to avoid error.\n",
      "WARNING:root: MAD for feature C_Charge_Degree = F is 0, so replacing it with 1.0 to avoid error.\n",
      "WARNING:root: MAD for feature C_Charge_Degree = M is 0, so replacing it with 1.0 to avoid error.\n"
     ]
    },
    {
     "name": "stdout",
     "output_type": "stream",
     "text": [
      "Diverse Counterfactuals found! total time taken: 00 min 01 sec\n"
     ]
    },
    {
     "name": "stderr",
     "output_type": "stream",
     "text": [
      " 71%|███████   | 27/38 [06:23<02:00, 11.00s/it]WARNING:root: MAD for feature Sex = Female is 0, so replacing it with 1.0 to avoid error.\n",
      "WARNING:root: MAD for feature Sex = Male is 0, so replacing it with 1.0 to avoid error.\n",
      "WARNING:root: MAD for feature Age_Cat = Less than 25 is 0, so replacing it with 1.0 to avoid error.\n",
      "WARNING:root: MAD for feature Age_Cat = 25 - 45 is 0, so replacing it with 1.0 to avoid error.\n",
      "WARNING:root: MAD for feature Age_Cat = Greater than 45 is 0, so replacing it with 1.0 to avoid error.\n",
      "WARNING:root: MAD for feature Race = African-American is 0, so replacing it with 1.0 to avoid error.\n",
      "WARNING:root: MAD for feature Race = Caucasian is 0, so replacing it with 1.0 to avoid error.\n",
      "WARNING:root: MAD for feature Race = Hispanic is 0, so replacing it with 1.0 to avoid error.\n",
      "WARNING:root: MAD for feature Race = Native American is 0, so replacing it with 1.0 to avoid error.\n",
      "WARNING:root: MAD for feature C_Charge_Degree = F is 0, so replacing it with 1.0 to avoid error.\n",
      "WARNING:root: MAD for feature C_Charge_Degree = M is 0, so replacing it with 1.0 to avoid error.\n"
     ]
    },
    {
     "name": "stdout",
     "output_type": "stream",
     "text": [
      "Diverse Counterfactuals found! total time taken: 00 min 09 sec\n"
     ]
    },
    {
     "name": "stderr",
     "output_type": "stream",
     "text": [
      " 74%|███████▎  | 28/38 [06:44<02:20, 14.05s/it]WARNING:root: MAD for feature Sex = Female is 0, so replacing it with 1.0 to avoid error.\n",
      "WARNING:root: MAD for feature Sex = Male is 0, so replacing it with 1.0 to avoid error.\n",
      "WARNING:root: MAD for feature Age_Cat = Less than 25 is 0, so replacing it with 1.0 to avoid error.\n",
      "WARNING:root: MAD for feature Age_Cat = 25 - 45 is 0, so replacing it with 1.0 to avoid error.\n",
      "WARNING:root: MAD for feature Age_Cat = Greater than 45 is 0, so replacing it with 1.0 to avoid error.\n",
      "WARNING:root: MAD for feature Race = African-American is 0, so replacing it with 1.0 to avoid error.\n",
      "WARNING:root: MAD for feature Race = Caucasian is 0, so replacing it with 1.0 to avoid error.\n",
      "WARNING:root: MAD for feature Race = Hispanic is 0, so replacing it with 1.0 to avoid error.\n",
      "WARNING:root: MAD for feature Race = Native American is 0, so replacing it with 1.0 to avoid error.\n",
      "WARNING:root: MAD for feature C_Charge_Degree = F is 0, so replacing it with 1.0 to avoid error.\n",
      "WARNING:root: MAD for feature C_Charge_Degree = M is 0, so replacing it with 1.0 to avoid error.\n"
     ]
    },
    {
     "name": "stdout",
     "output_type": "stream",
     "text": [
      "Diverse Counterfactuals found! total time taken: 00 min 09 sec\n"
     ]
    },
    {
     "name": "stderr",
     "output_type": "stream",
     "text": [
      " 76%|███████▋  | 29/38 [07:14<02:48, 18.76s/it]WARNING:root: MAD for feature Sex = Female is 0, so replacing it with 1.0 to avoid error.\n",
      "WARNING:root: MAD for feature Sex = Male is 0, so replacing it with 1.0 to avoid error.\n",
      "WARNING:root: MAD for feature Age_Cat = Less than 25 is 0, so replacing it with 1.0 to avoid error.\n",
      "WARNING:root: MAD for feature Age_Cat = 25 - 45 is 0, so replacing it with 1.0 to avoid error.\n",
      "WARNING:root: MAD for feature Age_Cat = Greater than 45 is 0, so replacing it with 1.0 to avoid error.\n",
      "WARNING:root: MAD for feature Race = African-American is 0, so replacing it with 1.0 to avoid error.\n",
      "WARNING:root: MAD for feature Race = Caucasian is 0, so replacing it with 1.0 to avoid error.\n",
      "WARNING:root: MAD for feature Race = Hispanic is 0, so replacing it with 1.0 to avoid error.\n",
      "WARNING:root: MAD for feature Race = Native American is 0, so replacing it with 1.0 to avoid error.\n",
      "WARNING:root: MAD for feature C_Charge_Degree = F is 0, so replacing it with 1.0 to avoid error.\n",
      "WARNING:root: MAD for feature C_Charge_Degree = M is 0, so replacing it with 1.0 to avoid error.\n"
     ]
    },
    {
     "name": "stdout",
     "output_type": "stream",
     "text": [
      "Diverse Counterfactuals found! total time taken: 00 min 13 sec\n"
     ]
    },
    {
     "name": "stderr",
     "output_type": "stream",
     "text": [
      " 79%|███████▉  | 30/38 [07:25<02:10, 16.26s/it]WARNING:root: MAD for feature Sex = Female is 0, so replacing it with 1.0 to avoid error.\n",
      "WARNING:root: MAD for feature Sex = Male is 0, so replacing it with 1.0 to avoid error.\n",
      "WARNING:root: MAD for feature Age_Cat = Less than 25 is 0, so replacing it with 1.0 to avoid error.\n",
      "WARNING:root: MAD for feature Age_Cat = 25 - 45 is 0, so replacing it with 1.0 to avoid error.\n",
      "WARNING:root: MAD for feature Age_Cat = Greater than 45 is 0, so replacing it with 1.0 to avoid error.\n",
      "WARNING:root: MAD for feature Race = African-American is 0, so replacing it with 1.0 to avoid error.\n",
      "WARNING:root: MAD for feature Race = Caucasian is 0, so replacing it with 1.0 to avoid error.\n",
      "WARNING:root: MAD for feature Race = Hispanic is 0, so replacing it with 1.0 to avoid error.\n",
      "WARNING:root: MAD for feature Race = Native American is 0, so replacing it with 1.0 to avoid error.\n",
      "WARNING:root: MAD for feature C_Charge_Degree = F is 0, so replacing it with 1.0 to avoid error.\n",
      "WARNING:root: MAD for feature C_Charge_Degree = M is 0, so replacing it with 1.0 to avoid error.\n"
     ]
    },
    {
     "name": "stdout",
     "output_type": "stream",
     "text": [
      "Diverse Counterfactuals found! total time taken: 00 min 10 sec\n"
     ]
    },
    {
     "name": "stderr",
     "output_type": "stream",
     "text": [
      " 82%|████████▏ | 31/38 [07:37<01:45, 15.13s/it]WARNING:root: MAD for feature Sex = Female is 0, so replacing it with 1.0 to avoid error.\n",
      "WARNING:root: MAD for feature Sex = Male is 0, so replacing it with 1.0 to avoid error.\n",
      "WARNING:root: MAD for feature Age_Cat = Less than 25 is 0, so replacing it with 1.0 to avoid error.\n",
      "WARNING:root: MAD for feature Age_Cat = 25 - 45 is 0, so replacing it with 1.0 to avoid error.\n",
      "WARNING:root: MAD for feature Age_Cat = Greater than 45 is 0, so replacing it with 1.0 to avoid error.\n",
      "WARNING:root: MAD for feature Race = African-American is 0, so replacing it with 1.0 to avoid error.\n",
      "WARNING:root: MAD for feature Race = Caucasian is 0, so replacing it with 1.0 to avoid error.\n",
      "WARNING:root: MAD for feature Race = Hispanic is 0, so replacing it with 1.0 to avoid error.\n",
      "WARNING:root: MAD for feature Race = Native American is 0, so replacing it with 1.0 to avoid error.\n",
      "WARNING:root: MAD for feature C_Charge_Degree = F is 0, so replacing it with 1.0 to avoid error.\n",
      "WARNING:root: MAD for feature C_Charge_Degree = M is 0, so replacing it with 1.0 to avoid error.\n"
     ]
    },
    {
     "name": "stdout",
     "output_type": "stream",
     "text": [
      "Diverse Counterfactuals found! total time taken: 00 min 12 sec\n"
     ]
    },
    {
     "name": "stderr",
     "output_type": "stream",
     "text": [
      " 84%|████████▍ | 32/38 [07:50<01:26, 14.43s/it]WARNING:root: MAD for feature Sex = Female is 0, so replacing it with 1.0 to avoid error.\n",
      "WARNING:root: MAD for feature Sex = Male is 0, so replacing it with 1.0 to avoid error.\n",
      "WARNING:root: MAD for feature Age_Cat = Less than 25 is 0, so replacing it with 1.0 to avoid error.\n",
      "WARNING:root: MAD for feature Age_Cat = 25 - 45 is 0, so replacing it with 1.0 to avoid error.\n",
      "WARNING:root: MAD for feature Age_Cat = Greater than 45 is 0, so replacing it with 1.0 to avoid error.\n",
      "WARNING:root: MAD for feature Race = African-American is 0, so replacing it with 1.0 to avoid error.\n",
      "WARNING:root: MAD for feature Race = Caucasian is 0, so replacing it with 1.0 to avoid error.\n",
      "WARNING:root: MAD for feature Race = Hispanic is 0, so replacing it with 1.0 to avoid error.\n",
      "WARNING:root: MAD for feature Race = Native American is 0, so replacing it with 1.0 to avoid error.\n",
      "WARNING:root: MAD for feature C_Charge_Degree = F is 0, so replacing it with 1.0 to avoid error.\n",
      "WARNING:root: MAD for feature C_Charge_Degree = M is 0, so replacing it with 1.0 to avoid error.\n"
     ]
    },
    {
     "name": "stdout",
     "output_type": "stream",
     "text": [
      "Diverse Counterfactuals found! total time taken: 00 min 12 sec\n"
     ]
    },
    {
     "name": "stderr",
     "output_type": "stream",
     "text": [
      " 87%|████████▋ | 33/38 [08:19<01:34, 18.85s/it]WARNING:root: MAD for feature Sex = Female is 0, so replacing it with 1.0 to avoid error.\n",
      "WARNING:root: MAD for feature Sex = Male is 0, so replacing it with 1.0 to avoid error.\n",
      "WARNING:root: MAD for feature Age_Cat = Less than 25 is 0, so replacing it with 1.0 to avoid error.\n",
      "WARNING:root: MAD for feature Age_Cat = 25 - 45 is 0, so replacing it with 1.0 to avoid error.\n",
      "WARNING:root: MAD for feature Age_Cat = Greater than 45 is 0, so replacing it with 1.0 to avoid error.\n",
      "WARNING:root: MAD for feature Race = African-American is 0, so replacing it with 1.0 to avoid error.\n",
      "WARNING:root: MAD for feature Race = Caucasian is 0, so replacing it with 1.0 to avoid error.\n",
      "WARNING:root: MAD for feature Race = Hispanic is 0, so replacing it with 1.0 to avoid error.\n",
      "WARNING:root: MAD for feature Race = Native American is 0, so replacing it with 1.0 to avoid error.\n",
      "WARNING:root: MAD for feature C_Charge_Degree = F is 0, so replacing it with 1.0 to avoid error.\n",
      "WARNING:root: MAD for feature C_Charge_Degree = M is 0, so replacing it with 1.0 to avoid error.\n"
     ]
    },
    {
     "name": "stdout",
     "output_type": "stream",
     "text": [
      "Diverse Counterfactuals found! total time taken: 00 min 13 sec\n"
     ]
    },
    {
     "name": "stderr",
     "output_type": "stream",
     "text": [
      " 89%|████████▉ | 34/38 [08:52<01:31, 22.93s/it]WARNING:root: MAD for feature Sex = Female is 0, so replacing it with 1.0 to avoid error.\n",
      "WARNING:root: MAD for feature Sex = Male is 0, so replacing it with 1.0 to avoid error.\n",
      "WARNING:root: MAD for feature Age_Cat = Less than 25 is 0, so replacing it with 1.0 to avoid error.\n",
      "WARNING:root: MAD for feature Age_Cat = 25 - 45 is 0, so replacing it with 1.0 to avoid error.\n",
      "WARNING:root: MAD for feature Age_Cat = Greater than 45 is 0, so replacing it with 1.0 to avoid error.\n",
      "WARNING:root: MAD for feature Race = African-American is 0, so replacing it with 1.0 to avoid error.\n",
      "WARNING:root: MAD for feature Race = Caucasian is 0, so replacing it with 1.0 to avoid error.\n",
      "WARNING:root: MAD for feature Race = Hispanic is 0, so replacing it with 1.0 to avoid error.\n",
      "WARNING:root: MAD for feature Race = Native American is 0, so replacing it with 1.0 to avoid error.\n",
      "WARNING:root: MAD for feature C_Charge_Degree = F is 0, so replacing it with 1.0 to avoid error.\n",
      "WARNING:root: MAD for feature C_Charge_Degree = M is 0, so replacing it with 1.0 to avoid error.\n"
     ]
    },
    {
     "name": "stdout",
     "output_type": "stream",
     "text": [
      "Diverse Counterfactuals found! total time taken: 00 min 16 sec\n"
     ]
    },
    {
     "name": "stderr",
     "output_type": "stream",
     "text": [
      " 92%|█████████▏| 35/38 [09:06<01:01, 20.48s/it]WARNING:root: MAD for feature Sex = Female is 0, so replacing it with 1.0 to avoid error.\n",
      "WARNING:root: MAD for feature Sex = Male is 0, so replacing it with 1.0 to avoid error.\n",
      "WARNING:root: MAD for feature Age_Cat = Less than 25 is 0, so replacing it with 1.0 to avoid error.\n",
      "WARNING:root: MAD for feature Age_Cat = 25 - 45 is 0, so replacing it with 1.0 to avoid error.\n",
      "WARNING:root: MAD for feature Age_Cat = Greater than 45 is 0, so replacing it with 1.0 to avoid error.\n",
      "WARNING:root: MAD for feature Race = African-American is 0, so replacing it with 1.0 to avoid error.\n",
      "WARNING:root: MAD for feature Race = Caucasian is 0, so replacing it with 1.0 to avoid error.\n",
      "WARNING:root: MAD for feature Race = Hispanic is 0, so replacing it with 1.0 to avoid error.\n",
      "WARNING:root: MAD for feature Race = Native American is 0, so replacing it with 1.0 to avoid error.\n",
      "WARNING:root: MAD for feature C_Charge_Degree = F is 0, so replacing it with 1.0 to avoid error.\n",
      "WARNING:root: MAD for feature C_Charge_Degree = M is 0, so replacing it with 1.0 to avoid error.\n"
     ]
    },
    {
     "name": "stdout",
     "output_type": "stream",
     "text": [
      "Diverse Counterfactuals found! total time taken: 00 min 14 sec\n"
     ]
    },
    {
     "name": "stderr",
     "output_type": "stream",
     "text": [
      " 95%|█████████▍| 36/38 [09:39<00:48, 24.19s/it]WARNING:root: MAD for feature Sex = Female is 0, so replacing it with 1.0 to avoid error.\n",
      "WARNING:root: MAD for feature Sex = Male is 0, so replacing it with 1.0 to avoid error.\n",
      "WARNING:root: MAD for feature Age_Cat = Less than 25 is 0, so replacing it with 1.0 to avoid error.\n",
      "WARNING:root: MAD for feature Age_Cat = 25 - 45 is 0, so replacing it with 1.0 to avoid error.\n",
      "WARNING:root: MAD for feature Age_Cat = Greater than 45 is 0, so replacing it with 1.0 to avoid error.\n",
      "WARNING:root: MAD for feature Race = African-American is 0, so replacing it with 1.0 to avoid error.\n",
      "WARNING:root: MAD for feature Race = Caucasian is 0, so replacing it with 1.0 to avoid error.\n",
      "WARNING:root: MAD for feature Race = Hispanic is 0, so replacing it with 1.0 to avoid error.\n",
      "WARNING:root: MAD for feature Race = Native American is 0, so replacing it with 1.0 to avoid error.\n",
      "WARNING:root: MAD for feature C_Charge_Degree = F is 0, so replacing it with 1.0 to avoid error.\n",
      "WARNING:root: MAD for feature C_Charge_Degree = M is 0, so replacing it with 1.0 to avoid error.\n"
     ]
    },
    {
     "name": "stdout",
     "output_type": "stream",
     "text": [
      "Diverse Counterfactuals found! total time taken: 00 min 15 sec\n"
     ]
    },
    {
     "name": "stderr",
     "output_type": "stream",
     "text": [
      " 97%|█████████▋| 37/38 [10:08<00:25, 25.52s/it]WARNING:root: MAD for feature Sex = Female is 0, so replacing it with 1.0 to avoid error.\n",
      "WARNING:root: MAD for feature Sex = Male is 0, so replacing it with 1.0 to avoid error.\n",
      "WARNING:root: MAD for feature Age_Cat = Less than 25 is 0, so replacing it with 1.0 to avoid error.\n",
      "WARNING:root: MAD for feature Age_Cat = 25 - 45 is 0, so replacing it with 1.0 to avoid error.\n",
      "WARNING:root: MAD for feature Age_Cat = Greater than 45 is 0, so replacing it with 1.0 to avoid error.\n",
      "WARNING:root: MAD for feature Race = African-American is 0, so replacing it with 1.0 to avoid error.\n",
      "WARNING:root: MAD for feature Race = Caucasian is 0, so replacing it with 1.0 to avoid error.\n",
      "WARNING:root: MAD for feature Race = Hispanic is 0, so replacing it with 1.0 to avoid error.\n",
      "WARNING:root: MAD for feature Race = Native American is 0, so replacing it with 1.0 to avoid error.\n",
      "WARNING:root: MAD for feature C_Charge_Degree = F is 0, so replacing it with 1.0 to avoid error.\n",
      "WARNING:root: MAD for feature C_Charge_Degree = M is 0, so replacing it with 1.0 to avoid error.\n"
     ]
    },
    {
     "name": "stdout",
     "output_type": "stream",
     "text": [
      "Diverse Counterfactuals found! total time taken: 00 min 13 sec\n"
     ]
    },
    {
     "name": "stderr",
     "output_type": "stream",
     "text": [
      "100%|██████████| 38/38 [10:33<00:00, 16.66s/it]"
     ]
    },
    {
     "name": "stdout",
     "output_type": "stream",
     "text": [
      "Diverse Counterfactuals found! total time taken: 00 min 11 sec\n"
     ]
    },
    {
     "name": "stderr",
     "output_type": "stream",
     "text": [
      "\n"
     ]
    }
   ],
   "source": [
    "dice_results = dice_explainer.generate_counterfactuals(query_instances=factual_X, features_to_vary=dice_features, desired_class=\"opposite\", total_CFs=1)"
   ]
  },
  {
   "cell_type": "code",
   "execution_count": 131,
   "metadata": {},
   "outputs": [],
   "source": [
    "# Iterate through each result and append to the DataFrame\n",
    "dice_df_list = []\n",
    "for cf in dice_results.cf_examples_list:\n",
    "    # Convert to DataFrame and append\n",
    "    cf_df = cf.final_cfs_df\n",
    "    dice_df_list.append(cf_df)\n",
    "\n",
    "counterfactual_X_dice = pd.concat(dice_df_list).reset_index(drop=True).drop(target_name, axis=1)\n",
    "counterfactual_X_dice = postprocessing(counterfactual_X_dice)"
   ]
  },
  {
   "cell_type": "code",
   "execution_count": 132,
   "metadata": {},
   "outputs": [],
   "source": [
    "counterfactual_y_dice = model.predict(counterfactual_X_dice.values)"
   ]
  },
  {
   "cell_type": "code",
   "execution_count": 133,
   "metadata": {},
   "outputs": [
    {
     "name": "stdout",
     "output_type": "stream",
     "text": [
      "Coverage (DiCE): 0.9736842105263158\n"
     ]
    }
   ],
   "source": [
    "print('Coverage (DiCE):', counterfactual_y_dice.sum()/len(counterfactual_y_dice))"
   ]
  },
  {
   "cell_type": "code",
   "execution_count": 134,
   "metadata": {},
   "outputs": [],
   "source": [
    "# import os \n",
    "# import pickle \n",
    "# dump_data_path = './data/baseline/'\n",
    "# with open(os.path.join(dump_data_path, f\"dice_results_{model.name}_{name}.pkl\"), \"wb\") as file:\n",
    "#     pickle.dump(dice_results, file)"
   ]
  },
  {
   "cell_type": "markdown",
   "metadata": {},
   "source": [
    "## Distributional Counterfactual Explanation (DCE)"
   ]
  },
  {
   "cell_type": "code",
   "execution_count": 135,
   "metadata": {},
   "outputs": [],
   "source": [
    "from explainers.dce import DistributionalCounterfactualExplainer\n",
    "\n",
    "delta = 1e-5\n",
    "alpha = 0.05\n",
    "N = 10\n",
    "\n",
    "explain_columns = df_explain.columns\n",
    "\n",
    "explainer = DistributionalCounterfactualExplainer(\n",
    "    model=model, \n",
    "    df_X=factual_X, \n",
    "    explain_columns=explain_columns,\n",
    "    y_target=y_target, \n",
    "    lr=0.1, \n",
    "    n_proj=N,\n",
    "    delta=delta,\n",
    "    costs_vector=None)"
   ]
  },
  {
   "cell_type": "code",
   "execution_count": 136,
   "metadata": {},
   "outputs": [],
   "source": [
    "# import os \n",
    "# import pickle \n",
    "# dump_data_path = './data/baseline/'\n",
    "# with open(os.path.join(dump_data_path, f\"explainer_{model.name}_{name}.pkl\"), 'rb') as file:\n",
    "#     explainer = pickle.load(file)"
   ]
  },
  {
   "cell_type": "code",
   "execution_count": 137,
   "metadata": {},
   "outputs": [
    {
     "name": "stderr",
     "output_type": "stream",
     "text": [
      "INFO:root:Optimization started\n",
      "INFO:root:U_1-Qu_upper=0.01, U_2-Qv_upper=-0.5213172399913655\n",
      "INFO:root:eta=0.85, l=0.7074999999999999, r=0.85\n",
      "INFO:root:Iter 1: Q = 0.06727836281061172, term1 = 0.028706947341561317, term2 = 0.07408507913351059\n",
      "INFO:root:U_1-Qu_upper=-0.19590402405833027, U_2-Qv_upper=-0.1057310271720987\n",
      "INFO:root:eta=0.7574500018667065, l=0.7074999999999999, r=0.8428749999999999\n",
      "INFO:root:Iter 2: Q = 0.04856676235795021, term1 = 0.009947082959115505, term2 = 0.06093352288007736\n",
      "INFO:root:U_1-Qu_upper=-0.1024911347031009, U_2-Qv_upper=-0.06578876078974721\n",
      "INFO:root:eta=0.760424643587567, l=0.7074999999999999, r=0.8361062499999999\n",
      "INFO:root:Iter 3: Q = 0.027111202478408813, term1 = 0.007836738601326942, term2 = 0.033183712512254715\n",
      "INFO:root:U_1-Qu_upper=-0.0856211654983721, U_2-Qv_upper=0.008300876374542798\n",
      "INFO:root:eta=0.7074999999999999, l=0.7074999999999999, r=0.8296759374999999\n",
      "INFO:root:Iter 4: Q = 0.02003321424126625, term1 = 0.0034189000725746155, term2 = 0.026902031153440475\n",
      "INFO:root:U_1-Qu_upper=-0.04223901413613888, U_2-Qv_upper=0.022630567220459058\n",
      "INFO:root:eta=0.7074999999999999, l=0.7074999999999999, r=0.8235671406249999\n",
      "INFO:root:Iter 5: Q = 0.011870129033923149, term1 = 0.0027965474873781204, term2 = 0.015621398575603962\n",
      "INFO:root:U_1-Qu_upper=-0.042329821115870116, U_2-Qv_upper=0.06846469674571634\n",
      "INFO:root:eta=0.7074999999999999, l=0.7074999999999999, r=0.8177637835937499\n",
      "INFO:root:Iter 6: Q = 0.008049319498240948, term1 = 0.0018911734223365784, term2 = 0.010595266707241535\n",
      "INFO:root:U_1-Qu_upper=-0.02330084071650467, U_2-Qv_upper=0.09028420005236049\n",
      "INFO:root:eta=0.7074999999999999, l=0.7074999999999999, r=0.8122505944140624\n",
      "INFO:root:Iter 7: Q = 0.005103384144604206, term1 = 0.0014215016271919012, term2 = 0.006625576410442591\n",
      "INFO:root:U_1-Qu_upper=-0.022363140714388594, U_2-Qv_upper=0.11456763297447133\n",
      "INFO:root:eta=0.7074999999999999, l=0.7074999999999999, r=0.8070130646933593\n",
      "INFO:root:Iter 8: Q = 0.0034137731418013573, term1 = 0.001059486879967153, term2 = 0.004387100227177143\n",
      "INFO:root:U_1-Qu_upper=-0.006344187182854082, U_2-Qv_upper=0.12784992052270133\n",
      "INFO:root:eta=0.7074999999999999, l=0.7074999999999999, r=0.8020374114586913\n",
      "INFO:root:Iter 9: Q = 0.0022597345523536205, term1 = 0.0008014490595087409, term2 = 0.002862629946321249\n",
      "INFO:root:U_1-Qu_upper=-0.007088244254328959, U_2-Qv_upper=0.14338688804394426\n",
      "INFO:root:eta=0.7074999999999999, l=0.7074999999999999, r=0.7973105408857568\n",
      "INFO:root:Iter 10: Q = 0.0015802887501195073, term1 = 0.0006221272051334381, term2 = 0.0019764192402362823\n",
      "INFO:root:U_1-Qu_upper=0.01, U_2-Qv_upper=0.15322547302135878\n",
      "INFO:root:eta=0.7130022380528805, l=0.7074999999999999, r=0.7928200138414689\n",
      "INFO:root:Iter 11: Q = 0.0010252133943140507, term1 = 0.00048240553587675095, term2 = 0.0012437044642865658\n",
      "INFO:root:U_1-Qu_upper=0.004783365250457048, U_2-Qv_upper=0.16284848773456087\n",
      "INFO:root:eta=0.7099346016709263, l=0.7074999999999999, r=0.7885540131493954\n",
      "INFO:root:Iter 12: Q = 0.0007024373044259846, term1 = 0.0005523422150872648, term2 = 0.0007637632661499083\n",
      "INFO:root:U_1-Qu_upper=0.01, U_2-Qv_upper=0.1704809630202086\n",
      "INFO:root:eta=0.7119910007012938, l=0.7074999999999999, r=0.7845013124919257\n",
      "INFO:root:Iter 13: Q = 0.000537757994607091, term1 = 0.00032078815274871886, term2 = 0.000625524902716279\n",
      "INFO:root:U_1-Qu_upper=0.01, U_2-Qv_upper=0.17249759480101612\n",
      "INFO:root:eta=0.711719305606514, l=0.7074999999999999, r=0.7806512468673293\n",
      "INFO:root:Iter 14: Q = 0.0003655207983683795, term1 = 0.0002563954913057387, term2 = 0.00040972180431708694\n",
      "INFO:root:U_1-Qu_upper=0.01, U_2-Qv_upper=0.1783948752569749\n",
      "INFO:root:eta=0.7113828681920115, l=0.7074999999999999, r=0.7769936845239629\n",
      "INFO:root:Iter 15: Q = 0.00026070530293509364, term1 = 0.0001926855038618669, term2 = 0.00028830181690864265\n",
      "INFO:root:U_1-Qu_upper=0.01, U_2-Qv_upper=0.1820420086846367\n",
      "INFO:root:eta=0.7111186709876629, l=0.7074999999999999, r=0.7735190002977648\n",
      "INFO:root:Iter 16: Q = 0.00019353980314917862, term1 = 0.00015710221487097442, term2 = 0.00020834201131947339\n",
      "INFO:root:U_1-Qu_upper=0.01, U_2-Qv_upper=0.18471324272337813\n",
      "INFO:root:eta=0.7108905757705218, l=0.7074999999999999, r=0.7702180502828765\n",
      "INFO:root:Iter 17: Q = 0.00013369714724831283, term1 = 0.00012116959260310978, term2 = 0.00013879193284083158\n",
      "INFO:root:U_1-Qu_upper=0.01, U_2-Qv_upper=0.18751680868762186\n",
      "INFO:root:eta=0.7106753272392157, l=0.7074999999999999, r=0.7670821477687326\n",
      "INFO:root:Iter 18: Q = 0.000103867678262759, term1 = 9.91736160358414e-05, term2 = 0.00010577869397820905\n",
      "INFO:root:U_1-Qu_upper=0.01, U_2-Qv_upper=0.18908730679350355\n",
      "INFO:root:eta=0.7104927647688022, l=0.7074999999999999, r=0.764103040380296\n",
      "INFO:root:Iter 19: Q = 7.222290150821209e-05, term1 = 7.711588114034384e-05, term2 = 7.022914360277355e-05\n",
      "INFO:root:U_1-Qu_upper=0.01, U_2-Qv_upper=0.1910554162400635\n",
      "INFO:root:eta=0.710315295476184, l=0.7074999999999999, r=0.7612728883612812\n",
      "INFO:root:Iter 20: Q = 5.745184898842126e-05, term1 = 6.339456012938172e-05, term2 = 5.502826388692483e-05\n",
      "INFO:root:U_1-Qu_upper=0.01, U_2-Qv_upper=0.19213076573693572\n",
      "INFO:root:eta=0.7101603020161346, l=0.7074999999999999, r=0.7585842439432171\n",
      "INFO:root:Iter 21: Q = 4.059859202243388e-05, term1 = 4.9405924073653296e-05, term2 = 3.7004028854425997e-05\n",
      "INFO:root:U_1-Qu_upper=0.01, U_2-Qv_upper=0.19353344378967174\n",
      "INFO:root:eta=0.7100098697782564, l=0.7074999999999999, r=0.7560300317460562\n",
      "INFO:root:Iter 22: Q = 3.253605973441154e-05, term1 = 4.0550185076426715e-05, term2 = 2.9262842872412875e-05\n",
      "INFO:root:U_1-Qu_upper=0.01, U_2-Qv_upper=0.19424833656074184\n",
      "INFO:root:eta=0.7098760306969072, l=0.7074999999999999, r=0.7536035301587534\n",
      "INFO:root:Iter 23: Q = 2.339067214052193e-05, term1 = 3.158754770993255e-05, term2 = 2.0040635718032718e-05\n",
      "INFO:root:U_1-Qu_upper=0.01, U_2-Qv_upper=0.1952866296744\n",
      "INFO:root:eta=0.7097458126100017, l=0.7074999999999999, r=0.7512983536508157\n",
      "INFO:root:Iter 24: Q = 1.9165856429026462e-05, term1 = 2.598461833258625e-05, term2 = 1.6377289284719154e-05\n",
      "INFO:root:U_1-Qu_upper=0.01, U_2-Qv_upper=0.19565161355747016\n",
      "INFO:root:eta=0.7096297354731707, l=0.7074999999999999, r=0.7491084359682749\n",
      "INFO:root:Iter 25: Q = 4.69138722110074e-05, term1 = 0.00013642468547914177, term2 = 1.028734004648868e-05\n",
      "INFO:root:U_1-Qu_upper=0.01, U_2-Qv_upper=0.1965824303816151\n",
      "INFO:root:eta=0.7095141323679565, l=0.7074999999999999, r=0.7470280141698612\n",
      "INFO:root:Iter 26: Q = 3.172869037371129e-05, term1 = 8.836401684675366e-05, term2 = 8.541328497813083e-06\n",
      "INFO:root:Converged at iteration 26\n"
     ]
    }
   ],
   "source": [
    "explainer.optimize(U_1=0.01, U_2=0.2, l=0.7, r=0.85, max_iter=100, tau=1e3)"
   ]
  },
  {
   "cell_type": "code",
   "execution_count": 138,
   "metadata": {},
   "outputs": [],
   "source": [
    "# import os \n",
    "# import pickle \n",
    "# dump_data_path = './data/baseline/'\n",
    "# with open(os.path.join(dump_data_path, f\"explainer_{model.name}_{name}.pkl\"), \"wb\") as file:\n",
    "#     pickle.dump(explainer, file)"
   ]
  },
  {
   "cell_type": "code",
   "execution_count": 139,
   "metadata": {},
   "outputs": [],
   "source": [
    "X_train = pd.DataFrame(X_train, columns=X.columns)"
   ]
  },
  {
   "cell_type": "code",
   "execution_count": 140,
   "metadata": {},
   "outputs": [],
   "source": [
    "counterfactual_X_dce = pd.DataFrame(explainer.best_X.detach().numpy(), columns=df_explain.columns)\n",
    "counterfactual_X_dce = postprocessing(counterfactual_X_dce)\n",
    "\n",
    "dtype_dict = X_train.dtypes.apply(lambda x: x.name).to_dict()\n",
    "for k, v in dtype_dict.items():\n",
    "    if k in counterfactual_X_dce.columns:\n",
    "        if v[:3] == 'int':\n",
    "            counterfactual_X_dce[k] = counterfactual_X_dce[k].round().astype(v)\n",
    "        else:\n",
    "            counterfactual_X_dce[k] = counterfactual_X_dce[k].astype(v)\n",
    "\n",
    "counterfactual_y_prob_dce = pd.DataFrame(explainer.y.detach().numpy(),columns=[target_name], index=counterfactual_X_dce.index)\n",
    "counterfactual_y_dce = np.int64((counterfactual_y_prob_dce.values > 0.5).reshape(-1))"
   ]
  },
  {
   "cell_type": "code",
   "execution_count": 141,
   "metadata": {},
   "outputs": [
    {
     "name": "stdout",
     "output_type": "stream",
     "text": [
      "Coverage (DCE): 0.9736842105263158\n"
     ]
    }
   ],
   "source": [
    "print('Coverage (DCE):', counterfactual_y_dce.sum()/len(counterfactual_y_dce))"
   ]
  },
  {
   "cell_type": "markdown",
   "metadata": {},
   "source": [
    "## Distance Evaluation"
   ]
  },
  {
   "cell_type": "code",
   "execution_count": 142,
   "metadata": {},
   "outputs": [],
   "source": [
    "from explainers.distances import SlicedWassersteinDivergence, WassersteinDivergence\n",
    "from scipy.stats import gaussian_kde, entropy\n",
    "from numpy.linalg import LinAlgError\n",
    "\n",
    "def compute_distance(X_s, X_t):\n",
    "    if type(X_s) == pd.DataFrame:\n",
    "        X_s = torch.FloatTensor(X_s.values)\n",
    "    if type(X_t) == pd.DataFrame:\n",
    "        X_t = torch.FloatTensor(X_t.values)\n",
    "\n",
    "    if type(X_s) == np.ndarray:\n",
    "        X_s = torch.FloatTensor(X_s)\n",
    "    if type(X_t) == np.ndarray:\n",
    "        X_t = torch.FloatTensor(X_t)\n",
    "\n",
    "    if X_s.ndim == 1:\n",
    "        wd = WassersteinDivergence()\n",
    "        distance, _ = wd.distance(X_s, X_t, delta=0.1)\n",
    "    else:\n",
    "        swd = SlicedWassersteinDivergence(\n",
    "                dim=X_s.shape[1], n_proj=5000\n",
    "        )\n",
    "        distance, _ = swd.distance(X_s, X_t, delta=0.1)\n",
    "    return distance.item()\n",
    "\n",
    "\n",
    "def compute_kl_divergence(X_s, X_t):\n",
    "    kl_divergences = []\n",
    "    for i in range(X_s.shape[1]):  # Iterate over columns (features)\n",
    "        try:\n",
    "            # Estimate probability distributions using KDE\n",
    "            kde_s = gaussian_kde(X_s[:, i])\n",
    "            kde_t = gaussian_kde(X_t[:, i])\n",
    "\n",
    "            # Evaluate the densities on a linear space of the same range\n",
    "            x_min = min(X_s[:, i].min(), X_t[:, i].min())\n",
    "            x_max = max(X_s[:, i].max(), X_t[:, i].max())\n",
    "            x = np.linspace(x_min, x_max, 1000)\n",
    "\n",
    "            # Compute the KL divergence (entropy)\n",
    "            kl_div = entropy(kde_s(x), kde_t(x))\n",
    "        except LinAlgError:\n",
    "            # Catch the singular matrix error and set the divergence to infinity\n",
    "            kl_div = np.inf\n",
    "\n",
    "        kl_divergences.append(kl_div)\n",
    "\n",
    "    # Aggregate the KL divergences\n",
    "    total_kl_divergence = np.sum(kl_divergences)  # Or use np.mean for average\n",
    "    return total_kl_divergence\n",
    "\n",
    "def gaussian_kernel(x, y, sigma=1.0):\n",
    "    \"\"\"Compute the Gaussian kernel between x and y\"\"\"\n",
    "    return np.exp(-np.linalg.norm(x - y) ** 2 / (2 * sigma ** 2))\n",
    "\n",
    "def mmd(X_s, X_t, kernel=gaussian_kernel):\n",
    "    \"\"\"Compute the Maximum Mean Discrepancy (MMD) between two samples X_s and X_t\"\"\"\n",
    "    n = X_s.shape[0]\n",
    "    m = X_t.shape[0]\n",
    "\n",
    "    # Calculate the kernel values between all points in the first sample\n",
    "    XX = np.sum([kernel(X_s[i], X_s[j]) for i in range(n) for j in range(n)])\n",
    "    \n",
    "    # Calculate the kernel values between all points in the second sample\n",
    "    YY = np.sum([kernel(X_t[i], X_t[j]) for i in range(m) for j in range(m)])\n",
    "    \n",
    "    # Calculate the kernel values between all points across the two samples\n",
    "    XY = np.sum([kernel(X_s[i], X_t[j]) for i in range(n) for j in range(m)])\n",
    "\n",
    "    return XX / (n ** 2) + YY / (m ** 2) - 2 * XY / (n * m)\n"
   ]
  },
  {
   "cell_type": "code",
   "execution_count": 143,
   "metadata": {},
   "outputs": [],
   "source": [
    "cov_ares = counterfactual_y_ares.sum()/len(counterfactual_y_ares)\n",
    "cov_global_ce = counterfactual_y_global_ce.sum()/len(counterfactual_y_global_ce)\n",
    "cov_dice = counterfactual_y_dice.sum()/len(counterfactual_y_dice)\n",
    "cov_dce = counterfactual_y_dce.sum()/len(counterfactual_y_dce)"
   ]
  },
  {
   "cell_type": "code",
   "execution_count": 144,
   "metadata": {},
   "outputs": [
    {
     "name": "stdout",
     "output_type": "stream",
     "text": [
      "Coverage (AReS): 0.18421052631578946\n",
      "Coverage (Globe CE): 1.0\n",
      "Coverage (DiCE): 0.9736842105263158\n",
      "Coverage (DCE): 0.9736842105263158\n"
     ]
    }
   ],
   "source": [
    "print('Coverage (AReS):', cov_ares)\n",
    "print('Coverage (Globe CE):', cov_global_ce)\n",
    "print('Coverage (DiCE):', cov_dice)\n",
    "print('Coverage (DCE):', cov_dce)"
   ]
  },
  {
   "cell_type": "code",
   "execution_count": 145,
   "metadata": {},
   "outputs": [
    {
     "name": "stdout",
     "output_type": "stream",
     "text": [
      "X Distance (AReS): 0.015320036560297012\n",
      "X Distance (Globe CE): 30.745779037475586\n",
      "X Distance (DiCE): 0.22971652448177338\n",
      "X Distance (DCE): 0.14119158685207367\n"
     ]
    }
   ],
   "source": [
    "ot_dist_ares = compute_distance(X_s=counterfactual_X_ares, X_t=factual_X)\n",
    "ot_dist_global_ce = compute_distance(X_s=counterfactual_X_global_ce, X_t=factual_X)\n",
    "ot_dist_dce = compute_distance(X_s=counterfactual_X_dce, X_t=factual_X)\n",
    "ot_dist_dice = compute_distance(X_s=counterfactual_X_dice.dropna(), X_t=factual_X)\n",
    "\n",
    "\n",
    "print('X Distance (AReS):', ot_dist_ares)\n",
    "print('X Distance (Globe CE):', ot_dist_global_ce)\n",
    "print('X Distance (DiCE):', ot_dist_dice)\n",
    "print('X Distance (DCE):', ot_dist_dce)"
   ]
  },
  {
   "cell_type": "code",
   "execution_count": 146,
   "metadata": {},
   "outputs": [
    {
     "name": "stdout",
     "output_type": "stream",
     "text": [
      "X MMD (AReS): 0.019386470244398768\n",
      "X MMD (Globe CE): 0.22600758517656552\n",
      "X MMD (DiCE): 0.22796638545693007\n",
      "X MMD (DCE): 0.1056852255284602\n"
     ]
    }
   ],
   "source": [
    "print('X MMD (AReS):', mmd(X_s=counterfactual_X_ares.values, X_t=factual_X.values))\n",
    "print('X MMD (Globe CE):', mmd(X_s=counterfactual_X_global_ce.values, X_t=factual_X.values))\n",
    "print('X MMD (DiCE):', mmd(X_s=counterfactual_X_dice.dropna().values, X_t=factual_X.values))\n",
    "print('X MMD (DCE):', mmd(X_s=counterfactual_X_dce.values, X_t=factual_X.values))"
   ]
  },
  {
   "cell_type": "code",
   "execution_count": 147,
   "metadata": {},
   "outputs": [
    {
     "name": "stdout",
     "output_type": "stream",
     "text": [
      "X KL-Divergence (AReS): inf\n",
      "X KL-Divergence (Globe CE): inf\n",
      "X KL-Divergence (DiCE): inf\n",
      "X KL-Divergence (DCE): inf\n"
     ]
    }
   ],
   "source": [
    "print('X KL-Divergence (AReS):', \n",
    "      compute_kl_divergence(X_s=counterfactual_X_ares.values, X_t=factual_X.values))\n",
    "print('X KL-Divergence (Globe CE):', \n",
    "      compute_kl_divergence(X_s=counterfactual_X_global_ce.values, X_t=factual_X.values))\n",
    "print('X KL-Divergence (DiCE):', \n",
    "      compute_kl_divergence(X_s=counterfactual_X_dice.dropna().values, X_t=factual_X.values))\n",
    "print('X KL-Divergence (DCE):', \n",
    "      compute_kl_divergence(X_s=counterfactual_X_dce.values, X_t=factual_X.values))"
   ]
  },
  {
   "cell_type": "code",
   "execution_count": 148,
   "metadata": {},
   "outputs": [],
   "source": [
    "ares_diff_pct = []\n",
    "globe_ce_diff_pct = []\n",
    "dice_diff_pct = []\n",
    "dce_diff_pct = []\n",
    "for column in df_explain.columns:\n",
    "    ares_pct = (counterfactual_X_ares[column] - factual_X[column]).abs().sum() / (1e-7 + factual_X[column].abs().sum())\n",
    "    globe_ce_pct = (counterfactual_X_global_ce[column] - factual_X[column]).abs().sum() / (1e-7 + factual_X[column].abs().sum())\n",
    "    dice_pct = (counterfactual_X_dice[column] - factual_X[column]).abs().sum() / (1e-7 + factual_X[column].abs().sum())\n",
    "    dce_pct = (counterfactual_X_dce[column] - factual_X[column]).abs().sum() / (1e-7 + factual_X[column].abs().sum())\n",
    "\n",
    "    ares_diff_pct.append({column: ares_pct})\n",
    "    globe_ce_diff_pct.append({column: globe_ce_pct})\n",
    "    dice_diff_pct.append({column: dice_pct})\n",
    "    dce_diff_pct.append({column: dce_pct})"
   ]
  },
  {
   "cell_type": "markdown",
   "metadata": {},
   "source": [
    "## Cost Evaluation"
   ]
  },
  {
   "cell_type": "code",
   "execution_count": 149,
   "metadata": {},
   "outputs": [],
   "source": [
    "def compute_cost(delta, costs_vector):\n",
    "    return np.linalg.norm(delta @ np.diag(costs_vector)) \n",
    "\n",
    "\n",
    "def compute_absolute_difference(counterfactual_X, factual_X):\n",
    "    columns = counterfactual_X.columns.drop(['Priors_Count', 'Time_Served'])\n",
    "    diff_list = []\n",
    "\n",
    "    for column in columns:\n",
    "        diff_list.append((counterfactual_X[column] - factual_X[column]).abs().mean())\n",
    "\n",
    "    return np.nanmean(diff_list)\n",
    "\n",
    "def compute_statistic_difference(counterfactual_X, factual_X, metric, columns):\n",
    "    diff_list = []\n",
    "    for column in columns:\n",
    "        val_cf = counterfactual_X[column].agg(metric)\n",
    "        val_f = factual_X[column].agg(metric)\n",
    "        diff_list.append(abs(val_cf - val_f)/(abs(val_f)) * 100)\n",
    "\n",
    "    return np.nanmean(diff_list)\n"
   ]
  },
  {
   "cell_type": "code",
   "execution_count": 150,
   "metadata": {},
   "outputs": [],
   "source": [
    "ares_delta = (counterfactual_X_ares - factual_X).dropna().values\n",
    "globe_ce_delta = (counterfactual_X_global_ce - factual_X).values\n",
    "dce_delta = (counterfactual_X_dce - factual_X).dropna().values\n",
    "dice_delta = (counterfactual_X_dice - factual_X).dropna().values\n",
    "# dice_delta = (counterfactual_X_dice.dropna() - factual_X.loc[counterfactual_X_dice.dropna().index]).values"
   ]
  },
  {
   "cell_type": "code",
   "execution_count": 151,
   "metadata": {},
   "outputs": [
    {
     "name": "stdout",
     "output_type": "stream",
     "text": [
      "Cost (AReS): 2.0\n",
      "Cost (Globe CE): 1.4643549521044608\n",
      "Cost (DiCE): 5.004487171096834\n",
      "Cost (DCE): 4.757899157346214\n"
     ]
    }
   ],
   "source": [
    "print('Cost (AReS):', compute_cost(ares_delta, costs_vector))\n",
    "print('Cost (Globe CE):', compute_cost(globe_ce_delta, costs_vector))\n",
    "print('Cost (DiCE):', compute_cost(dice_delta, costs_vector))\n",
    "print('Cost (DCE):', compute_cost(dce_delta, costs_vector))"
   ]
  },
  {
   "cell_type": "code",
   "execution_count": 152,
   "metadata": {},
   "outputs": [
    {
     "name": "stdout",
     "output_type": "stream",
     "text": [
      "Categorical Difference (AReS): 0.032388663967611336\n",
      "Categorical Difference (Globe CE): 0.0\n",
      "Categorical Difference (DiCE): 0.17206477732793524\n",
      "Categorical Difference (DCE): 0.17611336032388666\n"
     ]
    }
   ],
   "source": [
    "print('Categorical Difference (AReS):', compute_absolute_difference(counterfactual_X_ares, factual_X))\n",
    "print('Categorical Difference (Globe CE):', compute_absolute_difference(counterfactual_X_global_ce, factual_X))\n",
    "print('Categorical Difference (DiCE):', compute_absolute_difference(counterfactual_X_dice.dropna(), factual_X))\n",
    "print('Categorical Difference (DCE):', compute_absolute_difference(counterfactual_X_dce, factual_X))"
   ]
  },
  {
   "cell_type": "code",
   "execution_count": 153,
   "metadata": {},
   "outputs": [
    {
     "name": "stdout",
     "output_type": "stream",
     "text": [
      "Difference mean (AReS): 0.0\n",
      "Difference mean (Globe CE): 0.0\n",
      "Difference mean (DiCE): 49.47977838926819\n",
      "Difference mean (DCE): 53.800448435764245\n"
     ]
    }
   ],
   "source": [
    "metric = 'mean'\n",
    "columns = ['Priors_Count'] # , 'Time_Served'\n",
    "print(f'Difference {metric} (AReS):', compute_statistic_difference(counterfactual_X_ares, factual_X, metric,columns))\n",
    "print(f'Difference {metric} (Globe CE):', compute_statistic_difference(counterfactual_X_global_ce, factual_X, metric,columns))\n",
    "print(f'Difference {metric} (DiCE):', compute_statistic_difference(counterfactual_X_dice, factual_X, metric,columns))\n",
    "print(f'Difference {metric} (DCE):', compute_statistic_difference(counterfactual_X_dce, factual_X, metric,columns))"
   ]
  },
  {
   "cell_type": "code",
   "execution_count": 154,
   "metadata": {},
   "outputs": [
    {
     "name": "stdout",
     "output_type": "stream",
     "text": [
      "Difference std (AReS): 0.0\n",
      "Difference std (Globe CE): 0.0\n",
      "Difference std (DiCE): 68.78658795200151\n",
      "Difference std (DCE): 1.6493118603640504\n"
     ]
    }
   ],
   "source": [
    "metric = 'std'\n",
    "columns = ['Priors_Count'] # , 'Time_Served'\n",
    "print(f'Difference {metric} (AReS):', compute_statistic_difference(counterfactual_X_ares, factual_X, metric,columns))\n",
    "print(f'Difference {metric} (Globe CE):', compute_statistic_difference(counterfactual_X_global_ce, factual_X, metric,columns))\n",
    "print(f'Difference {metric} (DiCE):', compute_statistic_difference(counterfactual_X_dice, factual_X, metric,columns))\n",
    "print(f'Difference {metric} (DCE):', compute_statistic_difference(counterfactual_X_dce, factual_X, metric,columns))"
   ]
  },
  {
   "cell_type": "code",
   "execution_count": 155,
   "metadata": {},
   "outputs": [
    {
     "name": "stdout",
     "output_type": "stream",
     "text": [
      "Difference mean (AReS): 0.0\n",
      "Difference mean (Globe CE): 3704.342096287626\n",
      "Difference mean (DiCE): 51.85124511644915\n",
      "Difference mean (DCE): 53.35593976003034\n"
     ]
    }
   ],
   "source": [
    "metric = 'mean'\n",
    "columns = ['Time_Served'] # , 'Time_Served'\n",
    "print(f'Difference {metric} (AReS):', compute_statistic_difference(counterfactual_X_ares, factual_X, metric,columns))\n",
    "print(f'Difference {metric} (Globe CE):', compute_statistic_difference(counterfactual_X_global_ce, factual_X, metric,columns))\n",
    "print(f'Difference {metric} (DiCE):', compute_statistic_difference(counterfactual_X_dice, factual_X, metric,columns))\n",
    "print(f'Difference {metric} (DCE):', compute_statistic_difference(counterfactual_X_dce, factual_X, metric,columns))"
   ]
  },
  {
   "cell_type": "code",
   "execution_count": 156,
   "metadata": {},
   "outputs": [
    {
     "name": "stdout",
     "output_type": "stream",
     "text": [
      "Difference std (AReS): 0.0\n",
      "Difference std (Globe CE): 0.0\n",
      "Difference std (DiCE): 79.28489176349099\n",
      "Difference std (DCE): 1.343959421630669\n"
     ]
    }
   ],
   "source": [
    "metric = 'std'\n",
    "columns = ['Time_Served'] # , 'Time_Served'\n",
    "print(f'Difference {metric} (AReS):', compute_statistic_difference(counterfactual_X_ares, factual_X, metric,columns))\n",
    "print(f'Difference {metric} (Globe CE):', compute_statistic_difference(counterfactual_X_global_ce, factual_X, metric,columns))\n",
    "print(f'Difference {metric} (DiCE):', compute_statistic_difference(counterfactual_X_dice, factual_X, metric,columns))\n",
    "print(f'Difference {metric} (DCE):', compute_statistic_difference(counterfactual_X_dce, factual_X, metric,columns))"
   ]
  },
  {
   "cell_type": "markdown",
   "metadata": {},
   "source": [
    "## Diversity"
   ]
  },
  {
   "cell_type": "code",
   "execution_count": 157,
   "metadata": {},
   "outputs": [],
   "source": [
    "def compute_average_pairwise_distance(counterfactual_X):\n",
    "    n = len(counterfactual_X)\n",
    "    total_distance = 0\n",
    "    count = 0\n",
    "\n",
    "    for i in range(n):\n",
    "        for j in range(i+1, n):\n",
    "            dist = np.linalg.norm(counterfactual_X.iloc[i] - counterfactual_X.iloc[j])\n",
    "            total_distance += dist\n",
    "            count += 1\n",
    "\n",
    "    if count > 0:\n",
    "        average_distance = total_distance / count\n",
    "    else:\n",
    "        average_distance = 0\n",
    "\n",
    "    return average_distance\n"
   ]
  },
  {
   "cell_type": "code",
   "execution_count": 158,
   "metadata": {},
   "outputs": [],
   "source": [
    "diversity_factual = compute_average_pairwise_distance(factual_X)"
   ]
  },
  {
   "cell_type": "code",
   "execution_count": 159,
   "metadata": {},
   "outputs": [
    {
     "name": "stdout",
     "output_type": "stream",
     "text": [
      "Diversity (Factual) 3.3613747724778062\n"
     ]
    }
   ],
   "source": [
    "print('Diversity (Factual)', diversity_factual)"
   ]
  },
  {
   "cell_type": "code",
   "execution_count": 160,
   "metadata": {},
   "outputs": [],
   "source": [
    "diversity_ares = compute_average_pairwise_distance(counterfactual_X_ares)\n",
    "diversity_global_ce = compute_average_pairwise_distance(counterfactual_X_global_ce)\n",
    "diversity_dice = compute_average_pairwise_distance(counterfactual_X_dice.dropna())\n",
    "diversity_dce = compute_average_pairwise_distance(counterfactual_X_dce)"
   ]
  },
  {
   "cell_type": "code",
   "execution_count": 161,
   "metadata": {},
   "outputs": [
    {
     "name": "stdout",
     "output_type": "stream",
     "text": [
      "Diversity (AReS): 3.2808134674587675\n",
      "Diversity (Globe CE): 3.361374772477807\n",
      "Diversity (DiCE): 2.011438216960557\n",
      "Diversity (DCE): 3.4481292587826897\n"
     ]
    }
   ],
   "source": [
    "print('Diversity (AReS):', diversity_ares)\n",
    "print('Diversity (Globe CE):', diversity_global_ce)\n",
    "print('Diversity (DiCE):', diversity_dice)\n",
    "print('Diversity (DCE):', diversity_dce)"
   ]
  },
  {
   "cell_type": "code",
   "execution_count": 162,
   "metadata": {},
   "outputs": [
    {
     "name": "stdout",
     "output_type": "stream",
     "text": [
      "Effective Diversity (AReS): 39.449016535035796\n",
      "Effective Diversity (Globe CE): 0.10932800786672785\n",
      "Effective Diversity (DiCE): 8.525749885525087\n",
      "Effective Diversity (DCE): 23.778959426584304\n"
     ]
    }
   ],
   "source": [
    "print('Effective Diversity (AReS):', diversity_ares/ot_dist_ares * cov_ares)\n",
    "print('Effective Diversity (Globe CE):', diversity_global_ce/ot_dist_global_ce * cov_global_ce)\n",
    "print('Effective Diversity (DiCE):', diversity_dice/ot_dist_dice * cov_dice)\n",
    "print('Effective Diversity (DCE):', diversity_dce/ot_dist_dce * cov_dce)"
   ]
  },
  {
   "cell_type": "code",
   "execution_count": null,
   "metadata": {},
   "outputs": [],
   "source": []
  }
 ],
 "metadata": {
  "kernelspec": {
   "display_name": "base",
   "language": "python",
   "name": "python3"
  },
  "language_info": {
   "codemirror_mode": {
    "name": "ipython",
    "version": 3
   },
   "file_extension": ".py",
   "mimetype": "text/x-python",
   "name": "python",
   "nbconvert_exporter": "python",
   "pygments_lexer": "ipython3",
   "version": "3.9.13"
  }
 },
 "nbformat": 4,
 "nbformat_minor": 2
}
