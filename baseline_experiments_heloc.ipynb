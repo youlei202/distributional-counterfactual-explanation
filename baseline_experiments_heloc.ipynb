{
 "cells": [
  {
   "cell_type": "code",
   "execution_count": 97,
   "metadata": {},
   "outputs": [],
   "source": [
    "import pandas as pd\n",
    "import numpy as np\n",
    "import seaborn as sns\n",
    "import matplotlib.pyplot as plt\n",
    "\n",
    "import torch.optim as optim\n",
    "from sklearn.model_selection import train_test_split\n",
    "import torch\n",
    "import torch.nn as nn\n",
    "\n",
    "from sklearn.preprocessing import LabelEncoder\n",
    "\n",
    "from models.mlp import BlackBoxModel\n",
    "from models.rbf import RBFNet\n",
    "from models.svm import LinearSVM\n",
    "from utils.datasets import dataset_loader\n",
    "\n",
    "pd.set_option('display.max_columns', None)\n",
    "\n",
    "%reload_ext autoreload\n",
    "%autoreload 2"
   ]
  },
  {
   "cell_type": "code",
   "execution_count": 98,
   "metadata": {},
   "outputs": [],
   "source": [
    "def bold(string):\n",
    "    return \"\\033[1m\" + string + \"\\033[0m\""
   ]
  },
  {
   "cell_type": "code",
   "execution_count": 99,
   "metadata": {},
   "outputs": [],
   "source": [
    "name = 'heloc'\n",
    "dropped_features = []#UCIDatasets().continuous_features[dataset]\n",
    "dataset = dataset_loader(name, dropped_features=dropped_features, n_bins=None)"
   ]
  },
  {
   "cell_type": "code",
   "execution_count": 100,
   "metadata": {},
   "outputs": [
    {
     "data": {
      "text/html": [
       "<div>\n",
       "<style scoped>\n",
       "    .dataframe tbody tr th:only-of-type {\n",
       "        vertical-align: middle;\n",
       "    }\n",
       "\n",
       "    .dataframe tbody tr th {\n",
       "        vertical-align: top;\n",
       "    }\n",
       "\n",
       "    .dataframe thead th {\n",
       "        text-align: right;\n",
       "    }\n",
       "</style>\n",
       "<table border=\"1\" class=\"dataframe\">\n",
       "  <thead>\n",
       "    <tr style=\"text-align: right;\">\n",
       "      <th></th>\n",
       "      <th>ExternalRiskEstimate</th>\n",
       "      <th>MSinceOldestTradeOpen</th>\n",
       "      <th>MSinceMostRecentTradeOpen</th>\n",
       "      <th>AverageMInFile</th>\n",
       "      <th>NumSatisfactoryTrades</th>\n",
       "      <th>NumTrades60Ever2DerogPubRec</th>\n",
       "      <th>NumTrades90Ever2DerogPubRec</th>\n",
       "      <th>PercentTradesNeverDelq</th>\n",
       "      <th>MSinceMostRecentDelq</th>\n",
       "      <th>MaxDelq2PublicRecLast12M</th>\n",
       "      <th>MaxDelqEver</th>\n",
       "      <th>NumTotalTrades</th>\n",
       "      <th>NumTradesOpeninLast12M</th>\n",
       "      <th>PercentInstallTrades</th>\n",
       "      <th>MSinceMostRecentInqexcl7days</th>\n",
       "      <th>NumInqLast6M</th>\n",
       "      <th>NumInqLast6Mexcl7days</th>\n",
       "      <th>NetFractionRevolvingBurden</th>\n",
       "      <th>NetFractionInstallBurden</th>\n",
       "      <th>NumRevolvingTradesWBalance</th>\n",
       "      <th>NumInstallTradesWBalance</th>\n",
       "      <th>NumBank2NatlTradesWHighUtilization</th>\n",
       "      <th>PercentTradesWBalance</th>\n",
       "      <th>RiskPerformance</th>\n",
       "    </tr>\n",
       "  </thead>\n",
       "  <tbody>\n",
       "    <tr>\n",
       "      <th>0</th>\n",
       "      <td>55.0</td>\n",
       "      <td>144.0</td>\n",
       "      <td>4</td>\n",
       "      <td>84</td>\n",
       "      <td>20</td>\n",
       "      <td>3</td>\n",
       "      <td>0</td>\n",
       "      <td>83</td>\n",
       "      <td>2.0</td>\n",
       "      <td>3</td>\n",
       "      <td>5</td>\n",
       "      <td>23</td>\n",
       "      <td>1</td>\n",
       "      <td>43</td>\n",
       "      <td>0.0</td>\n",
       "      <td>0</td>\n",
       "      <td>0</td>\n",
       "      <td>33.0</td>\n",
       "      <td>74.0</td>\n",
       "      <td>8.0</td>\n",
       "      <td>1.0</td>\n",
       "      <td>1.0</td>\n",
       "      <td>69.0</td>\n",
       "      <td>0</td>\n",
       "    </tr>\n",
       "    <tr>\n",
       "      <th>1</th>\n",
       "      <td>61.0</td>\n",
       "      <td>58.0</td>\n",
       "      <td>15</td>\n",
       "      <td>41</td>\n",
       "      <td>2</td>\n",
       "      <td>4</td>\n",
       "      <td>4</td>\n",
       "      <td>100</td>\n",
       "      <td>15.0</td>\n",
       "      <td>0</td>\n",
       "      <td>8</td>\n",
       "      <td>7</td>\n",
       "      <td>0</td>\n",
       "      <td>67</td>\n",
       "      <td>0.0</td>\n",
       "      <td>0</td>\n",
       "      <td>0</td>\n",
       "      <td>0.0</td>\n",
       "      <td>74.0</td>\n",
       "      <td>0.0</td>\n",
       "      <td>2.0</td>\n",
       "      <td>1.0</td>\n",
       "      <td>0.0</td>\n",
       "      <td>0</td>\n",
       "    </tr>\n",
       "    <tr>\n",
       "      <th>2</th>\n",
       "      <td>67.0</td>\n",
       "      <td>66.0</td>\n",
       "      <td>5</td>\n",
       "      <td>24</td>\n",
       "      <td>9</td>\n",
       "      <td>0</td>\n",
       "      <td>0</td>\n",
       "      <td>100</td>\n",
       "      <td>15.0</td>\n",
       "      <td>7</td>\n",
       "      <td>8</td>\n",
       "      <td>9</td>\n",
       "      <td>4</td>\n",
       "      <td>44</td>\n",
       "      <td>0.0</td>\n",
       "      <td>4</td>\n",
       "      <td>4</td>\n",
       "      <td>53.0</td>\n",
       "      <td>66.0</td>\n",
       "      <td>4.0</td>\n",
       "      <td>2.0</td>\n",
       "      <td>1.0</td>\n",
       "      <td>86.0</td>\n",
       "      <td>0</td>\n",
       "    </tr>\n",
       "    <tr>\n",
       "      <th>3</th>\n",
       "      <td>66.0</td>\n",
       "      <td>169.0</td>\n",
       "      <td>1</td>\n",
       "      <td>73</td>\n",
       "      <td>28</td>\n",
       "      <td>1</td>\n",
       "      <td>1</td>\n",
       "      <td>93</td>\n",
       "      <td>76.0</td>\n",
       "      <td>6</td>\n",
       "      <td>6</td>\n",
       "      <td>30</td>\n",
       "      <td>3</td>\n",
       "      <td>57</td>\n",
       "      <td>0.0</td>\n",
       "      <td>5</td>\n",
       "      <td>4</td>\n",
       "      <td>72.0</td>\n",
       "      <td>83.0</td>\n",
       "      <td>6.0</td>\n",
       "      <td>4.0</td>\n",
       "      <td>3.0</td>\n",
       "      <td>91.0</td>\n",
       "      <td>0</td>\n",
       "    </tr>\n",
       "    <tr>\n",
       "      <th>4</th>\n",
       "      <td>81.0</td>\n",
       "      <td>333.0</td>\n",
       "      <td>27</td>\n",
       "      <td>132</td>\n",
       "      <td>12</td>\n",
       "      <td>0</td>\n",
       "      <td>0</td>\n",
       "      <td>100</td>\n",
       "      <td>15.0</td>\n",
       "      <td>7</td>\n",
       "      <td>8</td>\n",
       "      <td>12</td>\n",
       "      <td>0</td>\n",
       "      <td>25</td>\n",
       "      <td>0.0</td>\n",
       "      <td>1</td>\n",
       "      <td>1</td>\n",
       "      <td>51.0</td>\n",
       "      <td>89.0</td>\n",
       "      <td>3.0</td>\n",
       "      <td>1.0</td>\n",
       "      <td>0.0</td>\n",
       "      <td>80.0</td>\n",
       "      <td>0</td>\n",
       "    </tr>\n",
       "    <tr>\n",
       "      <th>...</th>\n",
       "      <td>...</td>\n",
       "      <td>...</td>\n",
       "      <td>...</td>\n",
       "      <td>...</td>\n",
       "      <td>...</td>\n",
       "      <td>...</td>\n",
       "      <td>...</td>\n",
       "      <td>...</td>\n",
       "      <td>...</td>\n",
       "      <td>...</td>\n",
       "      <td>...</td>\n",
       "      <td>...</td>\n",
       "      <td>...</td>\n",
       "      <td>...</td>\n",
       "      <td>...</td>\n",
       "      <td>...</td>\n",
       "      <td>...</td>\n",
       "      <td>...</td>\n",
       "      <td>...</td>\n",
       "      <td>...</td>\n",
       "      <td>...</td>\n",
       "      <td>...</td>\n",
       "      <td>...</td>\n",
       "      <td>...</td>\n",
       "    </tr>\n",
       "    <tr>\n",
       "      <th>10454</th>\n",
       "      <td>73.0</td>\n",
       "      <td>131.0</td>\n",
       "      <td>5</td>\n",
       "      <td>57</td>\n",
       "      <td>21</td>\n",
       "      <td>0</td>\n",
       "      <td>0</td>\n",
       "      <td>95</td>\n",
       "      <td>80.0</td>\n",
       "      <td>6</td>\n",
       "      <td>6</td>\n",
       "      <td>21</td>\n",
       "      <td>5</td>\n",
       "      <td>19</td>\n",
       "      <td>7.0</td>\n",
       "      <td>0</td>\n",
       "      <td>0</td>\n",
       "      <td>26.0</td>\n",
       "      <td>74.0</td>\n",
       "      <td>5.0</td>\n",
       "      <td>2.0</td>\n",
       "      <td>0.0</td>\n",
       "      <td>100.0</td>\n",
       "      <td>1</td>\n",
       "    </tr>\n",
       "    <tr>\n",
       "      <th>10455</th>\n",
       "      <td>65.0</td>\n",
       "      <td>147.0</td>\n",
       "      <td>39</td>\n",
       "      <td>68</td>\n",
       "      <td>11</td>\n",
       "      <td>0</td>\n",
       "      <td>0</td>\n",
       "      <td>92</td>\n",
       "      <td>28.0</td>\n",
       "      <td>6</td>\n",
       "      <td>6</td>\n",
       "      <td>12</td>\n",
       "      <td>0</td>\n",
       "      <td>42</td>\n",
       "      <td>1.0</td>\n",
       "      <td>1</td>\n",
       "      <td>1</td>\n",
       "      <td>86.0</td>\n",
       "      <td>53.0</td>\n",
       "      <td>2.0</td>\n",
       "      <td>2.0</td>\n",
       "      <td>1.0</td>\n",
       "      <td>80.0</td>\n",
       "      <td>0</td>\n",
       "    </tr>\n",
       "    <tr>\n",
       "      <th>10456</th>\n",
       "      <td>74.0</td>\n",
       "      <td>129.0</td>\n",
       "      <td>6</td>\n",
       "      <td>64</td>\n",
       "      <td>18</td>\n",
       "      <td>1</td>\n",
       "      <td>1</td>\n",
       "      <td>100</td>\n",
       "      <td>15.0</td>\n",
       "      <td>6</td>\n",
       "      <td>8</td>\n",
       "      <td>18</td>\n",
       "      <td>1</td>\n",
       "      <td>33</td>\n",
       "      <td>3.0</td>\n",
       "      <td>4</td>\n",
       "      <td>4</td>\n",
       "      <td>6.0</td>\n",
       "      <td>74.0</td>\n",
       "      <td>5.0</td>\n",
       "      <td>2.0</td>\n",
       "      <td>0.0</td>\n",
       "      <td>56.0</td>\n",
       "      <td>0</td>\n",
       "    </tr>\n",
       "    <tr>\n",
       "      <th>10457</th>\n",
       "      <td>72.0</td>\n",
       "      <td>234.0</td>\n",
       "      <td>12</td>\n",
       "      <td>113</td>\n",
       "      <td>42</td>\n",
       "      <td>2</td>\n",
       "      <td>2</td>\n",
       "      <td>96</td>\n",
       "      <td>35.0</td>\n",
       "      <td>6</td>\n",
       "      <td>2</td>\n",
       "      <td>45</td>\n",
       "      <td>0</td>\n",
       "      <td>20</td>\n",
       "      <td>6.0</td>\n",
       "      <td>0</td>\n",
       "      <td>0</td>\n",
       "      <td>19.0</td>\n",
       "      <td>74.0</td>\n",
       "      <td>4.0</td>\n",
       "      <td>1.0</td>\n",
       "      <td>0.0</td>\n",
       "      <td>38.0</td>\n",
       "      <td>0</td>\n",
       "    </tr>\n",
       "    <tr>\n",
       "      <th>10458</th>\n",
       "      <td>66.0</td>\n",
       "      <td>28.0</td>\n",
       "      <td>1</td>\n",
       "      <td>17</td>\n",
       "      <td>4</td>\n",
       "      <td>0</td>\n",
       "      <td>0</td>\n",
       "      <td>100</td>\n",
       "      <td>15.0</td>\n",
       "      <td>7</td>\n",
       "      <td>8</td>\n",
       "      <td>5</td>\n",
       "      <td>2</td>\n",
       "      <td>60</td>\n",
       "      <td>3.0</td>\n",
       "      <td>3</td>\n",
       "      <td>2</td>\n",
       "      <td>67.0</td>\n",
       "      <td>74.0</td>\n",
       "      <td>2.0</td>\n",
       "      <td>1.0</td>\n",
       "      <td>0.0</td>\n",
       "      <td>100.0</td>\n",
       "      <td>0</td>\n",
       "    </tr>\n",
       "  </tbody>\n",
       "</table>\n",
       "<p>9871 rows × 24 columns</p>\n",
       "</div>"
      ],
      "text/plain": [
       "       ExternalRiskEstimate  MSinceOldestTradeOpen  MSinceMostRecentTradeOpen  \\\n",
       "0                      55.0                  144.0                          4   \n",
       "1                      61.0                   58.0                         15   \n",
       "2                      67.0                   66.0                          5   \n",
       "3                      66.0                  169.0                          1   \n",
       "4                      81.0                  333.0                         27   \n",
       "...                     ...                    ...                        ...   \n",
       "10454                  73.0                  131.0                          5   \n",
       "10455                  65.0                  147.0                         39   \n",
       "10456                  74.0                  129.0                          6   \n",
       "10457                  72.0                  234.0                         12   \n",
       "10458                  66.0                   28.0                          1   \n",
       "\n",
       "       AverageMInFile  NumSatisfactoryTrades  NumTrades60Ever2DerogPubRec  \\\n",
       "0                  84                     20                            3   \n",
       "1                  41                      2                            4   \n",
       "2                  24                      9                            0   \n",
       "3                  73                     28                            1   \n",
       "4                 132                     12                            0   \n",
       "...               ...                    ...                          ...   \n",
       "10454              57                     21                            0   \n",
       "10455              68                     11                            0   \n",
       "10456              64                     18                            1   \n",
       "10457             113                     42                            2   \n",
       "10458              17                      4                            0   \n",
       "\n",
       "       NumTrades90Ever2DerogPubRec  PercentTradesNeverDelq  \\\n",
       "0                                0                      83   \n",
       "1                                4                     100   \n",
       "2                                0                     100   \n",
       "3                                1                      93   \n",
       "4                                0                     100   \n",
       "...                            ...                     ...   \n",
       "10454                            0                      95   \n",
       "10455                            0                      92   \n",
       "10456                            1                     100   \n",
       "10457                            2                      96   \n",
       "10458                            0                     100   \n",
       "\n",
       "       MSinceMostRecentDelq  MaxDelq2PublicRecLast12M  MaxDelqEver  \\\n",
       "0                       2.0                         3            5   \n",
       "1                      15.0                         0            8   \n",
       "2                      15.0                         7            8   \n",
       "3                      76.0                         6            6   \n",
       "4                      15.0                         7            8   \n",
       "...                     ...                       ...          ...   \n",
       "10454                  80.0                         6            6   \n",
       "10455                  28.0                         6            6   \n",
       "10456                  15.0                         6            8   \n",
       "10457                  35.0                         6            2   \n",
       "10458                  15.0                         7            8   \n",
       "\n",
       "       NumTotalTrades  NumTradesOpeninLast12M  PercentInstallTrades  \\\n",
       "0                  23                       1                    43   \n",
       "1                   7                       0                    67   \n",
       "2                   9                       4                    44   \n",
       "3                  30                       3                    57   \n",
       "4                  12                       0                    25   \n",
       "...               ...                     ...                   ...   \n",
       "10454              21                       5                    19   \n",
       "10455              12                       0                    42   \n",
       "10456              18                       1                    33   \n",
       "10457              45                       0                    20   \n",
       "10458               5                       2                    60   \n",
       "\n",
       "       MSinceMostRecentInqexcl7days  NumInqLast6M  NumInqLast6Mexcl7days  \\\n",
       "0                               0.0             0                      0   \n",
       "1                               0.0             0                      0   \n",
       "2                               0.0             4                      4   \n",
       "3                               0.0             5                      4   \n",
       "4                               0.0             1                      1   \n",
       "...                             ...           ...                    ...   \n",
       "10454                           7.0             0                      0   \n",
       "10455                           1.0             1                      1   \n",
       "10456                           3.0             4                      4   \n",
       "10457                           6.0             0                      0   \n",
       "10458                           3.0             3                      2   \n",
       "\n",
       "       NetFractionRevolvingBurden  NetFractionInstallBurden  \\\n",
       "0                            33.0                      74.0   \n",
       "1                             0.0                      74.0   \n",
       "2                            53.0                      66.0   \n",
       "3                            72.0                      83.0   \n",
       "4                            51.0                      89.0   \n",
       "...                           ...                       ...   \n",
       "10454                        26.0                      74.0   \n",
       "10455                        86.0                      53.0   \n",
       "10456                         6.0                      74.0   \n",
       "10457                        19.0                      74.0   \n",
       "10458                        67.0                      74.0   \n",
       "\n",
       "       NumRevolvingTradesWBalance  NumInstallTradesWBalance  \\\n",
       "0                             8.0                       1.0   \n",
       "1                             0.0                       2.0   \n",
       "2                             4.0                       2.0   \n",
       "3                             6.0                       4.0   \n",
       "4                             3.0                       1.0   \n",
       "...                           ...                       ...   \n",
       "10454                         5.0                       2.0   \n",
       "10455                         2.0                       2.0   \n",
       "10456                         5.0                       2.0   \n",
       "10457                         4.0                       1.0   \n",
       "10458                         2.0                       1.0   \n",
       "\n",
       "       NumBank2NatlTradesWHighUtilization  PercentTradesWBalance  \\\n",
       "0                                     1.0                   69.0   \n",
       "1                                     1.0                    0.0   \n",
       "2                                     1.0                   86.0   \n",
       "3                                     3.0                   91.0   \n",
       "4                                     0.0                   80.0   \n",
       "...                                   ...                    ...   \n",
       "10454                                 0.0                  100.0   \n",
       "10455                                 1.0                   80.0   \n",
       "10456                                 0.0                   56.0   \n",
       "10457                                 0.0                   38.0   \n",
       "10458                                 0.0                  100.0   \n",
       "\n",
       "       RiskPerformance  \n",
       "0                    0  \n",
       "1                    0  \n",
       "2                    0  \n",
       "3                    0  \n",
       "4                    0  \n",
       "...                ...  \n",
       "10454                1  \n",
       "10455                0  \n",
       "10456                0  \n",
       "10457                0  \n",
       "10458                0  \n",
       "\n",
       "[9871 rows x 24 columns]"
      ]
     },
     "execution_count": 100,
     "metadata": {},
     "output_type": "execute_result"
    }
   ],
   "source": [
    "dataset.data"
   ]
  },
  {
   "cell_type": "code",
   "execution_count": 101,
   "metadata": {},
   "outputs": [
    {
     "name": "stdout",
     "output_type": "stream",
     "text": [
      "\u001b[1mProportion of 1s in Training Data:\u001b[0m 47.19%\n"
     ]
    }
   ],
   "source": [
    "X_train, y_train, X_test, y_test, mean, std = dataset.get_split(normalise=False, shuffle=False,\n",
    "                                                                     return_mean_std=True)\n",
    "prop1s = round(np.average(y_train)*100, 2)\n",
    "print(bold(\"Proportion of 1s in Training Data:\") + \" {}%\".format(prop1s))"
   ]
  },
  {
   "cell_type": "code",
   "execution_count": 102,
   "metadata": {},
   "outputs": [
    {
     "name": "stdout",
     "output_type": "stream",
     "text": [
      "\u001b[1mDataset:\u001b[0m Heloc\n",
      "\n"
     ]
    },
    {
     "data": {
      "text/html": [
       "<div>\n",
       "<style scoped>\n",
       "    .dataframe tbody tr th:only-of-type {\n",
       "        vertical-align: middle;\n",
       "    }\n",
       "\n",
       "    .dataframe tbody tr th {\n",
       "        vertical-align: top;\n",
       "    }\n",
       "\n",
       "    .dataframe thead th {\n",
       "        text-align: right;\n",
       "    }\n",
       "</style>\n",
       "<table border=\"1\" class=\"dataframe\">\n",
       "  <thead>\n",
       "    <tr style=\"text-align: right;\">\n",
       "      <th></th>\n",
       "      <th>ExternalRiskEstimate</th>\n",
       "      <th>MSinceOldestTradeOpen</th>\n",
       "      <th>MSinceMostRecentTradeOpen</th>\n",
       "      <th>AverageMInFile</th>\n",
       "      <th>NumSatisfactoryTrades</th>\n",
       "      <th>NumTrades60Ever2DerogPubRec</th>\n",
       "      <th>NumTrades90Ever2DerogPubRec</th>\n",
       "      <th>PercentTradesNeverDelq</th>\n",
       "      <th>MSinceMostRecentDelq</th>\n",
       "      <th>MaxDelq2PublicRecLast12M</th>\n",
       "      <th>MaxDelqEver</th>\n",
       "      <th>NumTotalTrades</th>\n",
       "      <th>NumTradesOpeninLast12M</th>\n",
       "      <th>PercentInstallTrades</th>\n",
       "      <th>MSinceMostRecentInqexcl7days</th>\n",
       "      <th>NumInqLast6M</th>\n",
       "      <th>NumInqLast6Mexcl7days</th>\n",
       "      <th>NetFractionRevolvingBurden</th>\n",
       "      <th>NetFractionInstallBurden</th>\n",
       "      <th>NumRevolvingTradesWBalance</th>\n",
       "      <th>NumInstallTradesWBalance</th>\n",
       "      <th>NumBank2NatlTradesWHighUtilization</th>\n",
       "      <th>PercentTradesWBalance</th>\n",
       "    </tr>\n",
       "  </thead>\n",
       "  <tbody>\n",
       "    <tr>\n",
       "      <th>0</th>\n",
       "      <td>55.0</td>\n",
       "      <td>144.0</td>\n",
       "      <td>4.0</td>\n",
       "      <td>84.0</td>\n",
       "      <td>20.0</td>\n",
       "      <td>3.0</td>\n",
       "      <td>0.0</td>\n",
       "      <td>83.0</td>\n",
       "      <td>2.0</td>\n",
       "      <td>3.0</td>\n",
       "      <td>5.0</td>\n",
       "      <td>23.0</td>\n",
       "      <td>1.0</td>\n",
       "      <td>43.0</td>\n",
       "      <td>0.0</td>\n",
       "      <td>0.0</td>\n",
       "      <td>0.0</td>\n",
       "      <td>33.0</td>\n",
       "      <td>74.0</td>\n",
       "      <td>8.0</td>\n",
       "      <td>1.0</td>\n",
       "      <td>1.0</td>\n",
       "      <td>69.0</td>\n",
       "    </tr>\n",
       "    <tr>\n",
       "      <th>1</th>\n",
       "      <td>61.0</td>\n",
       "      <td>58.0</td>\n",
       "      <td>15.0</td>\n",
       "      <td>41.0</td>\n",
       "      <td>2.0</td>\n",
       "      <td>4.0</td>\n",
       "      <td>4.0</td>\n",
       "      <td>100.0</td>\n",
       "      <td>15.0</td>\n",
       "      <td>0.0</td>\n",
       "      <td>8.0</td>\n",
       "      <td>7.0</td>\n",
       "      <td>0.0</td>\n",
       "      <td>67.0</td>\n",
       "      <td>0.0</td>\n",
       "      <td>0.0</td>\n",
       "      <td>0.0</td>\n",
       "      <td>0.0</td>\n",
       "      <td>74.0</td>\n",
       "      <td>0.0</td>\n",
       "      <td>2.0</td>\n",
       "      <td>1.0</td>\n",
       "      <td>0.0</td>\n",
       "    </tr>\n",
       "    <tr>\n",
       "      <th>2</th>\n",
       "      <td>67.0</td>\n",
       "      <td>66.0</td>\n",
       "      <td>5.0</td>\n",
       "      <td>24.0</td>\n",
       "      <td>9.0</td>\n",
       "      <td>0.0</td>\n",
       "      <td>0.0</td>\n",
       "      <td>100.0</td>\n",
       "      <td>15.0</td>\n",
       "      <td>7.0</td>\n",
       "      <td>8.0</td>\n",
       "      <td>9.0</td>\n",
       "      <td>4.0</td>\n",
       "      <td>44.0</td>\n",
       "      <td>0.0</td>\n",
       "      <td>4.0</td>\n",
       "      <td>4.0</td>\n",
       "      <td>53.0</td>\n",
       "      <td>66.0</td>\n",
       "      <td>4.0</td>\n",
       "      <td>2.0</td>\n",
       "      <td>1.0</td>\n",
       "      <td>86.0</td>\n",
       "    </tr>\n",
       "    <tr>\n",
       "      <th>3</th>\n",
       "      <td>66.0</td>\n",
       "      <td>169.0</td>\n",
       "      <td>1.0</td>\n",
       "      <td>73.0</td>\n",
       "      <td>28.0</td>\n",
       "      <td>1.0</td>\n",
       "      <td>1.0</td>\n",
       "      <td>93.0</td>\n",
       "      <td>76.0</td>\n",
       "      <td>6.0</td>\n",
       "      <td>6.0</td>\n",
       "      <td>30.0</td>\n",
       "      <td>3.0</td>\n",
       "      <td>57.0</td>\n",
       "      <td>0.0</td>\n",
       "      <td>5.0</td>\n",
       "      <td>4.0</td>\n",
       "      <td>72.0</td>\n",
       "      <td>83.0</td>\n",
       "      <td>6.0</td>\n",
       "      <td>4.0</td>\n",
       "      <td>3.0</td>\n",
       "      <td>91.0</td>\n",
       "    </tr>\n",
       "    <tr>\n",
       "      <th>4</th>\n",
       "      <td>81.0</td>\n",
       "      <td>333.0</td>\n",
       "      <td>27.0</td>\n",
       "      <td>132.0</td>\n",
       "      <td>12.0</td>\n",
       "      <td>0.0</td>\n",
       "      <td>0.0</td>\n",
       "      <td>100.0</td>\n",
       "      <td>15.0</td>\n",
       "      <td>7.0</td>\n",
       "      <td>8.0</td>\n",
       "      <td>12.0</td>\n",
       "      <td>0.0</td>\n",
       "      <td>25.0</td>\n",
       "      <td>0.0</td>\n",
       "      <td>1.0</td>\n",
       "      <td>1.0</td>\n",
       "      <td>51.0</td>\n",
       "      <td>89.0</td>\n",
       "      <td>3.0</td>\n",
       "      <td>1.0</td>\n",
       "      <td>0.0</td>\n",
       "      <td>80.0</td>\n",
       "    </tr>\n",
       "    <tr>\n",
       "      <th>...</th>\n",
       "      <td>...</td>\n",
       "      <td>...</td>\n",
       "      <td>...</td>\n",
       "      <td>...</td>\n",
       "      <td>...</td>\n",
       "      <td>...</td>\n",
       "      <td>...</td>\n",
       "      <td>...</td>\n",
       "      <td>...</td>\n",
       "      <td>...</td>\n",
       "      <td>...</td>\n",
       "      <td>...</td>\n",
       "      <td>...</td>\n",
       "      <td>...</td>\n",
       "      <td>...</td>\n",
       "      <td>...</td>\n",
       "      <td>...</td>\n",
       "      <td>...</td>\n",
       "      <td>...</td>\n",
       "      <td>...</td>\n",
       "      <td>...</td>\n",
       "      <td>...</td>\n",
       "      <td>...</td>\n",
       "    </tr>\n",
       "    <tr>\n",
       "      <th>7891</th>\n",
       "      <td>68.0</td>\n",
       "      <td>182.0</td>\n",
       "      <td>19.0</td>\n",
       "      <td>94.0</td>\n",
       "      <td>19.0</td>\n",
       "      <td>0.0</td>\n",
       "      <td>0.0</td>\n",
       "      <td>90.0</td>\n",
       "      <td>2.0</td>\n",
       "      <td>4.0</td>\n",
       "      <td>6.0</td>\n",
       "      <td>20.0</td>\n",
       "      <td>0.0</td>\n",
       "      <td>40.0</td>\n",
       "      <td>0.0</td>\n",
       "      <td>3.0</td>\n",
       "      <td>3.0</td>\n",
       "      <td>5.0</td>\n",
       "      <td>48.0</td>\n",
       "      <td>3.0</td>\n",
       "      <td>3.0</td>\n",
       "      <td>0.0</td>\n",
       "      <td>55.0</td>\n",
       "    </tr>\n",
       "    <tr>\n",
       "      <th>7892</th>\n",
       "      <td>57.0</td>\n",
       "      <td>107.0</td>\n",
       "      <td>3.0</td>\n",
       "      <td>53.0</td>\n",
       "      <td>25.0</td>\n",
       "      <td>1.0</td>\n",
       "      <td>1.0</td>\n",
       "      <td>96.0</td>\n",
       "      <td>15.0</td>\n",
       "      <td>6.0</td>\n",
       "      <td>3.0</td>\n",
       "      <td>26.0</td>\n",
       "      <td>4.0</td>\n",
       "      <td>54.0</td>\n",
       "      <td>0.0</td>\n",
       "      <td>7.0</td>\n",
       "      <td>7.0</td>\n",
       "      <td>89.0</td>\n",
       "      <td>36.0</td>\n",
       "      <td>5.0</td>\n",
       "      <td>3.0</td>\n",
       "      <td>2.0</td>\n",
       "      <td>82.0</td>\n",
       "    </tr>\n",
       "    <tr>\n",
       "      <th>7893</th>\n",
       "      <td>65.0</td>\n",
       "      <td>94.0</td>\n",
       "      <td>6.0</td>\n",
       "      <td>43.0</td>\n",
       "      <td>31.0</td>\n",
       "      <td>2.0</td>\n",
       "      <td>1.0</td>\n",
       "      <td>91.0</td>\n",
       "      <td>38.0</td>\n",
       "      <td>6.0</td>\n",
       "      <td>5.0</td>\n",
       "      <td>36.0</td>\n",
       "      <td>5.0</td>\n",
       "      <td>42.0</td>\n",
       "      <td>0.0</td>\n",
       "      <td>0.0</td>\n",
       "      <td>0.0</td>\n",
       "      <td>18.0</td>\n",
       "      <td>88.0</td>\n",
       "      <td>5.0</td>\n",
       "      <td>3.0</td>\n",
       "      <td>0.0</td>\n",
       "      <td>50.0</td>\n",
       "    </tr>\n",
       "    <tr>\n",
       "      <th>7894</th>\n",
       "      <td>75.0</td>\n",
       "      <td>293.0</td>\n",
       "      <td>9.0</td>\n",
       "      <td>143.0</td>\n",
       "      <td>9.0</td>\n",
       "      <td>0.0</td>\n",
       "      <td>0.0</td>\n",
       "      <td>89.0</td>\n",
       "      <td>11.0</td>\n",
       "      <td>4.0</td>\n",
       "      <td>6.0</td>\n",
       "      <td>9.0</td>\n",
       "      <td>2.0</td>\n",
       "      <td>22.0</td>\n",
       "      <td>0.0</td>\n",
       "      <td>0.0</td>\n",
       "      <td>0.0</td>\n",
       "      <td>59.0</td>\n",
       "      <td>78.0</td>\n",
       "      <td>3.0</td>\n",
       "      <td>1.0</td>\n",
       "      <td>1.0</td>\n",
       "      <td>57.0</td>\n",
       "    </tr>\n",
       "    <tr>\n",
       "      <th>7895</th>\n",
       "      <td>55.0</td>\n",
       "      <td>101.0</td>\n",
       "      <td>4.0</td>\n",
       "      <td>29.0</td>\n",
       "      <td>12.0</td>\n",
       "      <td>0.0</td>\n",
       "      <td>0.0</td>\n",
       "      <td>92.0</td>\n",
       "      <td>2.0</td>\n",
       "      <td>4.0</td>\n",
       "      <td>6.0</td>\n",
       "      <td>13.0</td>\n",
       "      <td>3.0</td>\n",
       "      <td>38.0</td>\n",
       "      <td>0.0</td>\n",
       "      <td>0.0</td>\n",
       "      <td>0.0</td>\n",
       "      <td>43.0</td>\n",
       "      <td>83.0</td>\n",
       "      <td>5.0</td>\n",
       "      <td>3.0</td>\n",
       "      <td>2.0</td>\n",
       "      <td>100.0</td>\n",
       "    </tr>\n",
       "  </tbody>\n",
       "</table>\n",
       "<p>7896 rows × 23 columns</p>\n",
       "</div>"
      ],
      "text/plain": [
       "      ExternalRiskEstimate  MSinceOldestTradeOpen  MSinceMostRecentTradeOpen  \\\n",
       "0                     55.0                  144.0                        4.0   \n",
       "1                     61.0                   58.0                       15.0   \n",
       "2                     67.0                   66.0                        5.0   \n",
       "3                     66.0                  169.0                        1.0   \n",
       "4                     81.0                  333.0                       27.0   \n",
       "...                    ...                    ...                        ...   \n",
       "7891                  68.0                  182.0                       19.0   \n",
       "7892                  57.0                  107.0                        3.0   \n",
       "7893                  65.0                   94.0                        6.0   \n",
       "7894                  75.0                  293.0                        9.0   \n",
       "7895                  55.0                  101.0                        4.0   \n",
       "\n",
       "      AverageMInFile  NumSatisfactoryTrades  NumTrades60Ever2DerogPubRec  \\\n",
       "0               84.0                   20.0                          3.0   \n",
       "1               41.0                    2.0                          4.0   \n",
       "2               24.0                    9.0                          0.0   \n",
       "3               73.0                   28.0                          1.0   \n",
       "4              132.0                   12.0                          0.0   \n",
       "...              ...                    ...                          ...   \n",
       "7891            94.0                   19.0                          0.0   \n",
       "7892            53.0                   25.0                          1.0   \n",
       "7893            43.0                   31.0                          2.0   \n",
       "7894           143.0                    9.0                          0.0   \n",
       "7895            29.0                   12.0                          0.0   \n",
       "\n",
       "      NumTrades90Ever2DerogPubRec  PercentTradesNeverDelq  \\\n",
       "0                             0.0                    83.0   \n",
       "1                             4.0                   100.0   \n",
       "2                             0.0                   100.0   \n",
       "3                             1.0                    93.0   \n",
       "4                             0.0                   100.0   \n",
       "...                           ...                     ...   \n",
       "7891                          0.0                    90.0   \n",
       "7892                          1.0                    96.0   \n",
       "7893                          1.0                    91.0   \n",
       "7894                          0.0                    89.0   \n",
       "7895                          0.0                    92.0   \n",
       "\n",
       "      MSinceMostRecentDelq  MaxDelq2PublicRecLast12M  MaxDelqEver  \\\n",
       "0                      2.0                       3.0          5.0   \n",
       "1                     15.0                       0.0          8.0   \n",
       "2                     15.0                       7.0          8.0   \n",
       "3                     76.0                       6.0          6.0   \n",
       "4                     15.0                       7.0          8.0   \n",
       "...                    ...                       ...          ...   \n",
       "7891                   2.0                       4.0          6.0   \n",
       "7892                  15.0                       6.0          3.0   \n",
       "7893                  38.0                       6.0          5.0   \n",
       "7894                  11.0                       4.0          6.0   \n",
       "7895                   2.0                       4.0          6.0   \n",
       "\n",
       "      NumTotalTrades  NumTradesOpeninLast12M  PercentInstallTrades  \\\n",
       "0               23.0                     1.0                  43.0   \n",
       "1                7.0                     0.0                  67.0   \n",
       "2                9.0                     4.0                  44.0   \n",
       "3               30.0                     3.0                  57.0   \n",
       "4               12.0                     0.0                  25.0   \n",
       "...              ...                     ...                   ...   \n",
       "7891            20.0                     0.0                  40.0   \n",
       "7892            26.0                     4.0                  54.0   \n",
       "7893            36.0                     5.0                  42.0   \n",
       "7894             9.0                     2.0                  22.0   \n",
       "7895            13.0                     3.0                  38.0   \n",
       "\n",
       "      MSinceMostRecentInqexcl7days  NumInqLast6M  NumInqLast6Mexcl7days  \\\n",
       "0                              0.0           0.0                    0.0   \n",
       "1                              0.0           0.0                    0.0   \n",
       "2                              0.0           4.0                    4.0   \n",
       "3                              0.0           5.0                    4.0   \n",
       "4                              0.0           1.0                    1.0   \n",
       "...                            ...           ...                    ...   \n",
       "7891                           0.0           3.0                    3.0   \n",
       "7892                           0.0           7.0                    7.0   \n",
       "7893                           0.0           0.0                    0.0   \n",
       "7894                           0.0           0.0                    0.0   \n",
       "7895                           0.0           0.0                    0.0   \n",
       "\n",
       "      NetFractionRevolvingBurden  NetFractionInstallBurden  \\\n",
       "0                           33.0                      74.0   \n",
       "1                            0.0                      74.0   \n",
       "2                           53.0                      66.0   \n",
       "3                           72.0                      83.0   \n",
       "4                           51.0                      89.0   \n",
       "...                          ...                       ...   \n",
       "7891                         5.0                      48.0   \n",
       "7892                        89.0                      36.0   \n",
       "7893                        18.0                      88.0   \n",
       "7894                        59.0                      78.0   \n",
       "7895                        43.0                      83.0   \n",
       "\n",
       "      NumRevolvingTradesWBalance  NumInstallTradesWBalance  \\\n",
       "0                            8.0                       1.0   \n",
       "1                            0.0                       2.0   \n",
       "2                            4.0                       2.0   \n",
       "3                            6.0                       4.0   \n",
       "4                            3.0                       1.0   \n",
       "...                          ...                       ...   \n",
       "7891                         3.0                       3.0   \n",
       "7892                         5.0                       3.0   \n",
       "7893                         5.0                       3.0   \n",
       "7894                         3.0                       1.0   \n",
       "7895                         5.0                       3.0   \n",
       "\n",
       "      NumBank2NatlTradesWHighUtilization  PercentTradesWBalance  \n",
       "0                                    1.0                   69.0  \n",
       "1                                    1.0                    0.0  \n",
       "2                                    1.0                   86.0  \n",
       "3                                    3.0                   91.0  \n",
       "4                                    0.0                   80.0  \n",
       "...                                  ...                    ...  \n",
       "7891                                 0.0                   55.0  \n",
       "7892                                 2.0                   82.0  \n",
       "7893                                 0.0                   50.0  \n",
       "7894                                 1.0                   57.0  \n",
       "7895                                 2.0                  100.0  \n",
       "\n",
       "[7896 rows x 23 columns]"
      ]
     },
     "execution_count": 102,
     "metadata": {},
     "output_type": "execute_result"
    }
   ],
   "source": [
    "X = pd.DataFrame(X_train)\n",
    "X.columns = dataset.features[:-1]\n",
    "X_train = pd.DataFrame(X_train)\n",
    "X_train.columns = dataset.features[:-1]\n",
    "X_test = pd.DataFrame(X_test)\n",
    "X_test.columns = dataset.features[:-1]\n",
    "y_train = pd.DataFrame(y_train)\n",
    "y_test = pd.DataFrame(y_test)\n",
    "print(bold(\"Dataset:\") + \" {}\\n\".format(name.replace('_', ' ').title()))\n",
    "X"
   ]
  },
  {
   "cell_type": "code",
   "execution_count": 103,
   "metadata": {},
   "outputs": [],
   "source": [
    "# B_name = 'dnn'  # 'lr' or 'dnn' or 'xgb'\n",
    "# if B_name == 'dnn':\n",
    "#     from models.models_global_ce import dnn_normalisers as normalisers\n",
    "# elif B_name == 'lr':\n",
    "#     from models.models_global_ce import lr_normalisers as normalisers\n",
    "# else:  # no xgb normalisation\n",
    "#     normalisers = {name: False}\n",
    "# normalise = [mean, std] if normalisers[name] else None"
   ]
  },
  {
   "cell_type": "code",
   "execution_count": 104,
   "metadata": {},
   "outputs": [],
   "source": [
    "# import pickle\n",
    "# with open('data/models_global_ce/{}_{}.pkl'.format(name, B_name), 'rb') as f:\n",
    "#     B = pickle.load(f)"
   ]
  },
  {
   "cell_type": "code",
   "execution_count": 105,
   "metadata": {},
   "outputs": [],
   "source": [
    "# print(bold(\"Dataset:\") + \" {}\".format(name.replace('_', ' ').title()))\n",
    "# print(bold(\"Model:\") + \" {}\\n\".format(B_name.replace('_', ' ').upper()))\n",
    "# performance(B, x_train, x_test, y_train, y_test, normalise=normalise)"
   ]
  },
  {
   "cell_type": "code",
   "execution_count": 106,
   "metadata": {},
   "outputs": [],
   "source": [
    "target_name = 'RiskPerformance'"
   ]
  },
  {
   "cell_type": "code",
   "execution_count": 107,
   "metadata": {},
   "outputs": [
    {
     "data": {
      "text/plain": [
       "0.7336708903312683"
      ]
     },
     "execution_count": 107,
     "metadata": {},
     "output_type": "execute_result"
    }
   ],
   "source": [
    "seed = 42\n",
    "\n",
    "np.random.seed(seed)  # for reproducibility\n",
    "\n",
    "\n",
    "std = X_train.std()\n",
    "mean = X_train.mean()\n",
    "\n",
    "X_train = (X_train - mean) / std\n",
    "X_test = (X_test - mean) / std\n",
    "\n",
    "X_train, X_test, y_train, y_test = X_train.values, X_test.values, y_train.values, y_test.values\n",
    "\n",
    "# Convert to PyTorch tensors\n",
    "X_train_tensor = torch.FloatTensor(X_train)\n",
    "y_train_tensor = torch.FloatTensor(y_train).view(-1, 1)\n",
    "X_test_tensor = torch.FloatTensor(X_test)\n",
    "y_test_tensor = torch.FloatTensor(y_test).view(-1, 1)\n",
    "\n",
    "# Initialize the model, loss function, and optimizer\n",
    "model = BlackBoxModel(input_dim=X_train.shape[1])\n",
    "# model = RBFNet(input_dim=X_train.shape[1], hidden_dim=X_train.shape[1])\n",
    "# model = LinearSVM(input_dim=X_train.shape[1])\n",
    "\n",
    "criterion = nn.MSELoss()\n",
    "optimizer = optim.Adam(model.parameters(), lr=0.01)\n",
    "\n",
    "# Training loop\n",
    "num_epochs = 300\n",
    "for epoch in range(num_epochs):\n",
    "    # Forward pass\n",
    "    outputs = model(X_train_tensor)\n",
    "    loss = criterion(outputs, y_train_tensor)\n",
    "    \n",
    "    # Backward pass and optimization\n",
    "    optimizer.zero_grad()\n",
    "    loss.backward()\n",
    "    optimizer.step()\n",
    "\n",
    "# Evaluate on test set\n",
    "model.eval()\n",
    "with torch.no_grad():\n",
    "    test_outputs = model(X_test_tensor)\n",
    "    test_loss = criterion(test_outputs, y_test_tensor)\n",
    "\n",
    "    # Convert outputs to binary using 0.5 as threshold\n",
    "    y_pred_tensor = (test_outputs > 0.5).float()\n",
    "    correct_predictions = (y_pred_tensor == y_test_tensor).float().sum()\n",
    "    accuracy = correct_predictions / y_test_tensor.shape[0]\n",
    "\n",
    "accuracy.item()"
   ]
  },
  {
   "cell_type": "code",
   "execution_count": 108,
   "metadata": {},
   "outputs": [
    {
     "name": "stderr",
     "output_type": "stream",
     "text": [
      "C:\\Users\\leiyo\\AppData\\Local\\Temp\\ipykernel_29364\\1224370442.py:4: FutureWarning: pandas.Int64Index is deprecated and will be removed from pandas in a future version. Use pandas.Index with the appropriate dtype instead.\n",
      "  indice = pd.Int64Index([1825, 1735,  678,  351, 1791,  610,   70, 1124,   56,  900,  555,\n"
     ]
    }
   ],
   "source": [
    "sample_num = 100\n",
    "# indice = (X_test.sample(sample_num)).index\n",
    "\n",
    "# Fixing the indice for test purpose\n",
    "indice = pd.Int64Index([1825, 1735,  678,  351, 1791,  610,   70, 1124,   56,  900,  555,\n",
    "             746, 1704,  462, 1873,  289,  593,  824,  530, 1424, 1063,  486,\n",
    "             892,  554,  777, 1234, 1216,  374,  439, 1271,  651,  211,  886,\n",
    "            1329, 1005, 1102, 1052,  111,  344,  305, 1376,  931, 1041, 1010,\n",
    "            1640,  316,  432,  353,  426,  394, 1360, 1131,   99,  859, 1270,\n",
    "             237, 1465,  710, 1653,  538,  382, 1830, 1632, 1314, 1781, 1494,\n",
    "            1831, 1721,   69, 1788, 1546, 1753, 1931,  429, 1436, 1755,  251,\n",
    "             756,  855,  128,  637,  864, 1809, 1402,  361, 1578, 1091, 1810,\n",
    "            1615, 1138,  247,  845, 1628, 1239,  196, 1033,  584,  548,  722,\n",
    "            1840],\n",
    "           dtype='int64')\n",
    "\n",
    "X_test = pd.DataFrame(X_test, columns=X.columns)\n",
    "df_explain = X_test.loc[indice]\n",
    "\n",
    "# y_target = torch.distributions.beta.Beta(0.1, 0.9).sample((sample_num,))\n",
    "y_test = pd.Series(y_test.reshape(-1))\n",
    "y_true = y_test.loc[indice]\n",
    "\n",
    "y = model(torch.FloatTensor(df_explain.values))"
   ]
  },
  {
   "cell_type": "markdown",
   "metadata": {},
   "source": [
    "## GLOBE_CE"
   ]
  },
  {
   "cell_type": "code",
   "execution_count": 13,
   "metadata": {},
   "outputs": [],
   "source": [
    "from explainers.globe_ce import GLOBE_CE"
   ]
  },
  {
   "cell_type": "code",
   "execution_count": 14,
   "metadata": {},
   "outputs": [],
   "source": [
    "normalise = None\n",
    "\n",
    "# AReS initiated to determine bin widths for costs\n",
    "from explainers.ares import AReS\n",
    "ares = AReS(model=model, dataset=dataset, X=dataset.data.drop(target_name,axis=1), n_bins=10, normalise=normalise)  # 1MB\n",
    "bin_widths = ares.bin_widths"
   ]
  },
  {
   "cell_type": "code",
   "execution_count": 15,
   "metadata": {},
   "outputs": [],
   "source": [
    "# example of ordinal features usage\n",
    "ordinal_features = ['Present-Employment'] if name == 'german_credit' else []\n",
    "# initialise GLOBE_CE\n",
    "globe_ce = GLOBE_CE(model=model, dataset=dataset, X=df_explain, affected_subgroup=None,\n",
    "                    dropped_features=dropped_features, ordinal_features=ordinal_features, delta_init='zeros',\n",
    "                    normalise=normalise, bin_widths=bin_widths, monotonicity=None, p=1)"
   ]
  },
  {
   "cell_type": "code",
   "execution_count": 16,
   "metadata": {},
   "outputs": [
    {
     "name": "stderr",
     "output_type": "stream",
     "text": [
      "100%|██████████| 100/100 [00:00<00:00, 3539.92it/s]\n"
     ]
    },
    {
     "data": {
      "image/png": "[encoded data removed]",
      "text/plain": [
       "<Figure size 2200x600 with 3 Axes>"
      ]
     },
     "metadata": {},
     "output_type": "display_data"
    }
   ],
   "source": [
    "globe_ce.sample(n_sample=sample_num, magnitude=2, sparsity_power=1,  # magnitude is the fixed cost sampled at\n",
    "                idxs=None, n_features=df_explain.shape[1], disable_tqdm=False,  # 2 random features chosen at each sample, no sparsity smoothing (p=1)\n",
    "                plot=True, seed=0, scheme='random', dropped_features=dropped_features)\n",
    "delta = globe_ce.best_delta  # pick best delta\n",
    "globe_ce.select_n_deltas(n_div=3)"
   ]
  },
  {
   "cell_type": "code",
   "execution_count": 17,
   "metadata": {},
   "outputs": [
    {
     "data": {
      "image/png": "[encoded data removed]",
      "text/plain": [
       "<Figure size 1800x450 with 3 Axes>"
      ]
     },
     "metadata": {},
     "output_type": "display_data"
    }
   ],
   "source": [
    "fig, ax = plt.subplots(nrows=1, ncols=globe_ce.deltas_div.shape[0], dpi=150)\n",
    "fig.set_figwidth(12)\n",
    "fig.set_figheight(3)\n",
    "plt.subplots_adjust(wspace=0.3)\n",
    "for i in range(globe_ce.deltas_div.shape[0]):\n",
    "    delta_cost = globe_ce.deltas_div[i] * globe_ce.feature_costs_vector\n",
    "    cycle = plt.rcParams['axes.prop_cycle'].by_key()['color']\n",
    "    j, k = 0, 0\n",
    "    for feature in globe_ce.features_tree:\n",
    "        if not globe_ce.features_tree[feature]:\n",
    "            ax[i].bar(range(j, j+1), delta_cost[j], hatch='/',\n",
    "                        linewidth=1, edgecolor='black', color=cycle[k%len(cycle)])\n",
    "            j += 1\n",
    "            k += 1\n",
    "        else:\n",
    "            feature_values = globe_ce.features_tree[feature]\n",
    "            n_f = len(feature_values)\n",
    "            ax[2].bar(range(j, j+n_f), delta_cost[j:j+n_f], color=cycle[k%len(cycle)])\n",
    "            j += n_f\n",
    "            k += 1\n",
    "    ax[i].set_title(f'Direction {i+1}')\n",
    "    ax[i].set_xlabel('Feature Index')\n",
    "    ax[i].set_ylabel('Cost')\n",
    "plt.show()"
   ]
  },
  {
   "cell_type": "code",
   "execution_count": 18,
   "metadata": {},
   "outputs": [
    {
     "name": "stderr",
     "output_type": "stream",
     "text": [
      "100%|██████████| 1000/1000 [00:00<00:00, 10168.11it/s]\n"
     ]
    },
    {
     "name": "stdout",
     "output_type": "stream",
     "text": [
      "\u001b[1mUnable to find recourse for 0/52 inputs\u001b[0m\n"
     ]
    },
    {
     "name": "stderr",
     "output_type": "stream",
     "text": [
      "100%|██████████| 1000/1000 [00:00<00:00, 11702.69it/s]\n"
     ]
    },
    {
     "name": "stdout",
     "output_type": "stream",
     "text": [
      "\u001b[1mUnable to find recourse for 52/52 inputs\u001b[0m\n"
     ]
    },
    {
     "name": "stderr",
     "output_type": "stream",
     "text": [
      "100%|██████████| 1000/1000 [00:00<00:00, 11647.54it/s]"
     ]
    },
    {
     "name": "stdout",
     "output_type": "stream",
     "text": [
      "\u001b[1mUnable to find recourse for 52/52 inputs\u001b[0m\n"
     ]
    },
    {
     "name": "stderr",
     "output_type": "stream",
     "text": [
      "\n"
     ]
    }
   ],
   "source": [
    "n_div = globe_ce.deltas_div.shape[0]\n",
    "min_costs = np.zeros((n_div, globe_ce.x_aff.shape[0]))\n",
    "min_costs_idxs = np.zeros((n_div, globe_ce.x_aff.shape[0]))\n",
    "for i in range(n_div):  # Algorithm 1, Line 2\n",
    "    cor_s, cos_s, k_s = globe_ce.scale(globe_ce.deltas_div[i], disable_tqdm=False, vector=True)  # Algorithm 1, Line 3\n",
    "    min_costs[i], min_costs_idxs[i] = globe_ce.min_scalar_costs(cos_s, return_idxs=True, inf=True)  # Implicitly computes Algorithm 1, Lines 4-6, returning minimum costs per input and their indices in the k vector\n",
    "    max_scalar_idxs = globe_ce.cluster_by_costs(cos_s, n_bins=5)\n",
    "min_costs = min_costs.min(axis=0)"
   ]
  },
  {
   "cell_type": "code",
   "execution_count": 19,
   "metadata": {},
   "outputs": [],
   "source": [
    "ces = globe_ce.round_categorical(globe_ce.x_aff+globe_ce.best_delta) if globe_ce.n_categorical else globe_ce.x_aff+globe_ce.best_delta\n",
    "counterfactual_X_global_ce = pd.DataFrame(ces, columns=X_test.columns)\n",
    "counterfactual_y_global_ce = model.predict(counterfactual_X_global_ce.values)"
   ]
  },
  {
   "cell_type": "code",
   "execution_count": 20,
   "metadata": {},
   "outputs": [
    {
     "name": "stdout",
     "output_type": "stream",
     "text": [
      "Coverage (Globe CE): 1.0\n"
     ]
    }
   ],
   "source": [
    "print('Coverage (Globe CE):', counterfactual_y_global_ce.sum()/len(counterfactual_y_global_ce))"
   ]
  },
  {
   "cell_type": "code",
   "execution_count": 21,
   "metadata": {},
   "outputs": [],
   "source": [
    "factual_X = pd.DataFrame(globe_ce.x_aff, columns=df_explain.columns)\n",
    "factual_y = model.predict(factual_X.values)"
   ]
  },
  {
   "cell_type": "code",
   "execution_count": 22,
   "metadata": {},
   "outputs": [],
   "source": [
    "y_target = torch.ones(factual_X.shape[0])"
   ]
  },
  {
   "cell_type": "code",
   "execution_count": 23,
   "metadata": {},
   "outputs": [],
   "source": [
    "costs_vector = globe_ce.feature_costs_vector"
   ]
  },
  {
   "cell_type": "markdown",
   "metadata": {},
   "source": [
    "## AReS"
   ]
  },
  {
   "cell_type": "code",
   "execution_count": 24,
   "metadata": {},
   "outputs": [],
   "source": [
    "# AReS initiated to determine bin widths for costs\n",
    "from explainers.ares import AReS\n",
    "ares = AReS(model=model, dataset=dataset, X=factual_X, n_bins=10, normalise=normalise)  # 1MB"
   ]
  },
  {
   "cell_type": "code",
   "execution_count": 25,
   "metadata": {},
   "outputs": [
    {
     "name": "stderr",
     "output_type": "stream",
     "text": [
      "C:\\Users\\leiyo\\AppData\\Roaming\\Python\\Python39\\site-packages\\mlxtend\\frequent_patterns\\fpcommon.py:109: DeprecationWarning: DataFrames with non-bool types result in worse computationalperformance and their support might be discontinued in the future.Please use a DataFrame with bool type\n",
      "  warnings.warn(\n"
     ]
    },
    {
     "name": "stdout",
     "output_type": "stream",
     "text": [
      "Computing Candidate Sets of Conjunctions of Predicates SD and RL\n",
      "Processing 168 combinations | Sampling itemset size 65\n",
      "SD and RL Computed with Lengths 287 and 287\n",
      "Computing Ground Set of Triples V\n",
      "Reducing RL\n",
      "RL Reduced from Size 287 to 72\n"
     ]
    },
    {
     "name": "stderr",
     "output_type": "stream",
     "text": [
      "100%|██████████| 287/287 [00:00<00:00, 987.00it/s]\n"
     ]
    },
    {
     "name": "stdout",
     "output_type": "stream",
     "text": [
      "Ground Set Computed with Length 15288\n"
     ]
    },
    {
     "name": "stderr",
     "output_type": "stream",
     "text": [
      "4999it [00:06, 766.69it/s]\n"
     ]
    },
    {
     "data": {
      "image/png": "[encoded data removed]",
      "text/plain": [
       "<Figure size 900x600 with 1 Axes>"
      ]
     },
     "metadata": {},
     "output_type": "display_data"
    },
    {
     "name": "stdout",
     "output_type": "stream",
     "text": [
      "Candidate Set Filtered with Length: 5000\n",
      "Initialising Copy of Ground Set\n",
      "While there exists a delete/update operation, loop:\n",
      "Checking Delete\n",
      "Checking Add\n"
     ]
    },
    {
     "name": "stderr",
     "output_type": "stream",
     "text": [
      "100%|██████████| 4999/4999 [00:00<00:00, 12885.18it/s]\n"
     ]
    },
    {
     "name": "stdout",
     "output_type": "stream",
     "text": [
      "Checking Exchange\n"
     ]
    },
    {
     "name": "stderr",
     "output_type": "stream",
     "text": [
      "100%|██████████| 4997/4997 [00:01<00:00, 4254.14it/s]\n"
     ]
    },
    {
     "name": "stdout",
     "output_type": "stream",
     "text": [
      "Checking Delete\n",
      "Checking Add\n"
     ]
    },
    {
     "name": "stderr",
     "output_type": "stream",
     "text": [
      "100%|██████████| 4997/4997 [00:00<00:00, 12720.35it/s]\n",
      "2it [00:00, 797.09it/s]\n"
     ]
    },
    {
     "data": {
      "image/png": "[encoded data removed]",
      "text/plain": [
       "<Figure size 900x600 with 1 Axes>"
      ]
     },
     "metadata": {},
     "output_type": "display_data"
    }
   ],
   "source": [
    "ares.generate_itemsets(apriori_threshold=0.2, max_width=None, # defaults to e2-1\n",
    "                       affected_subgroup=None, save_copy=False)\n",
    "# Note: progress bar initial time estimate about 10 times too large\n",
    "ares.generate_groundset(max_width=None, RL_reduction=True,\n",
    "                        then_generation=None, save_copy=False)\n",
    "lams = [1, 0]  # can play around with these lambda values\n",
    "ares.evaluate_groundset(lams=lams, r=5000, save_mode=1,\n",
    "                        disable_tqdm=False, plot_accuracy=True)\n",
    "ares.select_groundset(s=5000)\n",
    "ares.optimise_groundset(lams=lams, factor=1, print_updates=False,\n",
    "                        print_terms=False)"
   ]
  },
  {
   "cell_type": "code",
   "execution_count": 26,
   "metadata": {},
   "outputs": [],
   "source": [
    "counterfactual_X_ares = pd.DataFrame(ares.R.cfx_matrix[0], columns=X_test.columns)\n",
    "counterfactual_y_ares = model.predict(counterfactual_X_ares.values)"
   ]
  },
  {
   "cell_type": "code",
   "execution_count": 27,
   "metadata": {},
   "outputs": [
    {
     "name": "stdout",
     "output_type": "stream",
     "text": [
      "Coverage (AReS): 0.057692307692307696\n"
     ]
    }
   ],
   "source": [
    "print('Coverage (AReS):', counterfactual_y_ares.sum()/len(counterfactual_y_ares))"
   ]
  },
  {
   "cell_type": "markdown",
   "metadata": {},
   "source": [
    "## Diverse Counterfactual Explanation (DiCE)"
   ]
  },
  {
   "cell_type": "code",
   "execution_count": 28,
   "metadata": {},
   "outputs": [],
   "source": [
    "backend = 'PYT'  # needs pytorch installed"
   ]
  },
  {
   "cell_type": "code",
   "execution_count": 29,
   "metadata": {},
   "outputs": [],
   "source": [
    "import dice_ml\n",
    "\n",
    "m = dice_ml.Model(model=model, backend='PYT')\n",
    "\n",
    "factual_X_ext = factual_X.copy()\n",
    "factual_X_ext[target_name] = factual_y\n",
    "\n",
    "dice_features = factual_X.columns.to_list()\n",
    "\n",
    "d = dice_ml.Data(dataframe=factual_X_ext, continuous_features=dice_features, outcome_name = target_name)\n",
    "\n",
    "dice_explainer = dice_ml.Dice(d, m, method=\"gradient\")"
   ]
  },
  {
   "cell_type": "code",
   "execution_count": 30,
   "metadata": {},
   "outputs": [],
   "source": [
    "import os \n",
    "import pickle \n",
    "dump_data_path = './data/baseline/'\n",
    "with open(os.path.join(dump_data_path, f\"dice_results_{model.name}_heloc.pkl\"), 'rb') as file:\n",
    "    dice_results = pickle.load(file)"
   ]
  },
  {
   "cell_type": "code",
   "execution_count": 34,
   "metadata": {},
   "outputs": [
    {
     "name": "stderr",
     "output_type": "stream",
     "text": [
      "  0%|          | 0/52 [00:00<?, ?it/s]WARNING:root: MAD for feature NumTrades60Ever2DerogPubRec is 0, so replacing it with 1.0 to avoid error.\n",
      "WARNING:root: MAD for feature NumTrades90Ever2DerogPubRec is 0, so replacing it with 1.0 to avoid error.\n",
      "WARNING:root: MAD for feature MSinceMostRecentInqexcl7days is 0, so replacing it with 1.0 to avoid error.\n",
      "  2%|▏         | 1/52 [01:07<57:06, 67.19s/it]WARNING:root: MAD for feature NumTrades60Ever2DerogPubRec is 0, so replacing it with 1.0 to avoid error.\n",
      "WARNING:root: MAD for feature NumTrades90Ever2DerogPubRec is 0, so replacing it with 1.0 to avoid error.\n",
      "WARNING:root: MAD for feature MSinceMostRecentInqexcl7days is 0, so replacing it with 1.0 to avoid error.\n"
     ]
    },
    {
     "name": "stdout",
     "output_type": "stream",
     "text": [
      "Diverse Counterfactuals found! total time taken: 00 min 01 sec\n"
     ]
    },
    {
     "name": "stderr",
     "output_type": "stream",
     "text": [
      "  4%|▍         | 2/52 [02:44<1:10:38, 84.77s/it]WARNING:root: MAD for feature NumTrades60Ever2DerogPubRec is 0, so replacing it with 1.0 to avoid error.\n",
      "WARNING:root: MAD for feature NumTrades90Ever2DerogPubRec is 0, so replacing it with 1.0 to avoid error.\n",
      "WARNING:root: MAD for feature MSinceMostRecentInqexcl7days is 0, so replacing it with 1.0 to avoid error.\n"
     ]
    },
    {
     "name": "stdout",
     "output_type": "stream",
     "text": [
      "Diverse Counterfactuals found! total time taken: 00 min 01 sec\n"
     ]
    },
    {
     "name": "stderr",
     "output_type": "stream",
     "text": [
      "  6%|▌         | 3/52 [04:28<1:16:33, 93.75s/it]WARNING:root: MAD for feature NumTrades60Ever2DerogPubRec is 0, so replacing it with 1.0 to avoid error.\n",
      "WARNING:root: MAD for feature NumTrades90Ever2DerogPubRec is 0, so replacing it with 1.0 to avoid error.\n",
      "WARNING:root: MAD for feature MSinceMostRecentInqexcl7days is 0, so replacing it with 1.0 to avoid error.\n"
     ]
    },
    {
     "name": "stdout",
     "output_type": "stream",
     "text": [
      "Diverse Counterfactuals found! total time taken: 00 min 02 sec\n"
     ]
    },
    {
     "name": "stderr",
     "output_type": "stream",
     "text": [
      "  8%|▊         | 4/52 [06:19<1:20:21, 100.45s/it]WARNING:root: MAD for feature NumTrades60Ever2DerogPubRec is 0, so replacing it with 1.0 to avoid error.\n",
      "WARNING:root: MAD for feature NumTrades90Ever2DerogPubRec is 0, so replacing it with 1.0 to avoid error.\n",
      "WARNING:root: MAD for feature MSinceMostRecentInqexcl7days is 0, so replacing it with 1.0 to avoid error.\n"
     ]
    },
    {
     "name": "stdout",
     "output_type": "stream",
     "text": [
      "Diverse Counterfactuals found! total time taken: 00 min 01 sec\n"
     ]
    },
    {
     "name": "stderr",
     "output_type": "stream",
     "text": [
      " 10%|▉         | 5/52 [08:09<1:21:19, 103.82s/it]WARNING:root: MAD for feature NumTrades60Ever2DerogPubRec is 0, so replacing it with 1.0 to avoid error.\n",
      "WARNING:root: MAD for feature NumTrades90Ever2DerogPubRec is 0, so replacing it with 1.0 to avoid error.\n",
      "WARNING:root: MAD for feature MSinceMostRecentInqexcl7days is 0, so replacing it with 1.0 to avoid error.\n"
     ]
    },
    {
     "name": "stdout",
     "output_type": "stream",
     "text": [
      "Diverse Counterfactuals found! total time taken: 00 min 00 sec\n"
     ]
    },
    {
     "name": "stderr",
     "output_type": "stream",
     "text": [
      " 12%|█▏        | 6/52 [09:22<1:11:33, 93.34s/it] WARNING:root: MAD for feature NumTrades60Ever2DerogPubRec is 0, so replacing it with 1.0 to avoid error.\n",
      "WARNING:root: MAD for feature NumTrades90Ever2DerogPubRec is 0, so replacing it with 1.0 to avoid error.\n",
      "WARNING:root: MAD for feature MSinceMostRecentInqexcl7days is 0, so replacing it with 1.0 to avoid error.\n"
     ]
    },
    {
     "name": "stdout",
     "output_type": "stream",
     "text": [
      "Diverse Counterfactuals found! total time taken: 00 min 01 sec\n"
     ]
    },
    {
     "name": "stderr",
     "output_type": "stream",
     "text": [
      " 13%|█▎        | 7/52 [10:23<1:02:07, 82.84s/it]WARNING:root: MAD for feature NumTrades60Ever2DerogPubRec is 0, so replacing it with 1.0 to avoid error.\n",
      "WARNING:root: MAD for feature NumTrades90Ever2DerogPubRec is 0, so replacing it with 1.0 to avoid error.\n",
      "WARNING:root: MAD for feature MSinceMostRecentInqexcl7days is 0, so replacing it with 1.0 to avoid error.\n"
     ]
    },
    {
     "name": "stdout",
     "output_type": "stream",
     "text": [
      "Diverse Counterfactuals found! total time taken: 00 min 01 sec\n"
     ]
    },
    {
     "name": "stderr",
     "output_type": "stream",
     "text": [
      " 15%|█▌        | 8/52 [11:34<58:05, 79.22s/it]  WARNING:root: MAD for feature NumTrades60Ever2DerogPubRec is 0, so replacing it with 1.0 to avoid error.\n",
      "WARNING:root: MAD for feature NumTrades90Ever2DerogPubRec is 0, so replacing it with 1.0 to avoid error.\n",
      "WARNING:root: MAD for feature MSinceMostRecentInqexcl7days is 0, so replacing it with 1.0 to avoid error.\n"
     ]
    },
    {
     "name": "stdout",
     "output_type": "stream",
     "text": [
      "Diverse Counterfactuals found! total time taken: 00 min 01 sec\n"
     ]
    },
    {
     "name": "stderr",
     "output_type": "stream",
     "text": [
      " 17%|█▋        | 9/52 [13:10<1:00:28, 84.39s/it]WARNING:root: MAD for feature NumTrades60Ever2DerogPubRec is 0, so replacing it with 1.0 to avoid error.\n",
      "WARNING:root: MAD for feature NumTrades90Ever2DerogPubRec is 0, so replacing it with 1.0 to avoid error.\n",
      "WARNING:root: MAD for feature MSinceMostRecentInqexcl7days is 0, so replacing it with 1.0 to avoid error.\n"
     ]
    },
    {
     "name": "stdout",
     "output_type": "stream",
     "text": [
      "Diverse Counterfactuals found! total time taken: 00 min 02 sec\n"
     ]
    },
    {
     "name": "stderr",
     "output_type": "stream",
     "text": [
      " 19%|█▉        | 10/52 [16:05<1:18:32, 112.21s/it]WARNING:root: MAD for feature NumTrades60Ever2DerogPubRec is 0, so replacing it with 1.0 to avoid error.\n",
      "WARNING:root: MAD for feature NumTrades90Ever2DerogPubRec is 0, so replacing it with 1.0 to avoid error.\n",
      "WARNING:root: MAD for feature MSinceMostRecentInqexcl7days is 0, so replacing it with 1.0 to avoid error.\n"
     ]
    },
    {
     "name": "stdout",
     "output_type": "stream",
     "text": [
      "Diverse Counterfactuals found! total time taken: 00 min 01 sec\n"
     ]
    },
    {
     "name": "stderr",
     "output_type": "stream",
     "text": [
      " 21%|██        | 11/52 [17:33<1:11:37, 104.82s/it]WARNING:root: MAD for feature NumTrades60Ever2DerogPubRec is 0, so replacing it with 1.0 to avoid error.\n",
      "WARNING:root: MAD for feature NumTrades90Ever2DerogPubRec is 0, so replacing it with 1.0 to avoid error.\n",
      "WARNING:root: MAD for feature MSinceMostRecentInqexcl7days is 0, so replacing it with 1.0 to avoid error.\n"
     ]
    },
    {
     "name": "stdout",
     "output_type": "stream",
     "text": [
      "Diverse Counterfactuals found! total time taken: 00 min 01 sec\n"
     ]
    },
    {
     "name": "stderr",
     "output_type": "stream",
     "text": [
      " 23%|██▎       | 12/52 [19:00<1:06:14, 99.35s/it] WARNING:root: MAD for feature NumTrades60Ever2DerogPubRec is 0, so replacing it with 1.0 to avoid error.\n",
      "WARNING:root: MAD for feature NumTrades90Ever2DerogPubRec is 0, so replacing it with 1.0 to avoid error.\n",
      "WARNING:root: MAD for feature MSinceMostRecentInqexcl7days is 0, so replacing it with 1.0 to avoid error.\n"
     ]
    },
    {
     "name": "stdout",
     "output_type": "stream",
     "text": [
      "Diverse Counterfactuals found! total time taken: 00 min 01 sec\n"
     ]
    },
    {
     "name": "stderr",
     "output_type": "stream",
     "text": [
      " 25%|██▌       | 13/52 [20:38<1:04:24, 99.09s/it]WARNING:root: MAD for feature NumTrades60Ever2DerogPubRec is 0, so replacing it with 1.0 to avoid error.\n",
      "WARNING:root: MAD for feature NumTrades90Ever2DerogPubRec is 0, so replacing it with 1.0 to avoid error.\n",
      "WARNING:root: MAD for feature MSinceMostRecentInqexcl7days is 0, so replacing it with 1.0 to avoid error.\n"
     ]
    },
    {
     "name": "stdout",
     "output_type": "stream",
     "text": [
      "Diverse Counterfactuals found! total time taken: 00 min 01 sec\n"
     ]
    },
    {
     "name": "stderr",
     "output_type": "stream",
     "text": [
      " 27%|██▋       | 14/52 [22:47<1:08:27, 108.10s/it]WARNING:root: MAD for feature NumTrades60Ever2DerogPubRec is 0, so replacing it with 1.0 to avoid error.\n",
      "WARNING:root: MAD for feature NumTrades90Ever2DerogPubRec is 0, so replacing it with 1.0 to avoid error.\n",
      "WARNING:root: MAD for feature MSinceMostRecentInqexcl7days is 0, so replacing it with 1.0 to avoid error.\n"
     ]
    },
    {
     "name": "stdout",
     "output_type": "stream",
     "text": [
      "Diverse Counterfactuals found! total time taken: 00 min 01 sec\n"
     ]
    },
    {
     "name": "stderr",
     "output_type": "stream",
     "text": [
      " 29%|██▉       | 15/52 [25:36<1:18:02, 126.54s/it]WARNING:root: MAD for feature NumTrades60Ever2DerogPubRec is 0, so replacing it with 1.0 to avoid error.\n",
      "WARNING:root: MAD for feature NumTrades90Ever2DerogPubRec is 0, so replacing it with 1.0 to avoid error.\n",
      "WARNING:root: MAD for feature MSinceMostRecentInqexcl7days is 0, so replacing it with 1.0 to avoid error.\n"
     ]
    },
    {
     "name": "stdout",
     "output_type": "stream",
     "text": [
      "Diverse Counterfactuals found! total time taken: 00 min 03 sec\n"
     ]
    },
    {
     "name": "stderr",
     "output_type": "stream",
     "text": [
      " 31%|███       | 16/52 [27:08<1:09:38, 116.06s/it]WARNING:root: MAD for feature NumTrades60Ever2DerogPubRec is 0, so replacing it with 1.0 to avoid error.\n",
      "WARNING:root: MAD for feature NumTrades90Ever2DerogPubRec is 0, so replacing it with 1.0 to avoid error.\n",
      "WARNING:root: MAD for feature MSinceMostRecentInqexcl7days is 0, so replacing it with 1.0 to avoid error.\n"
     ]
    },
    {
     "name": "stdout",
     "output_type": "stream",
     "text": [
      "Diverse Counterfactuals found! total time taken: 00 min 02 sec\n"
     ]
    },
    {
     "name": "stderr",
     "output_type": "stream",
     "text": [
      " 33%|███▎      | 17/52 [28:24<1:00:36, 103.90s/it]WARNING:root: MAD for feature NumTrades60Ever2DerogPubRec is 0, so replacing it with 1.0 to avoid error.\n",
      "WARNING:root: MAD for feature NumTrades90Ever2DerogPubRec is 0, so replacing it with 1.0 to avoid error.\n",
      "WARNING:root: MAD for feature MSinceMostRecentInqexcl7days is 0, so replacing it with 1.0 to avoid error.\n"
     ]
    },
    {
     "name": "stdout",
     "output_type": "stream",
     "text": [
      "Diverse Counterfactuals found! total time taken: 00 min 03 sec\n"
     ]
    },
    {
     "name": "stderr",
     "output_type": "stream",
     "text": [
      " 35%|███▍      | 18/52 [28:47<45:08, 79.68s/it]   WARNING:root: MAD for feature NumTrades60Ever2DerogPubRec is 0, so replacing it with 1.0 to avoid error.\n",
      "WARNING:root: MAD for feature NumTrades90Ever2DerogPubRec is 0, so replacing it with 1.0 to avoid error.\n",
      "WARNING:root: MAD for feature MSinceMostRecentInqexcl7days is 0, so replacing it with 1.0 to avoid error.\n"
     ]
    },
    {
     "name": "stdout",
     "output_type": "stream",
     "text": [
      "Diverse Counterfactuals found! total time taken: 00 min 01 sec\n"
     ]
    },
    {
     "name": "stderr",
     "output_type": "stream",
     "text": [
      " 37%|███▋      | 19/52 [29:56<42:02, 76.45s/it]WARNING:root: MAD for feature NumTrades60Ever2DerogPubRec is 0, so replacing it with 1.0 to avoid error.\n",
      "WARNING:root: MAD for feature NumTrades90Ever2DerogPubRec is 0, so replacing it with 1.0 to avoid error.\n",
      "WARNING:root: MAD for feature MSinceMostRecentInqexcl7days is 0, so replacing it with 1.0 to avoid error.\n"
     ]
    },
    {
     "name": "stdout",
     "output_type": "stream",
     "text": [
      "Diverse Counterfactuals found! total time taken: 00 min 01 sec\n"
     ]
    },
    {
     "name": "stderr",
     "output_type": "stream",
     "text": [
      " 38%|███▊      | 20/52 [30:54<37:47, 70.85s/it]WARNING:root: MAD for feature NumTrades60Ever2DerogPubRec is 0, so replacing it with 1.0 to avoid error.\n",
      "WARNING:root: MAD for feature NumTrades90Ever2DerogPubRec is 0, so replacing it with 1.0 to avoid error.\n",
      "WARNING:root: MAD for feature MSinceMostRecentInqexcl7days is 0, so replacing it with 1.0 to avoid error.\n"
     ]
    },
    {
     "name": "stdout",
     "output_type": "stream",
     "text": [
      "Diverse Counterfactuals found! total time taken: 00 min 01 sec\n"
     ]
    },
    {
     "name": "stderr",
     "output_type": "stream",
     "text": [
      " 40%|████      | 21/52 [32:55<44:30, 86.15s/it]WARNING:root: MAD for feature NumTrades60Ever2DerogPubRec is 0, so replacing it with 1.0 to avoid error.\n",
      "WARNING:root: MAD for feature NumTrades90Ever2DerogPubRec is 0, so replacing it with 1.0 to avoid error.\n",
      "WARNING:root: MAD for feature MSinceMostRecentInqexcl7days is 0, so replacing it with 1.0 to avoid error.\n"
     ]
    },
    {
     "name": "stdout",
     "output_type": "stream",
     "text": [
      "Diverse Counterfactuals found! total time taken: 00 min 02 sec\n"
     ]
    },
    {
     "name": "stderr",
     "output_type": "stream",
     "text": [
      " 42%|████▏     | 22/52 [34:32<44:41, 89.37s/it]WARNING:root: MAD for feature NumTrades60Ever2DerogPubRec is 0, so replacing it with 1.0 to avoid error.\n",
      "WARNING:root: MAD for feature NumTrades90Ever2DerogPubRec is 0, so replacing it with 1.0 to avoid error.\n",
      "WARNING:root: MAD for feature MSinceMostRecentInqexcl7days is 0, so replacing it with 1.0 to avoid error.\n"
     ]
    },
    {
     "name": "stdout",
     "output_type": "stream",
     "text": [
      "Diverse Counterfactuals found! total time taken: 00 min 01 sec\n"
     ]
    },
    {
     "name": "stderr",
     "output_type": "stream",
     "text": [
      " 44%|████▍     | 23/52 [36:40<48:49, 101.01s/it]WARNING:root: MAD for feature NumTrades60Ever2DerogPubRec is 0, so replacing it with 1.0 to avoid error.\n",
      "WARNING:root: MAD for feature NumTrades90Ever2DerogPubRec is 0, so replacing it with 1.0 to avoid error.\n",
      "WARNING:root: MAD for feature MSinceMostRecentInqexcl7days is 0, so replacing it with 1.0 to avoid error.\n"
     ]
    },
    {
     "name": "stdout",
     "output_type": "stream",
     "text": [
      "Diverse Counterfactuals found! total time taken: 00 min 01 sec\n"
     ]
    },
    {
     "name": "stderr",
     "output_type": "stream",
     "text": [
      " 46%|████▌     | 24/52 [38:15<46:15, 99.13s/it] WARNING:root: MAD for feature NumTrades60Ever2DerogPubRec is 0, so replacing it with 1.0 to avoid error.\n",
      "WARNING:root: MAD for feature NumTrades90Ever2DerogPubRec is 0, so replacing it with 1.0 to avoid error.\n",
      "WARNING:root: MAD for feature MSinceMostRecentInqexcl7days is 0, so replacing it with 1.0 to avoid error.\n"
     ]
    },
    {
     "name": "stdout",
     "output_type": "stream",
     "text": [
      "Diverse Counterfactuals found! total time taken: 00 min 01 sec\n"
     ]
    },
    {
     "name": "stderr",
     "output_type": "stream",
     "text": [
      " 48%|████▊     | 25/52 [40:14<47:18, 105.13s/it]WARNING:root: MAD for feature NumTrades60Ever2DerogPubRec is 0, so replacing it with 1.0 to avoid error.\n",
      "WARNING:root: MAD for feature NumTrades90Ever2DerogPubRec is 0, so replacing it with 1.0 to avoid error.\n",
      "WARNING:root: MAD for feature MSinceMostRecentInqexcl7days is 0, so replacing it with 1.0 to avoid error.\n"
     ]
    },
    {
     "name": "stdout",
     "output_type": "stream",
     "text": [
      "Diverse Counterfactuals found! total time taken: 00 min 01 sec\n"
     ]
    },
    {
     "name": "stderr",
     "output_type": "stream",
     "text": [
      " 50%|█████     | 26/52 [42:26<48:58, 113.03s/it]WARNING:root: MAD for feature NumTrades60Ever2DerogPubRec is 0, so replacing it with 1.0 to avoid error.\n",
      "WARNING:root: MAD for feature NumTrades90Ever2DerogPubRec is 0, so replacing it with 1.0 to avoid error.\n",
      "WARNING:root: MAD for feature MSinceMostRecentInqexcl7days is 0, so replacing it with 1.0 to avoid error.\n"
     ]
    },
    {
     "name": "stdout",
     "output_type": "stream",
     "text": [
      "Diverse Counterfactuals found! total time taken: 00 min 01 sec\n"
     ]
    },
    {
     "name": "stderr",
     "output_type": "stream",
     "text": [
      " 52%|█████▏    | 27/52 [44:49<50:50, 122.03s/it]WARNING:root: MAD for feature NumTrades60Ever2DerogPubRec is 0, so replacing it with 1.0 to avoid error.\n",
      "WARNING:root: MAD for feature NumTrades90Ever2DerogPubRec is 0, so replacing it with 1.0 to avoid error.\n",
      "WARNING:root: MAD for feature MSinceMostRecentInqexcl7days is 0, so replacing it with 1.0 to avoid error.\n"
     ]
    },
    {
     "name": "stdout",
     "output_type": "stream",
     "text": [
      "Diverse Counterfactuals found! total time taken: 00 min 02 sec\n"
     ]
    },
    {
     "name": "stderr",
     "output_type": "stream",
     "text": [
      " 54%|█████▍    | 28/52 [48:31<1:00:52, 152.18s/it]WARNING:root: MAD for feature NumTrades60Ever2DerogPubRec is 0, so replacing it with 1.0 to avoid error.\n",
      "WARNING:root: MAD for feature NumTrades90Ever2DerogPubRec is 0, so replacing it with 1.0 to avoid error.\n",
      "WARNING:root: MAD for feature MSinceMostRecentInqexcl7days is 0, so replacing it with 1.0 to avoid error.\n"
     ]
    },
    {
     "name": "stdout",
     "output_type": "stream",
     "text": [
      "Diverse Counterfactuals found! total time taken: 00 min 01 sec\n"
     ]
    },
    {
     "name": "stderr",
     "output_type": "stream",
     "text": [
      " 56%|█████▌    | 29/52 [50:17<53:01, 138.33s/it]  WARNING:root: MAD for feature NumTrades60Ever2DerogPubRec is 0, so replacing it with 1.0 to avoid error.\n",
      "WARNING:root: MAD for feature NumTrades90Ever2DerogPubRec is 0, so replacing it with 1.0 to avoid error.\n",
      "WARNING:root: MAD for feature MSinceMostRecentInqexcl7days is 0, so replacing it with 1.0 to avoid error.\n"
     ]
    },
    {
     "name": "stdout",
     "output_type": "stream",
     "text": [
      "Diverse Counterfactuals found! total time taken: 00 min 02 sec\n"
     ]
    },
    {
     "name": "stderr",
     "output_type": "stream",
     "text": [
      " 58%|█████▊    | 30/52 [53:24<56:02, 152.82s/it]WARNING:root: MAD for feature NumTrades60Ever2DerogPubRec is 0, so replacing it with 1.0 to avoid error.\n",
      "WARNING:root: MAD for feature NumTrades90Ever2DerogPubRec is 0, so replacing it with 1.0 to avoid error.\n",
      "WARNING:root: MAD for feature MSinceMostRecentInqexcl7days is 0, so replacing it with 1.0 to avoid error.\n"
     ]
    },
    {
     "name": "stdout",
     "output_type": "stream",
     "text": [
      "Diverse Counterfactuals found! total time taken: 00 min 02 sec\n"
     ]
    },
    {
     "name": "stderr",
     "output_type": "stream",
     "text": [
      " 60%|█████▉    | 31/52 [55:18<49:23, 141.12s/it]WARNING:root: MAD for feature NumTrades60Ever2DerogPubRec is 0, so replacing it with 1.0 to avoid error.\n",
      "WARNING:root: MAD for feature NumTrades90Ever2DerogPubRec is 0, so replacing it with 1.0 to avoid error.\n",
      "WARNING:root: MAD for feature MSinceMostRecentInqexcl7days is 0, so replacing it with 1.0 to avoid error.\n"
     ]
    },
    {
     "name": "stdout",
     "output_type": "stream",
     "text": [
      "Diverse Counterfactuals found! total time taken: 00 min 01 sec\n"
     ]
    },
    {
     "name": "stderr",
     "output_type": "stream",
     "text": [
      " 62%|██████▏   | 32/52 [56:21<39:14, 117.73s/it]WARNING:root: MAD for feature NumTrades60Ever2DerogPubRec is 0, so replacing it with 1.0 to avoid error.\n",
      "WARNING:root: MAD for feature NumTrades90Ever2DerogPubRec is 0, so replacing it with 1.0 to avoid error.\n",
      "WARNING:root: MAD for feature MSinceMostRecentInqexcl7days is 0, so replacing it with 1.0 to avoid error.\n"
     ]
    },
    {
     "name": "stdout",
     "output_type": "stream",
     "text": [
      "Diverse Counterfactuals found! total time taken: 00 min 01 sec\n"
     ]
    },
    {
     "name": "stderr",
     "output_type": "stream",
     "text": [
      " 63%|██████▎   | 33/52 [57:58<35:20, 111.60s/it]WARNING:root: MAD for feature NumTrades60Ever2DerogPubRec is 0, so replacing it with 1.0 to avoid error.\n",
      "WARNING:root: MAD for feature NumTrades90Ever2DerogPubRec is 0, so replacing it with 1.0 to avoid error.\n",
      "WARNING:root: MAD for feature MSinceMostRecentInqexcl7days is 0, so replacing it with 1.0 to avoid error.\n"
     ]
    },
    {
     "name": "stdout",
     "output_type": "stream",
     "text": [
      "Diverse Counterfactuals found! total time taken: 00 min 02 sec\n"
     ]
    },
    {
     "name": "stderr",
     "output_type": "stream",
     "text": [
      " 65%|██████▌   | 34/52 [58:52<28:15, 94.18s/it] WARNING:root: MAD for feature NumTrades60Ever2DerogPubRec is 0, so replacing it with 1.0 to avoid error.\n",
      "WARNING:root: MAD for feature NumTrades90Ever2DerogPubRec is 0, so replacing it with 1.0 to avoid error.\n",
      "WARNING:root: MAD for feature MSinceMostRecentInqexcl7days is 0, so replacing it with 1.0 to avoid error.\n"
     ]
    },
    {
     "name": "stdout",
     "output_type": "stream",
     "text": [
      "Diverse Counterfactuals found! total time taken: 00 min 01 sec\n"
     ]
    },
    {
     "name": "stderr",
     "output_type": "stream",
     "text": [
      " 67%|██████▋   | 35/52 [1:01:26<31:49, 112.32s/it]WARNING:root: MAD for feature NumTrades60Ever2DerogPubRec is 0, so replacing it with 1.0 to avoid error.\n",
      "WARNING:root: MAD for feature NumTrades90Ever2DerogPubRec is 0, so replacing it with 1.0 to avoid error.\n",
      "WARNING:root: MAD for feature MSinceMostRecentInqexcl7days is 0, so replacing it with 1.0 to avoid error.\n"
     ]
    },
    {
     "name": "stdout",
     "output_type": "stream",
     "text": [
      "Diverse Counterfactuals found! total time taken: 00 min 01 sec\n"
     ]
    },
    {
     "name": "stderr",
     "output_type": "stream",
     "text": [
      " 69%|██████▉   | 36/52 [1:03:54<32:43, 122.75s/it]WARNING:root: MAD for feature NumTrades60Ever2DerogPubRec is 0, so replacing it with 1.0 to avoid error.\n",
      "WARNING:root: MAD for feature NumTrades90Ever2DerogPubRec is 0, so replacing it with 1.0 to avoid error.\n",
      "WARNING:root: MAD for feature MSinceMostRecentInqexcl7days is 0, so replacing it with 1.0 to avoid error.\n"
     ]
    },
    {
     "name": "stdout",
     "output_type": "stream",
     "text": [
      "Diverse Counterfactuals found! total time taken: 00 min 02 sec\n"
     ]
    },
    {
     "name": "stderr",
     "output_type": "stream",
     "text": [
      " 71%|███████   | 37/52 [1:07:10<36:14, 144.96s/it]WARNING:root: MAD for feature NumTrades60Ever2DerogPubRec is 0, so replacing it with 1.0 to avoid error.\n",
      "WARNING:root: MAD for feature NumTrades90Ever2DerogPubRec is 0, so replacing it with 1.0 to avoid error.\n",
      "WARNING:root: MAD for feature MSinceMostRecentInqexcl7days is 0, so replacing it with 1.0 to avoid error.\n"
     ]
    },
    {
     "name": "stdout",
     "output_type": "stream",
     "text": [
      "Diverse Counterfactuals found! total time taken: 00 min 03 sec\n"
     ]
    },
    {
     "name": "stderr",
     "output_type": "stream",
     "text": [
      " 73%|███████▎  | 38/52 [1:08:55<30:58, 132.73s/it]WARNING:root: MAD for feature NumTrades60Ever2DerogPubRec is 0, so replacing it with 1.0 to avoid error.\n",
      "WARNING:root: MAD for feature NumTrades90Ever2DerogPubRec is 0, so replacing it with 1.0 to avoid error.\n",
      "WARNING:root: MAD for feature MSinceMostRecentInqexcl7days is 0, so replacing it with 1.0 to avoid error.\n"
     ]
    },
    {
     "name": "stdout",
     "output_type": "stream",
     "text": [
      "Diverse Counterfactuals found! total time taken: 00 min 01 sec\n"
     ]
    },
    {
     "name": "stderr",
     "output_type": "stream",
     "text": [
      " 75%|███████▌  | 39/52 [1:10:50<27:39, 127.63s/it]WARNING:root: MAD for feature NumTrades60Ever2DerogPubRec is 0, so replacing it with 1.0 to avoid error.\n",
      "WARNING:root: MAD for feature NumTrades90Ever2DerogPubRec is 0, so replacing it with 1.0 to avoid error.\n",
      "WARNING:root: MAD for feature MSinceMostRecentInqexcl7days is 0, so replacing it with 1.0 to avoid error.\n"
     ]
    },
    {
     "name": "stdout",
     "output_type": "stream",
     "text": [
      "Diverse Counterfactuals found! total time taken: 00 min 02 sec\n"
     ]
    },
    {
     "name": "stderr",
     "output_type": "stream",
     "text": [
      " 77%|███████▋  | 40/52 [1:11:57<21:51, 109.26s/it]WARNING:root: MAD for feature NumTrades60Ever2DerogPubRec is 0, so replacing it with 1.0 to avoid error.\n",
      "WARNING:root: MAD for feature NumTrades90Ever2DerogPubRec is 0, so replacing it with 1.0 to avoid error.\n",
      "WARNING:root: MAD for feature MSinceMostRecentInqexcl7days is 0, so replacing it with 1.0 to avoid error.\n"
     ]
    },
    {
     "name": "stdout",
     "output_type": "stream",
     "text": [
      "Diverse Counterfactuals found! total time taken: 00 min 00 sec\n"
     ]
    },
    {
     "name": "stderr",
     "output_type": "stream",
     "text": [
      " 79%|███████▉  | 41/52 [1:13:16<18:24, 100.42s/it]WARNING:root: MAD for feature NumTrades60Ever2DerogPubRec is 0, so replacing it with 1.0 to avoid error.\n",
      "WARNING:root: MAD for feature NumTrades90Ever2DerogPubRec is 0, so replacing it with 1.0 to avoid error.\n",
      "WARNING:root: MAD for feature MSinceMostRecentInqexcl7days is 0, so replacing it with 1.0 to avoid error.\n"
     ]
    },
    {
     "name": "stdout",
     "output_type": "stream",
     "text": [
      "Diverse Counterfactuals found! total time taken: 00 min 02 sec\n"
     ]
    },
    {
     "name": "stderr",
     "output_type": "stream",
     "text": [
      " 81%|████████  | 42/52 [1:14:57<16:43, 100.39s/it]WARNING:root: MAD for feature NumTrades60Ever2DerogPubRec is 0, so replacing it with 1.0 to avoid error.\n",
      "WARNING:root: MAD for feature NumTrades90Ever2DerogPubRec is 0, so replacing it with 1.0 to avoid error.\n",
      "WARNING:root: MAD for feature MSinceMostRecentInqexcl7days is 0, so replacing it with 1.0 to avoid error.\n"
     ]
    },
    {
     "name": "stdout",
     "output_type": "stream",
     "text": [
      "Diverse Counterfactuals found! total time taken: 00 min 00 sec\n"
     ]
    },
    {
     "name": "stderr",
     "output_type": "stream",
     "text": [
      " 83%|████████▎ | 43/52 [1:16:42<15:16, 101.86s/it]WARNING:root: MAD for feature NumTrades60Ever2DerogPubRec is 0, so replacing it with 1.0 to avoid error.\n",
      "WARNING:root: MAD for feature NumTrades90Ever2DerogPubRec is 0, so replacing it with 1.0 to avoid error.\n",
      "WARNING:root: MAD for feature MSinceMostRecentInqexcl7days is 0, so replacing it with 1.0 to avoid error.\n"
     ]
    },
    {
     "name": "stdout",
     "output_type": "stream",
     "text": [
      "Diverse Counterfactuals found! total time taken: 00 min 01 sec\n"
     ]
    },
    {
     "name": "stderr",
     "output_type": "stream",
     "text": [
      " 85%|████████▍ | 44/52 [1:19:20<15:48, 118.62s/it]WARNING:root: MAD for feature NumTrades60Ever2DerogPubRec is 0, so replacing it with 1.0 to avoid error.\n",
      "WARNING:root: MAD for feature NumTrades90Ever2DerogPubRec is 0, so replacing it with 1.0 to avoid error.\n",
      "WARNING:root: MAD for feature MSinceMostRecentInqexcl7days is 0, so replacing it with 1.0 to avoid error.\n"
     ]
    },
    {
     "name": "stdout",
     "output_type": "stream",
     "text": [
      "Diverse Counterfactuals found! total time taken: 00 min 01 sec\n"
     ]
    },
    {
     "name": "stderr",
     "output_type": "stream",
     "text": [
      " 87%|████████▋ | 45/52 [1:21:27<14:08, 121.18s/it]WARNING:root: MAD for feature NumTrades60Ever2DerogPubRec is 0, so replacing it with 1.0 to avoid error.\n",
      "WARNING:root: MAD for feature NumTrades90Ever2DerogPubRec is 0, so replacing it with 1.0 to avoid error.\n",
      "WARNING:root: MAD for feature MSinceMostRecentInqexcl7days is 0, so replacing it with 1.0 to avoid error.\n"
     ]
    },
    {
     "name": "stdout",
     "output_type": "stream",
     "text": [
      "Diverse Counterfactuals found! total time taken: 00 min 01 sec\n"
     ]
    },
    {
     "name": "stderr",
     "output_type": "stream",
     "text": [
      " 88%|████████▊ | 46/52 [1:24:02<13:08, 131.33s/it]WARNING:root: MAD for feature NumTrades60Ever2DerogPubRec is 0, so replacing it with 1.0 to avoid error.\n",
      "WARNING:root: MAD for feature NumTrades90Ever2DerogPubRec is 0, so replacing it with 1.0 to avoid error.\n",
      "WARNING:root: MAD for feature MSinceMostRecentInqexcl7days is 0, so replacing it with 1.0 to avoid error.\n"
     ]
    },
    {
     "name": "stdout",
     "output_type": "stream",
     "text": [
      "Diverse Counterfactuals found! total time taken: 00 min 01 sec\n"
     ]
    },
    {
     "name": "stderr",
     "output_type": "stream",
     "text": [
      " 90%|█████████ | 47/52 [1:25:58<10:33, 126.66s/it]WARNING:root: MAD for feature NumTrades60Ever2DerogPubRec is 0, so replacing it with 1.0 to avoid error.\n",
      "WARNING:root: MAD for feature NumTrades90Ever2DerogPubRec is 0, so replacing it with 1.0 to avoid error.\n",
      "WARNING:root: MAD for feature MSinceMostRecentInqexcl7days is 0, so replacing it with 1.0 to avoid error.\n"
     ]
    },
    {
     "name": "stdout",
     "output_type": "stream",
     "text": [
      "Diverse Counterfactuals found! total time taken: 00 min 01 sec\n"
     ]
    },
    {
     "name": "stderr",
     "output_type": "stream",
     "text": [
      " 92%|█████████▏| 48/52 [1:27:29<07:44, 116.15s/it]WARNING:root: MAD for feature NumTrades60Ever2DerogPubRec is 0, so replacing it with 1.0 to avoid error.\n",
      "WARNING:root: MAD for feature NumTrades90Ever2DerogPubRec is 0, so replacing it with 1.0 to avoid error.\n",
      "WARNING:root: MAD for feature MSinceMostRecentInqexcl7days is 0, so replacing it with 1.0 to avoid error.\n"
     ]
    },
    {
     "name": "stdout",
     "output_type": "stream",
     "text": [
      "Diverse Counterfactuals found! total time taken: 00 min 01 sec\n"
     ]
    },
    {
     "name": "stderr",
     "output_type": "stream",
     "text": [
      " 94%|█████████▍| 49/52 [1:29:13<05:37, 112.36s/it]WARNING:root: MAD for feature NumTrades60Ever2DerogPubRec is 0, so replacing it with 1.0 to avoid error.\n",
      "WARNING:root: MAD for feature NumTrades90Ever2DerogPubRec is 0, so replacing it with 1.0 to avoid error.\n",
      "WARNING:root: MAD for feature MSinceMostRecentInqexcl7days is 0, so replacing it with 1.0 to avoid error.\n"
     ]
    },
    {
     "name": "stdout",
     "output_type": "stream",
     "text": [
      "Diverse Counterfactuals found! total time taken: 00 min 01 sec\n"
     ]
    },
    {
     "name": "stderr",
     "output_type": "stream",
     "text": [
      " 96%|█████████▌| 50/52 [1:31:09<03:46, 113.45s/it]WARNING:root: MAD for feature NumTrades60Ever2DerogPubRec is 0, so replacing it with 1.0 to avoid error.\n",
      "WARNING:root: MAD for feature NumTrades90Ever2DerogPubRec is 0, so replacing it with 1.0 to avoid error.\n",
      "WARNING:root: MAD for feature MSinceMostRecentInqexcl7days is 0, so replacing it with 1.0 to avoid error.\n"
     ]
    },
    {
     "name": "stdout",
     "output_type": "stream",
     "text": [
      "Diverse Counterfactuals found! total time taken: 00 min 00 sec\n"
     ]
    },
    {
     "name": "stderr",
     "output_type": "stream",
     "text": [
      " 98%|█████████▊| 51/52 [1:33:11<01:56, 116.14s/it]WARNING:root: MAD for feature NumTrades60Ever2DerogPubRec is 0, so replacing it with 1.0 to avoid error.\n",
      "WARNING:root: MAD for feature NumTrades90Ever2DerogPubRec is 0, so replacing it with 1.0 to avoid error.\n",
      "WARNING:root: MAD for feature MSinceMostRecentInqexcl7days is 0, so replacing it with 1.0 to avoid error.\n"
     ]
    },
    {
     "name": "stdout",
     "output_type": "stream",
     "text": [
      "Diverse Counterfactuals found! total time taken: 00 min 01 sec\n"
     ]
    },
    {
     "name": "stderr",
     "output_type": "stream",
     "text": [
      "100%|██████████| 52/52 [1:35:40<00:00, 110.40s/it]"
     ]
    },
    {
     "name": "stdout",
     "output_type": "stream",
     "text": [
      "Diverse Counterfactuals found! total time taken: 00 min 01 sec\n"
     ]
    },
    {
     "name": "stderr",
     "output_type": "stream",
     "text": [
      "\n"
     ]
    }
   ],
   "source": [
    "dice_results = dice_explainer.generate_counterfactuals(query_instances=factual_X, features_to_vary=dice_features, desired_class=\"opposite\", total_CFs=1)"
   ]
  },
  {
   "cell_type": "code",
   "execution_count": 31,
   "metadata": {},
   "outputs": [],
   "source": [
    "# Iterate through each result and append to the DataFrame\n",
    "dice_df_list = []\n",
    "for cf in dice_results.cf_examples_list:\n",
    "    # Convert to DataFrame and append\n",
    "    cf_df = cf.final_cfs_df\n",
    "    dice_df_list.append(cf_df)\n",
    "\n",
    "counterfactual_X_dice = pd.concat(dice_df_list).reset_index(drop=True).drop(target_name, axis=1)"
   ]
  },
  {
   "cell_type": "code",
   "execution_count": 32,
   "metadata": {},
   "outputs": [],
   "source": [
    "counterfactual_y_dice = model.predict(counterfactual_X_dice.values)"
   ]
  },
  {
   "cell_type": "code",
   "execution_count": 33,
   "metadata": {},
   "outputs": [
    {
     "name": "stdout",
     "output_type": "stream",
     "text": [
      "Coverage (DiCE): 1.0\n"
     ]
    }
   ],
   "source": [
    "print('Coverage (DiCE):', counterfactual_y_dice.sum()/len(counterfactual_y_dice))"
   ]
  },
  {
   "cell_type": "code",
   "execution_count": 34,
   "metadata": {},
   "outputs": [],
   "source": [
    "# import os \n",
    "# import pickle \n",
    "# dump_data_path = './data/baseline/'\n",
    "# with open(os.path.join(dump_data_path, f\"dice_results_{model.name}_heloc.pkl\"), \"wb\") as file:\n",
    "#     pickle.dump(dice_results, file)"
   ]
  },
  {
   "cell_type": "markdown",
   "metadata": {},
   "source": [
    "## Distributional Counterfactual Explanation (DCE)"
   ]
  },
  {
   "cell_type": "code",
   "execution_count": 35,
   "metadata": {},
   "outputs": [
    {
     "name": "stderr",
     "output_type": "stream",
     "text": [
      "c:\\Users\\leiyo\\Anaconda3\\lib\\site-packages\\tensorflow\\python\\framework\\dtypes.py:35: DeprecationWarning: ml_dtypes.float8_e4m3b11 is deprecated. Use ml_dtypes.float8_e4m3b11fnuz\n",
      "  from tensorflow.tsl.python.lib.core import pywrap_ml_dtypes\n"
     ]
    }
   ],
   "source": [
    "from explainers.dce import DistributionalCounterfactualExplainer\n",
    "\n",
    "delta = 1e-5\n",
    "alpha = 0.05\n",
    "N = 10\n",
    "\n",
    "explain_columns = df_explain.columns\n",
    "\n",
    "explainer = DistributionalCounterfactualExplainer(\n",
    "    model=model, \n",
    "    df_X=factual_X, \n",
    "    explain_columns=explain_columns,\n",
    "    y_target=y_target, \n",
    "    lr=0.1, \n",
    "    n_proj=N,\n",
    "    delta=delta,\n",
    "    costs_vector=None)"
   ]
  },
  {
   "cell_type": "code",
   "execution_count": 36,
   "metadata": {},
   "outputs": [],
   "source": [
    "import os \n",
    "import pickle \n",
    "dump_data_path = './data/baseline/'\n",
    "with open(os.path.join(dump_data_path, f\"explainer_{model.name}_heloc.pkl\"), 'rb') as file:\n",
    "    explainer = pickle.load(file)"
   ]
  },
  {
   "cell_type": "code",
   "execution_count": 48,
   "metadata": {},
   "outputs": [
    {
     "name": "stderr",
     "output_type": "stream",
     "text": [
      "INFO:root:Optimization started\n",
      "INFO:root:U_1-Qu_upper=0.01, U_2-Qv_upper=-0.5949527218993824\n",
      "INFO:root:eta=0.7, l=0.51, r=0.7\n",
      "INFO:root:Iter 1: Q = 0.3172924816608429, term1 = 0.0034817878622561693, term2 = 0.451782763004303\n",
      "INFO:root:U_1-Qu_upper=-0.0140277224349856, U_2-Qv_upper=-0.5079202679409087\n",
      "INFO:root:eta=0.6948936152417642, l=0.5195, r=0.7\n",
      "INFO:root:Iter 2: Q = 0.2689950168132782, term1 = 0.005000847391784191, term2 = 0.38490673899650574\n",
      "INFO:root:U_1-Qu_upper=-0.04780403739579029, U_2-Qv_upper=-0.45857094355290634\n",
      "INFO:root:eta=0.6829600018275501, l=0.5285249999999999, r=0.7\n",
      "INFO:root:Iter 3: Q = 0.2312721610069275, term1 = 0.004892057739198208, term2 = 0.3363611400127411\n",
      "INFO:root:U_1-Qu_upper=-0.04223098621797851, U_2-Qv_upper=-0.40520399334730767\n",
      "INFO:root:eta=0.683815395102181, l=0.53709875, r=0.7\n",
      "INFO:root:Iter 4: Q = 0.20306654274463654, term1 = 0.004637978971004486, term2 = 0.2948165237903595\n",
      "INFO:root:U_1-Qu_upper=-0.04980640805695265, U_2-Qv_upper=-0.3714521667572149\n",
      "INFO:root:eta=0.6807397958983581, l=0.5452438125, r=0.7\n",
      "INFO:root:Iter 5: Q = 0.17804685235023499, term1 = 0.0042005544528365135, term2 = 0.25957903265953064\n",
      "INFO:root:U_1-Qu_upper=-0.04158639405914155, U_2-Qv_upper=-0.33212053100189226\n",
      "INFO:root:eta=0.6827786124235875, l=0.552981621875, r=0.7\n",
      "INFO:root:Iter 6: Q = 0.1573837697505951, term1 = 0.003912118263542652, term2 = 0.22868724167346954\n",
      "INFO:root:U_1-Qu_upper=-0.03744952841535046, U_2-Qv_upper=-0.30373803924093495\n",
      "INFO:root:eta=0.6838629262871692, l=0.5603325407812499, r=0.7\n",
      "INFO:root:Iter 7: Q = 0.13892364501953125, term1 = 0.0035543690901249647, term2 = 0.20150233805179596\n",
      "INFO:root:U_1-Qu_upper=-0.0316058975466156, U_2-Qv_upper=-0.2685256003653208\n",
      "INFO:root:eta=0.6852920621881574, l=0.5673159137421875, r=0.7\n",
      "INFO:root:Iter 8: Q = 0.12295172363519669, term1 = 0.0032946516294032335, term2 = 0.17790205776691437\n",
      "INFO:root:U_1-Qu_upper=-0.02985085440827865, U_2-Qv_upper=-0.2424552336101452\n",
      "INFO:root:eta=0.6854548483656764, l=0.5739501180550781, r=0.7\n",
      "INFO:root:Iter 9: Q = 0.10849318653345108, term1 = 0.002943942556157708, term2 = 0.1569281816482544\n",
      "INFO:root:U_1-Qu_upper=-0.03009304785921999, U_2-Qv_upper=-0.21559447655061043\n",
      "INFO:root:eta=0.684560774344854, l=0.5802526121523242, r=0.7\n",
      "INFO:root:Iter 10: Q = 0.09588675200939178, term1 = 0.0026680766604840755, term2 = 0.13884104788303375\n",
      "INFO:root:U_1-Qu_upper=-0.00567980150753084, U_2-Qv_upper=-0.18924935968603018\n",
      "INFO:root:eta=0.6965108278830341, l=0.5862399815447079, r=0.7\n",
      "INFO:root:Iter 11: Q = 0.08566080778837204, term1 = 0.0025280907284468412, term2 = 0.1218840479850769\n",
      "INFO:root:U_1-Qu_upper=-0.009172654746582376, U_2-Qv_upper=-0.1686360538748834\n",
      "INFO:root:eta=0.6941314383229862, l=0.5919279824674725, r=0.7\n",
      "INFO:root:Iter 12: Q = 0.07543613016605377, term1 = 0.002304213587194681, term2 = 0.1076616644859314\n",
      "INFO:root:U_1-Qu_upper=0.0015482493686466287, U_2-Qv_upper=-0.1434579499975112\n",
      "INFO:root:eta=0.7, l=0.5973315833440989, r=0.7\n",
      "INFO:root:Iter 13: Q = 0.06691616028547287, term1 = 0.00210087769664824, term2 = 0.09469413757324219\n",
      "INFO:root:U_1-Qu_upper=-0.014091578510570116, U_2-Qv_upper=-0.12353386238224001\n",
      "INFO:root:eta=0.6894876990440353, l=0.602465004176894, r=0.7\n",
      "INFO:root:Iter 14: Q = 0.05858675763010979, term1 = 0.001816954230889678, term2 = 0.08415316045284271\n",
      "INFO:root:U_1-Qu_upper=-0.0032641032972684624, U_2-Qv_upper=-0.10425530095789576\n",
      "INFO:root:eta=0.6970390060875921, l=0.6073417539680492, r=0.7\n",
      "INFO:root:Iter 15: Q = 0.052241384983062744, term1 = 0.001652885926887393, term2 = 0.0742291659116745\n",
      "INFO:root:U_1-Qu_upper=0.01, U_2-Qv_upper=-0.08531417392853863\n",
      "INFO:root:eta=0.7, l=0.6119746662696468, r=0.7\n",
      "INFO:root:Iter 16: Q = 0.046240873634815216, term1 = 0.0015192464925348759, term2 = 0.06540728360414505\n",
      "INFO:root:U_1-Qu_upper=0.01, U_2-Qv_upper=-0.06843574699044841\n",
      "INFO:root:eta=0.7, l=0.6163759329561644, r=0.7\n",
      "INFO:root:Iter 17: Q = 0.04082473739981651, term1 = 0.0013494167942553759, term2 = 0.057742733508348465\n",
      "INFO:root:U_1-Qu_upper=0.01, U_2-Qv_upper=-0.05029717232355313\n",
      "INFO:root:eta=0.7, l=0.6205571363083562, r=0.7\n",
      "INFO:root:Iter 18: Q = 0.03612111881375313, term1 = 0.0012222063960507512, term2 = 0.05107779800891876\n",
      "INFO:root:U_1-Qu_upper=0.01, U_2-Qv_upper=-0.03929096965309389\n",
      "INFO:root:eta=0.7, l=0.6245292794929383, r=0.7\n",
      "INFO:root:Iter 19: Q = 0.03187565505504608, term1 = 0.0010720432037487626, term2 = 0.04507720470428467\n",
      "INFO:root:U_1-Qu_upper=0.01, U_2-Qv_upper=-0.024491621746560388\n",
      "INFO:root:eta=0.7, l=0.6283028155182915, r=0.7\n",
      "INFO:root:Iter 20: Q = 0.028192125260829926, term1 = 0.0009625785751268268, term2 = 0.03986193239688873\n",
      "INFO:root:U_1-Qu_upper=0.01, U_2-Qv_upper=-0.008606683494423062\n",
      "INFO:root:eta=0.7, l=0.631887674742377, r=0.7\n",
      "INFO:root:Iter 21: Q = 0.02494193986058235, term1 = 0.0008493547211401165, term2 = 0.035267334431409836\n",
      "INFO:root:U_1-Qu_upper=0.01, U_2-Qv_upper=0.004545291458535272\n",
      "INFO:root:eta=0.6787154234002798, l=0.6352932910052581, r=0.7\n",
      "INFO:root:Iter 22: Q = 0.021679619327187538, term1 = 0.0006831564824096859, term2 = 0.03161874786019325\n",
      "INFO:root:U_1-Qu_upper=0.01, U_2-Qv_upper=0.014030619857918508\n",
      "INFO:root:eta=0.6622200658355877, l=0.6352932910052581, r=0.6967646645502629\n",
      "INFO:root:Iter 23: Q = 0.01900775171816349, term1 = 0.0005330231506377459, term2 = 0.02843119204044342\n",
      "INFO:root:U_1-Qu_upper=0.01, U_2-Qv_upper=0.024152664580170596\n",
      "INFO:root:eta=0.6532922888288996, l=0.6352932910052581, r=0.6936910958730126\n",
      "INFO:root:Iter 24: Q = 0.01681775413453579, term1 = 0.00043778549297712743, term2 = 0.025510741397738457\n",
      "INFO:root:U_1-Qu_upper=0.01, U_2-Qv_upper=0.033690551725288065\n",
      "INFO:root:eta=0.6486595229619844, l=0.6352932910052581, r=0.6907712056296249\n",
      "INFO:root:Iter 25: Q = 0.01493654865771532, term1 = 0.0003623536031227559, term2 = 0.022830527275800705\n",
      "INFO:root:U_1-Qu_upper=0.01, U_2-Qv_upper=0.04216619864905155\n",
      "INFO:root:eta=0.6459281304340604, l=0.6352932910052581, r=0.6879973098984066\n",
      "INFO:root:Iter 26: Q = 0.0133140217512846, term1 = 0.000315183715429157, term2 = 0.02043946273624897\n",
      "INFO:root:U_1-Qu_upper=0.01, U_2-Qv_upper=0.04975393046717558\n",
      "INFO:root:eta=0.6441134670976242, l=0.6352932910052581, r=0.6853621089537492\n",
      "INFO:root:Iter 27: Q = 0.011841686442494392, term1 = 0.0002677211887203157, term2 = 0.01823655143380165\n",
      "INFO:root:U_1-Qu_upper=0.01, U_2-Qv_upper=0.05938076902010653\n",
      "INFO:root:eta=0.6425098178116965, l=0.6352932910052581, r=0.6828586680563246\n",
      "INFO:root:Iter 28: Q = 0.010518884286284447, term1 = 0.0002324040251551196, term2 = 0.016242245212197304\n",
      "INFO:root:U_1-Qu_upper=0.01, U_2-Qv_upper=0.06592651314186782\n",
      "INFO:root:eta=0.6415579507509508, l=0.6352932910052581, r=0.6804803992037712\n",
      "INFO:root:Iter 29: Q = 0.009424051269888878, term1 = 0.00020436329941730946, term2 = 0.014575143344700336\n",
      "INFO:root:U_1-Qu_upper=0.01, U_2-Qv_upper=0.0741658321515293\n",
      "INFO:root:eta=0.6406621095677788, l=0.6352932910052581, r=0.6782210437938456\n",
      "INFO:root:Iter 30: Q = 0.008368115872144699, term1 = 0.0001786762586561963, term2 = 0.012961450964212418\n",
      "INFO:root:U_1-Qu_upper=0.01, U_2-Qv_upper=0.08099509879934648\n",
      "INFO:root:eta=0.6400108805628284, l=0.6352932910052581, r=0.6760746561544162\n",
      "INFO:root:Iter 31: Q = 0.007493434939533472, term1 = 0.00015773755148984492, term2 = 0.0116195697337389\n",
      "INFO:root:U_1-Qu_upper=0.01, U_2-Qv_upper=0.08692086477840956\n",
      "INFO:root:eta=0.6395009882067221, l=0.6352932910052581, r=0.6740355878969583\n",
      "INFO:root:Iter 32: Q = 0.006689880508929491, term1 = 0.0001414518483215943, term2 = 0.010381355881690979\n",
      "INFO:root:U_1-Qu_upper=0.01, U_2-Qv_upper=0.09395781447138833\n",
      "INFO:root:eta=0.6390200235350539, l=0.6352932910052581, r=0.6720984730523732\n",
      "INFO:root:Iter 33: Q = 0.005939013324677944, term1 = 0.00012174506991868839, term2 = 0.009225165471434593\n",
      "INFO:root:U_1-Qu_upper=0.01, U_2-Qv_upper=0.10002721678641614\n",
      "INFO:root:eta=0.6386383889839301, l=0.6352932910052581, r=0.6702582139500175\n",
      "INFO:root:Iter 34: Q = 0.00530393049120903, term1 = 0.00010862252383958548, term2 = 0.008243598975241184\n",
      "INFO:root:U_1-Qu_upper=0.01, U_2-Qv_upper=0.10457695902313169\n",
      "INFO:root:eta=0.6383449449540857, l=0.6352932910052581, r=0.6685099678027795\n",
      "INFO:root:Iter 35: Q = 0.0047526233829557896, term1 = 9.716147906146944e-05, term2 = 0.007390181068331003\n",
      "INFO:root:U_1-Qu_upper=0.01, U_2-Qv_upper=0.11115854840319829\n",
      "INFO:root:eta=0.6380348785560581, l=0.6352932910052581, r=0.6668491339629035\n",
      "INFO:root:Iter 36: Q = 0.004223934840410948, term1 = 8.57857521623373e-05, term2 = 0.006571558769792318\n",
      "INFO:root:U_1-Qu_upper=0.01, U_2-Qv_upper=0.11528421239052442\n",
      "INFO:root:eta=0.6378120315836227, l=0.6352932910052581, r=0.6652713418150212\n",
      "INFO:root:Iter 37: Q = 0.0037837643176317215, term1 = 7.646804442629218e-05, term2 = 0.00588898966088891\n",
      "INFO:root:U_1-Qu_upper=0.01, U_2-Qv_upper=0.12064670775100679\n",
      "INFO:root:eta=0.6375878800787843, l=0.6352932910052581, r=0.6637724392745331\n",
      "INFO:root:Iter 38: Q = 0.0033643434289842844, term1 = 6.769447645638138e-05, term2 = 0.005238195415586233\n",
      "INFO:root:U_1-Qu_upper=0.01, U_2-Qv_upper=0.12391590773477862\n",
      "INFO:root:eta=0.637419935162103, l=0.6352932910052581, r=0.6623484818610693\n",
      "INFO:root:Iter 39: Q = 0.00301636871881783, term1 = 6.0703700000885874e-05, term2 = 0.004697623196989298\n",
      "INFO:root:U_1-Qu_upper=0.01, U_2-Qv_upper=0.12824043231295876\n",
      "INFO:root:eta=0.6372504022789383, l=0.6352932910052581, r=0.6609957223182787\n",
      "INFO:root:Iter 40: Q = 0.002689455868676305, term1 = 5.445911665447056e-05, term2 = 0.004189406055957079\n",
      "INFO:root:U_1-Qu_upper=0.01, U_2-Qv_upper=0.13262340761815591\n",
      "INFO:root:eta=0.6370954097277215, l=0.6352932910052581, r=0.6597106007526277\n",
      "INFO:root:Iter 41: Q = 0.00239023775793612, term1 = 4.725436883745715e-05, term2 = 0.0037248563021421432\n",
      "INFO:root:U_1-Qu_upper=0.01, U_2-Qv_upper=0.13595802388570763\n",
      "INFO:root:eta=0.6369661904524642, l=0.6352932910052581, r=0.6584897352652592\n",
      "INFO:root:Iter 42: Q = 0.002144210273399949, term1 = 4.334564073360525e-05, term2 = 0.0033415816724300385\n",
      "INFO:root:U_1-Qu_upper=0.01, U_2-Qv_upper=0.1395180920012859\n",
      "INFO:root:eta=0.636844704880965, l=0.6352932910052581, r=0.6573299130522592\n",
      "INFO:root:Iter 43: Q = 0.001911274390295148, term1 = 3.820498022832908e-05, term2 = 0.0029793763533234596\n",
      "INFO:root:U_1-Qu_upper=0.01, U_2-Qv_upper=0.1432999089112176\n",
      "INFO:root:eta=0.63673077535887, l=0.6352932910052581, r=0.6562280819499091\n",
      "INFO:root:Iter 44: Q = 0.001700016320683062, term1 = 3.381912756594829e-05, term2 = 0.002650619251653552\n",
      "INFO:root:U_1-Qu_upper=0.01, U_2-Qv_upper=0.14592311339301814\n",
      "INFO:root:eta=0.6366359265189476, l=0.6352932910052581, r=0.6551813424026766\n",
      "INFO:root:Iter 45: Q = 0.0015238216146826744, term1 = 3.035773625015281e-05, term2 = 0.0023762257769703865\n",
      "INFO:root:U_1-Qu_upper=0.01, U_2-Qv_upper=0.1490729991960188\n",
      "INFO:root:eta=0.6365435378414865, l=0.6352932910052581, r=0.6541869398328056\n",
      "INFO:root:Iter 46: Q = 0.0013547447742894292, term1 = 2.6891293600783683e-05, term2 = 0.002112928545102477\n",
      "INFO:root:U_1-Qu_upper=0.01, U_2-Qv_upper=0.15206577221318712\n",
      "INFO:root:eta=0.6364590923073797, l=0.6352932910052581, r=0.6532422573914283\n",
      "INFO:root:Iter 47: Q = 0.0012093521654605865, term1 = 2.3664133550482802e-05, term2 = 0.0018866086611524224\n",
      "INFO:root:U_1-Qu_upper=0.01, U_2-Qv_upper=0.1546717105324583\n",
      "INFO:root:eta=0.6363832758197798, l=0.6352932910052581, r=0.6523448090721198\n",
      "INFO:root:Iter 48: Q = 0.001080270274542272, term1 = 2.1317298887879588e-05, term2 = 0.0016853349516168237\n",
      "INFO:root:U_1-Qu_upper=0.01, U_2-Qv_upper=0.15688666737237136\n",
      "INFO:root:eta=0.6363150333850023, l=0.6352932910052581, r=0.6514922331687767\n",
      "INFO:root:Iter 49: Q = 0.0009686163975857198, term1 = 1.918569796544034e-05, term2 = 0.0015112621476873755\n",
      "INFO:root:U_1-Qu_upper=0.01, U_2-Qv_upper=0.15924461430594183\n",
      "INFO:root:eta=0.6362504229193192, l=0.6352932910052581, r=0.6506822860606007\n",
      "INFO:root:Iter 50: Q = 0.0008641123422421515, term1 = 1.729682117002085e-05, term2 = 0.0013482436770573258\n",
      "INFO:root:U_1-Qu_upper=0.01, U_2-Qv_upper=0.16162606795862222\n",
      "INFO:root:eta=0.6361899493764709, l=0.6352932910052581, r=0.6499128363078336\n",
      "INFO:root:Iter 51: Q = 0.0007679653936065733, term1 = 1.5003957742010243e-05, term2 = 0.0011985520832240582\n",
      "INFO:root:U_1-Qu_upper=0.01, U_2-Qv_upper=0.16353784784096984\n",
      "INFO:root:eta=0.6361357323219197, l=0.6352932910052581, r=0.6491818590427048\n",
      "INFO:root:Iter 52: Q = 0.0006890494842082262, term1 = 1.3774471881333739e-05, term2 = 0.0010753010865300894\n",
      "INFO:root:U_1-Qu_upper=0.01, U_2-Qv_upper=0.16595314398416672\n",
      "INFO:root:eta=0.6360826243313337, l=0.6352932910052581, r=0.6484874306408325\n",
      "INFO:root:Iter 53: Q = 0.000612095755059272, term1 = 1.1952415661653504e-05, term2 = 0.0009554513962939382\n",
      "INFO:root:U_1-Qu_upper=0.01, U_2-Qv_upper=0.1679590440091302\n",
      "INFO:root:eta=0.6360347053969255, l=0.6352932910052581, r=0.6478277236590537\n",
      "INFO:root:Iter 54: Q = 0.0005468619056046009, term1 = 1.0754041795735247e-05, term2 = 0.0008536448585800827\n",
      "INFO:root:U_1-Qu_upper=0.01, U_2-Qv_upper=0.16929138162421206\n",
      "INFO:root:eta=0.6359924006077524, l=0.6352932910052581, r=0.647201002026364\n",
      "INFO:root:Iter 55: Q = 0.0004901638021692634, term1 = 9.67403957474744e-06, term2 = 0.0007651700871065259\n",
      "INFO:root:U_1-Qu_upper=0.01, U_2-Qv_upper=0.17119443808866575\n",
      "INFO:root:eta=0.635950469622147, l=0.6352932910052581, r=0.6466056164753087\n",
      "INFO:root:Iter 56: Q = 0.0004374821437522769, term1 = 8.727738531888463e-06, term2 = 0.0006829224294051528\n",
      "INFO:root:U_1-Qu_upper=0.01, U_2-Qv_upper=0.1729397169853583\n",
      "INFO:root:eta=0.635911654565477, l=0.6352932910052581, r=0.6460400002018062\n",
      "INFO:root:Iter 57: Q = 0.0003888576466124505, term1 = 7.572387403342873e-06, term2 = 0.0006071608513593674\n",
      "INFO:root:U_1-Qu_upper=0.01, U_2-Qv_upper=0.17423803159699688\n",
      "INFO:root:eta=0.6358765966942841, l=0.6352932910052581, r=0.6455026647419788\n",
      "INFO:root:Iter 58: Q = 0.000347422988852486, term1 = 6.8171257225912996e-06, term2 = 0.0005424648988991976\n",
      "INFO:root:U_1-Qu_upper=0.01, U_2-Qv_upper=0.1754205039834112\n",
      "INFO:root:eta=0.6358438975194997, l=0.6352932910052581, r=0.6449921960551428\n",
      "INFO:root:Iter 59: Q = 0.00031151913572102785, term1 = 6.134482646302786e-06, term2 = 0.00048641691682860255\n",
      "INFO:root:U_1-Qu_upper=0.01, U_2-Qv_upper=0.17695997340414843\n",
      "INFO:root:eta=0.6358120600697422, l=0.6352932910052581, r=0.6445072508026486\n",
      "INFO:root:Iter 60: Q = 0.0002778502821456641, term1 = 5.524912921828218e-06, term2 = 0.00043383604497648776\n",
      "INFO:root:U_1-Qu_upper=0.01, U_2-Qv_upper=0.1784310229158279\n",
      "INFO:root:eta=0.6357822741702811, l=0.6352932910052581, r=0.6440465528127791\n",
      "INFO:root:Iter 61: Q = 0.00024703616509214044, term1 = 4.802763669431442e-06, term2 = 0.00038580328691750765\n",
      "INFO:root:U_1-Qu_upper=0.01, U_2-Qv_upper=0.17940482561921636\n",
      "INFO:root:eta=0.6357554366649003, l=0.6352932910052581, r=0.643608889722403\n",
      "INFO:root:Iter 62: Q = 0.00022164393158163875, term1 = 4.410216661199229e-06, term2 = 0.00034610406146384776\n",
      "INFO:root:U_1-Qu_upper=0.01, U_2-Qv_upper=0.18048044215679215\n",
      "INFO:root:eta=0.6357298501933295, l=0.6352932910052581, r=0.6431931097865458\n",
      "INFO:root:Iter 63: Q = 0.00019769724167417735, term1 = 3.890526386385318e-06, term2 = 0.0003087475779466331\n",
      "INFO:root:U_1-Qu_upper=0.01, U_2-Qv_upper=0.1816594232006763\n",
      "INFO:root:eta=0.6357054710405187, l=0.6352932910052581, r=0.6427981188474814\n",
      "INFO:root:Iter 64: Q = 0.00017642260354477912, term1 = 3.502350864437176e-06, term2 = 0.000275515514658764\n",
      "INFO:root:U_1-Qu_upper=0.01, U_2-Qv_upper=0.18271962500685854\n",
      "INFO:root:eta=0.635682707902575, l=0.6352932910052581, r=0.6424228774553702\n",
      "INFO:root:Iter 65: Q = 0.0001574875059304759, term1 = 3.1043771286931587e-06, term2 = 0.0002459663082845509\n",
      "INFO:root:U_1-Qu_upper=0.01, U_2-Qv_upper=0.18370409437820057\n",
      "INFO:root:eta=0.6356613568674175, l=0.6352932910052581, r=0.6420663981328646\n",
      "INFO:root:Iter 66: Q = 0.0001400495966663584, term1 = 2.7556600343814353e-06, term2 = 0.00021874163940083236\n",
      "INFO:root:U_1-Qu_upper=0.01, U_2-Qv_upper=0.1846304265056695\n",
      "INFO:root:eta=0.6356412893757702, l=0.6352932910052581, r=0.6417277427764843\n",
      "INFO:root:Iter 67: Q = 0.00012504450569394976, term1 = 2.4250446131190984e-06, term2 = 0.00019533172599039972\n",
      "INFO:root:U_1-Qu_upper=0.01, U_2-Qv_upper=0.1854480877483169\n",
      "INFO:root:eta=0.6356225063915715, l=0.6352932910052581, r=0.6414060201879229\n",
      "INFO:root:Iter 68: Q = 0.00011171191727044061, term1 = 2.187650125051732e-06, term2 = 0.00017449789447709918\n",
      "INFO:root:U_1-Qu_upper=0.01, U_2-Qv_upper=0.18617783610563343\n",
      "INFO:root:eta=0.6356048822279982, l=0.6352932910052581, r=0.6411003837287896\n",
      "INFO:root:Iter 69: Q = 0.0001001704586087726, term1 = 1.9693750346050365e-06, term2 = 0.0001564695849083364\n",
      "INFO:root:U_1-Qu_upper=0.01, U_2-Qv_upper=0.18693019094182836\n",
      "INFO:root:eta=0.6355881717797985, l=0.6352932910052581, r=0.6408100290926131\n",
      "INFO:root:Iter 70: Q = 8.940927364164963e-05, term1 = 1.7775182641344145e-06, term2 = 0.00013965257676318288\n",
      "INFO:root:U_1-Qu_upper=0.01, U_2-Qv_upper=0.18775098379512162\n",
      "INFO:root:eta=0.6355722649947413, l=0.6352932910052581, r=0.6405341921882454\n",
      "INFO:root:Iter 71: Q = 7.945040124468505e-05, term1 = 1.542554173283861e-06, term2 = 0.0001241216086782515\n",
      "INFO:root:U_1-Qu_upper=0.01, U_2-Qv_upper=0.18836302813779462\n",
      "INFO:root:eta=0.6355574985661221, l=0.6352932910052581, r=0.640272147129096\n",
      "INFO:root:Iter 72: Q = 7.128428114810959e-05, term1 = 1.4171520206218702e-06, term2 = 0.00011134762462461367\n",
      "INFO:root:U_1-Qu_upper=0.01, U_2-Qv_upper=0.1890191138768552\n",
      "INFO:root:eta=0.6355434607516132, l=0.6352932910052581, r=0.640023204322904\n",
      "INFO:root:Iter 73: Q = 6.334180216072127e-05, term1 = 1.2299924492253922e-06, term2 = 9.896022675093263e-05\n",
      "INFO:root:U_1-Qu_upper=0.01, U_2-Qv_upper=0.1896178738851856\n",
      "INFO:root:eta=0.6355302393919725, l=0.6352932910052581, r=0.6397867086570217\n",
      "INFO:root:Iter 74: Q = 5.659493399434723e-05, term1 = 1.1076222108385991e-06, term2 = 8.841630915412679e-05\n",
      "INFO:root:U_1-Qu_upper=0.01, U_2-Qv_upper=0.1901550683208117\n",
      "INFO:root:eta=0.6355177878261211, l=0.6352932910052581, r=0.6395620377744335\n",
      "INFO:root:Iter 75: Q = 5.052821143181063e-05, term1 = 9.77118702394364e-07, term2 = 7.894675945863128e-05\n",
      "INFO:root:U_1-Qu_upper=0.01, U_2-Qv_upper=0.19067437971052362\n",
      "INFO:root:eta=0.6355060110732276, l=0.6352932910052581, r=0.6393486004359747\n",
      "INFO:root:Iter 76: Q = 4.534541585599072e-05, term1 = 8.99813699106744e-07, term2 = 7.083715172484517e-05\n",
      "INFO:root:U_1-Qu_upper=0.01, U_2-Qv_upper=0.19117404324107135\n",
      "INFO:root:eta=0.6354948731460444, l=0.6352932910052581, r=0.6391458349644389\n",
      "INFO:root:Iter 77: Q = 4.044697561766952e-05, term1 = 7.943993409753602e-07, term2 = 6.319077510852367e-05\n",
      "INFO:root:U_1-Qu_upper=0.01, U_2-Qv_upper=0.1917769071198744\n",
      "INFO:root:eta=0.6354842218711422, l=0.6352932910052581, r=0.6389532077664799\n",
      "INFO:root:Iter 78: Q = 3.596198803279549e-05, term1 = 7.050312547107751e-07, term2 = 5.618549039354548e-05\n",
      "INFO:root:U_1-Qu_upper=0.01, U_2-Qv_upper=0.19222845980296027\n",
      "INFO:root:eta=0.6354742703177044, l=0.6352932910052581, r=0.6387702119284188\n",
      "INFO:root:Iter 79: Q = 3.2110307074617594e-05, term1 = 6.210472065504291e-07, term2 = 5.017342118662782e-05\n",
      "INFO:root:U_1-Qu_upper=0.01, U_2-Qv_upper=0.19252736574783655\n",
      "INFO:root:eta=0.6354649676036438, l=0.6352932910052581, r=0.6385963658822608\n",
      "INFO:root:Iter 80: Q = 2.882767512346618e-05, term1 = 5.717291742257657e-07, term2 = 4.503672244027257e-05\n",
      "INFO:root:U_1-Qu_upper=0.01, U_2-Qv_upper=0.19297814717635883\n",
      "INFO:root:eta=0.6354560215712305, l=0.6352932910052581, r=0.6384312121384106\n",
      "INFO:root:Iter 81: Q = 2.5690933398436755e-05, term1 = 5.036738457420142e-07, term2 = 4.014018486486748e-05\n",
      "INFO:root:U_1-Qu_upper=0.01, U_2-Qv_upper=0.1934198243123541\n",
      "INFO:root:eta=0.6354475493792273, l=0.6352932910052581, r=0.638274316081753\n",
      "INFO:root:Iter 82: Q = 2.28533008339582e-05, term1 = 4.475381558677327e-07, term2 = 3.570735134417191e-05\n",
      "INFO:root:U_1-Qu_upper=0.01, U_2-Qv_upper=0.19376757549011242\n",
      "INFO:root:eta=0.635439586365024, l=0.6352932910052581, r=0.6381252648279283\n",
      "INFO:root:Iter 83: Q = 2.0405930627021007e-05, term1 = 3.943147532936564e-07, term2 = 3.1886869692243636e-05\n",
      "INFO:root:U_1-Qu_upper=0.01, U_2-Qv_upper=0.19407254935625157\n",
      "INFO:root:eta=0.6354320638990943, l=0.6352932910052581, r=0.6379836661367948\n",
      "INFO:root:Iter 84: Q = 1.8326154531678185e-05, term1 = 3.631601828146813e-07, term2 = 2.8632104658754542e-05\n",
      "INFO:root:U_1-Qu_upper=0.01, U_2-Qv_upper=0.19438473052639632\n",
      "INFO:root:eta=0.6354249238882337, l=0.6352932910052581, r=0.6378491473802179\n",
      "INFO:root:Iter 85: Q = 1.6340678484993987e-05, term1 = 3.2085100087897445e-07, term2 = 2.5532055587973446e-05\n",
      "INFO:root:U_1-Qu_upper=0.01, U_2-Qv_upper=0.1947206584828231\n",
      "INFO:root:eta=0.6354181370463905, l=0.6352932910052581, r=0.6377213545614699\n",
      "INFO:root:Iter 86: Q = 1.4587280929845292e-05, term1 = 2.905118776652671e-07, term2 = 2.279029467899818e-05\n",
      "INFO:root:U_1-Qu_upper=0.01, U_2-Qv_upper=0.1950344674590925\n",
      "INFO:root:eta=0.6354117132191571, l=0.6352932910052581, r=0.6375999513836593\n",
      "INFO:root:Iter 87: Q = 1.296013670071261e-05, term1 = 2.516046322398324e-07, term2 = 2.025207140832208e-05\n",
      "INFO:root:U_1-Qu_upper=0.01, U_2-Qv_upper=0.19531589364758148\n",
      "INFO:root:eta=0.6354056379033682, l=0.6352932910052581, r=0.6374846183647392\n",
      "INFO:root:Iter 88: Q = 1.1580648788367398e-05, term1 = 2.2649844311217748e-07, term2 = 1.809563400456682e-05\n",
      "INFO:root:U_1-Qu_upper=0.01, U_2-Qv_upper=0.19552706955776145\n",
      "INFO:root:eta=0.6353999108954845, l=0.6352932910052581, r=0.6373750519967651\n",
      "INFO:root:Iter 89: Q = 1.0339625987398904e-05, term1 = 1.997871521552952e-07, term2 = 1.6157986465259455e-05\n",
      "INFO:root:U_1-Qu_upper=0.01, U_2-Qv_upper=0.19583106208964882\n",
      "INFO:root:eta=0.6353944303070901, l=0.6352932910052581, r=0.6372709639471897\n",
      "INFO:root:Iter 90: Q = 9.238073289452586e-06, term1 = 1.805319413961115e-07, term2 = 1.443552173441276e-05\n",
      "INFO:root:U_1-Qu_upper=0.01, U_2-Qv_upper=0.19599212967059734\n",
      "INFO:root:eta=0.6353892982141304, l=0.6352932910052581, r=0.6371720803000932\n",
      "INFO:root:Iter 91: Q = 8.291784979519434e-06, term1 = 1.6256076662557462e-07, term2 = 1.29566433315631e-05\n",
      "INFO:root:Converged at iteration 91\n"
     ]
    }
   ],
   "source": [
    "explainer.optimize(U_1=1e-2, U_2=0.2, l=0.5, r=0.7, max_iter=100, tau=1e3)"
   ]
  },
  {
   "cell_type": "code",
   "execution_count": 37,
   "metadata": {},
   "outputs": [],
   "source": [
    "# import os \n",
    "# import pickle \n",
    "# dump_data_path = './data/baseline/'\n",
    "# with open(os.path.join(dump_data_path, f\"explainer_{model.name}_heloc.pkl\"), \"wb\") as file:\n",
    "#     pickle.dump(explainer, file)"
   ]
  },
  {
   "cell_type": "code",
   "execution_count": 38,
   "metadata": {},
   "outputs": [],
   "source": [
    "X_train = pd.DataFrame(X_train, columns=X.columns)"
   ]
  },
  {
   "cell_type": "code",
   "execution_count": 39,
   "metadata": {},
   "outputs": [],
   "source": [
    "counterfactual_X_dce = pd.DataFrame(explainer.best_X.detach().numpy(), columns=df_explain.columns)\n",
    "\n",
    "dtype_dict = X_train.dtypes.apply(lambda x: x.name).to_dict()\n",
    "for k, v in dtype_dict.items():\n",
    "    if k in counterfactual_X_dce.columns:\n",
    "        if v[:3] == 'int':\n",
    "            counterfactual_X_dce[k] = counterfactual_X_dce[k].round().astype(v)\n",
    "        else:\n",
    "            counterfactual_X_dce[k] = counterfactual_X_dce[k].astype(v)\n",
    "\n",
    "counterfactual_y_prob_dce = pd.DataFrame(explainer.y.detach().numpy(),columns=[target_name], index=counterfactual_X_dce.index)\n",
    "counterfactual_y_dce = np.int64((counterfactual_y_prob_dce.values > 0.5).reshape(-1))"
   ]
  },
  {
   "cell_type": "code",
   "execution_count": 40,
   "metadata": {},
   "outputs": [
    {
     "name": "stdout",
     "output_type": "stream",
     "text": [
      "Coverage (DCE): 0.9807692307692307\n"
     ]
    }
   ],
   "source": [
    "print('Coverage (DCE):', counterfactual_y_dce.sum()/len(counterfactual_y_dce))"
   ]
  },
  {
   "cell_type": "markdown",
   "metadata": {},
   "source": [
    "## Distance Evaluation"
   ]
  },
  {
   "cell_type": "code",
   "execution_count": 41,
   "metadata": {},
   "outputs": [],
   "source": [
    "from explainers.distances import SlicedWassersteinDivergence, WassersteinDivergence\n",
    "from scipy.stats import gaussian_kde, entropy\n",
    "from numpy.linalg import LinAlgError\n",
    "\n",
    "def compute_distance(X_s, X_t):\n",
    "    if type(X_s) == pd.DataFrame:\n",
    "        X_s = torch.FloatTensor(X_s.values)\n",
    "    if type(X_t) == pd.DataFrame:\n",
    "        X_t = torch.FloatTensor(X_t.values)\n",
    "\n",
    "    if type(X_s) == np.ndarray:\n",
    "        X_s = torch.FloatTensor(X_s)\n",
    "    if type(X_t) == np.ndarray:\n",
    "        X_t = torch.FloatTensor(X_t)\n",
    "\n",
    "    if X_s.ndim == 1:\n",
    "        wd = WassersteinDivergence()\n",
    "        distance, _ = wd.distance(X_s, X_t, delta=0.1)\n",
    "    else:\n",
    "        swd = SlicedWassersteinDivergence(\n",
    "                dim=X_s.shape[1], n_proj=5000\n",
    "        )\n",
    "        distance, _ = swd.distance(X_s, X_t, delta=0.1)\n",
    "    return distance.item()\n",
    "\n",
    "\n",
    "def compute_kl_divergence(X_s, X_t):\n",
    "    kl_divergences = []\n",
    "    for i in range(X_s.shape[1]):  # Iterate over columns (features)\n",
    "        try:\n",
    "            # Estimate probability distributions using KDE\n",
    "            kde_s = gaussian_kde(X_s[:, i])\n",
    "            kde_t = gaussian_kde(X_t[:, i])\n",
    "\n",
    "            # Evaluate the densities on a linear space of the same range\n",
    "            x_min = min(X_s[:, i].min(), X_t[:, i].min())\n",
    "            x_max = max(X_s[:, i].max(), X_t[:, i].max())\n",
    "            x = np.linspace(x_min, x_max, 1000)\n",
    "\n",
    "            # Compute the KL divergence (entropy)\n",
    "            kl_div = entropy(kde_s(x), kde_t(x))\n",
    "        except LinAlgError:\n",
    "            # Catch the singular matrix error and set the divergence to infinity\n",
    "            kl_div = np.inf\n",
    "\n",
    "        kl_divergences.append(kl_div)\n",
    "\n",
    "    # Aggregate the KL divergences\n",
    "    total_kl_divergence = np.sum(kl_divergences)  # Or use np.mean for average\n",
    "    return total_kl_divergence\n",
    "\n",
    "def gaussian_kernel(x, y, sigma=1.0):\n",
    "    \"\"\"Compute the Gaussian kernel between x and y\"\"\"\n",
    "    return np.exp(-np.linalg.norm(x - y) ** 2 / (2 * sigma ** 2))\n",
    "\n",
    "def mmd(X_s, X_t, kernel=gaussian_kernel):\n",
    "    \"\"\"Compute the Maximum Mean Discrepancy (MMD) between two samples X_s and X_t\"\"\"\n",
    "    n = X_s.shape[0]\n",
    "    m = X_t.shape[0]\n",
    "\n",
    "    # Calculate the kernel values between all points in the first sample\n",
    "    XX = np.sum([kernel(X_s[i], X_s[j]) for i in range(n) for j in range(n)])\n",
    "    \n",
    "    # Calculate the kernel values between all points in the second sample\n",
    "    YY = np.sum([kernel(X_t[i], X_t[j]) for i in range(m) for j in range(m)])\n",
    "    \n",
    "    # Calculate the kernel values between all points across the two samples\n",
    "    XY = np.sum([kernel(X_s[i], X_t[j]) for i in range(n) for j in range(m)])\n",
    "\n",
    "    return XX / (n ** 2) + YY / (m ** 2) - 2 * XY / (n * m)\n"
   ]
  },
  {
   "cell_type": "code",
   "execution_count": 42,
   "metadata": {},
   "outputs": [],
   "source": [
    "cov_ares = counterfactual_y_ares.sum()/len(counterfactual_y_ares)\n",
    "cov_global_ce = counterfactual_y_global_ce.sum()/len(counterfactual_y_global_ce)\n",
    "cov_dice = counterfactual_y_dice.sum()/len(counterfactual_y_dice)\n",
    "cov_dce = counterfactual_y_dce.sum()/len(counterfactual_y_dce)"
   ]
  },
  {
   "cell_type": "code",
   "execution_count": 43,
   "metadata": {},
   "outputs": [
    {
     "name": "stdout",
     "output_type": "stream",
     "text": [
      "Coverage (AReS): 0.057692307692307696\n",
      "Coverage (Globe CE): 1.0\n",
      "Coverage (DiCE): 1.0\n",
      "Coverage (DCE): 0.9807692307692307\n"
     ]
    }
   ],
   "source": [
    "print('Coverage (AReS):', cov_ares)\n",
    "print('Coverage (Globe CE):', cov_global_ce)\n",
    "print('Coverage (DiCE):', cov_dice)\n",
    "print('Coverage (DCE):', cov_dce)"
   ]
  },
  {
   "cell_type": "code",
   "execution_count": 231,
   "metadata": {},
   "outputs": [
    {
     "name": "stdout",
     "output_type": "stream",
     "text": [
      "X Distance (AReS): 0.0007919166819192469\n",
      "X Distance (Globe CE): 2.898717164993286\n",
      "X Distance (DiCE): 0.32772472500801086\n",
      "X Distance (DCE): 0.565385103225708\n"
     ]
    }
   ],
   "source": [
    "ot_dist_ares = compute_distance(X_s=counterfactual_X_ares, X_t=factual_X)\n",
    "ot_dist_global_ce = compute_distance(X_s=counterfactual_X_global_ce, X_t=factual_X)\n",
    "ot_dist_dce = compute_distance(X_s=counterfactual_X_dce, X_t=factual_X)\n",
    "ot_dist_dice = compute_distance(X_s=counterfactual_X_dice.dropna(), X_t=factual_X)\n",
    "\n",
    "\n",
    "print('X Distance (AReS):', ot_dist_ares)\n",
    "print('X Distance (Globe CE):', ot_dist_global_ce)\n",
    "print('X Distance (DiCE):', ot_dist_dice)\n",
    "print('X Distance (DCE):', ot_dist_dce)"
   ]
  },
  {
   "cell_type": "code",
   "execution_count": 42,
   "metadata": {},
   "outputs": [
    {
     "name": "stdout",
     "output_type": "stream",
     "text": [
      "X MMD (AReS): 0.0011574092231764685\n",
      "X MMD (Globe CE): 0.03933885537447012\n",
      "X MMD (DCE): 0.03923609754898042\n",
      "X MMD (DiCE): 0.14824886318682576\n"
     ]
    }
   ],
   "source": [
    "print('X MMD (AReS):', mmd(X_s=counterfactual_X_ares.values, X_t=factual_X.values))\n",
    "print('X MMD (Globe CE):', mmd(X_s=counterfactual_X_global_ce.values, X_t=factual_X.values))\n",
    "print('X MMD (DiCE):', mmd(X_s=counterfactual_X_dice.dropna().values, X_t=factual_X.values))\n",
    "print('X MMD (DCE):', mmd(X_s=counterfactual_X_dce.values, X_t=factual_X.values))"
   ]
  },
  {
   "cell_type": "code",
   "execution_count": 43,
   "metadata": {},
   "outputs": [
    {
     "name": "stdout",
     "output_type": "stream",
     "text": [
      "X KL-Divergence (AReS): 0.014073493819730405\n",
      "X KL-Divergence (Globe CE): 35.37389103578943\n",
      "X KL-Divergence (DCE): 7.433327112073914\n",
      "X KL-Divergence (DiCE): 14.130513423812747\n"
     ]
    }
   ],
   "source": [
    "print('X KL-Divergence (AReS):', \n",
    "      compute_kl_divergence(X_s=counterfactual_X_ares.values, X_t=factual_X.values))\n",
    "print('X KL-Divergence (Globe CE):', \n",
    "      compute_kl_divergence(X_s=counterfactual_X_global_ce.values, X_t=factual_X.values))\n",
    "print('X KL-Divergence (DiCE):', \n",
    "      compute_kl_divergence(X_s=counterfactual_X_dice.dropna().values, X_t=factual_X.values))\n",
    "print('X KL-Divergence (DCE):', \n",
    "      compute_kl_divergence(X_s=counterfactual_X_dce.values, X_t=factual_X.values))"
   ]
  },
  {
   "cell_type": "code",
   "execution_count": 44,
   "metadata": {},
   "outputs": [],
   "source": [
    "ares_diff_pct = []\n",
    "globe_ce_diff_pct = []\n",
    "dice_diff_pct = []\n",
    "dce_diff_pct = []\n",
    "for column in df_explain.columns:\n",
    "    ares_pct = (counterfactual_X_ares[column] - factual_X[column]).abs().sum() / (1e-7 + factual_X[column].abs().sum())\n",
    "    globe_ce_pct = (counterfactual_X_global_ce[column] - factual_X[column]).abs().sum() / (1e-7 + factual_X[column].abs().sum())\n",
    "    dice_pct = (counterfactual_X_dice[column] - factual_X[column]).abs().sum() / (1e-7 + factual_X[column].abs().sum())\n",
    "    dce_pct = (counterfactual_X_dce[column] - factual_X[column]).abs().sum() / (1e-7 + factual_X[column].abs().sum())\n",
    "\n",
    "    ares_diff_pct.append({column: ares_pct})\n",
    "    globe_ce_diff_pct.append({column: globe_ce_pct})\n",
    "    dice_diff_pct.append({column: dice_pct})\n",
    "    dce_diff_pct.append({column: dce_pct})"
   ]
  },
  {
   "cell_type": "markdown",
   "metadata": {},
   "source": [
    "## Cost Evaluation"
   ]
  },
  {
   "cell_type": "code",
   "execution_count": 61,
   "metadata": {},
   "outputs": [],
   "source": [
    "def compute_cost(delta, costs_vector):\n",
    "    return np.linalg.norm(delta @ np.diag(costs_vector)) \n",
    "\n",
    "from scipy.stats import ks_2samp\n",
    "\n",
    "def compute_quantile_shift(counterfactul_X, factual_X):\n",
    "    columns = counterfactul_X.columns\n",
    "\n",
    "    ks_statistic_list = []\n",
    "    p_value_list = []\n",
    "\n",
    "    for column in columns:\n",
    "        ks_statistic, p_value = ks_2samp(counterfactul_X[column].values, factual_X[column].values)\n",
    "\n",
    "    ks_statistic_list.append(ks_statistic)\n",
    "    p_value_list.append(p_value)\n",
    "\n",
    "    return np.mean(ks_statistic_list)\n",
    "\n",
    "def compute_percentile_difference(counterfactual_X, factual_X, percentiles):\n",
    "    columns = counterfactual_X.columns\n",
    "    diff_list = []\n",
    "    for percentile in percentiles:\n",
    "        for column in columns:\n",
    "            perc_cf = np.percentile(counterfactual_X[columns].values, percentile)\n",
    "            perc_f = np.percentile(factual_X[columns].values, percentile)\n",
    "\n",
    "            diff_list.append(abs(perc_cf - perc_f)/abs(perc_f) * 100)\n",
    "\n",
    "    return np.mean(diff_list)\n"
   ]
  },
  {
   "cell_type": "code",
   "execution_count": 49,
   "metadata": {},
   "outputs": [],
   "source": [
    "ares_delta = (counterfactual_X_ares - factual_X).values\n",
    "globe_ce_delta = (counterfactual_X_global_ce - factual_X).values\n",
    "dce_delta = (counterfactual_X_dce - factual_X).values\n",
    "# dice_delta = (counterfactual_X_dice - factual_X).values\n",
    "dice_delta = (counterfactual_X_dice.dropna() - factual_X.loc[counterfactual_X_dice.dropna().index]).values"
   ]
  },
  {
   "cell_type": "code",
   "execution_count": 50,
   "metadata": {},
   "outputs": [
    {
     "name": "stdout",
     "output_type": "stream",
     "text": [
      "Cost (AReS): 0.04918030277592983\n",
      "Cost (Globe CE): 3.3016718766059516\n",
      "Cost (DCE): 16.218815535203106\n",
      "Cost (DiCE): 10.540188542549235\n"
     ]
    }
   ],
   "source": [
    "print('Cost (AReS):', compute_cost(ares_delta, costs_vector))\n",
    "print('Cost (Globe CE):', compute_cost(globe_ce_delta, costs_vector))\n",
    "print('Cost (DiCE):', compute_cost(dice_delta, costs_vector))\n",
    "print('Cost (DCE):', compute_cost(dce_delta, costs_vector))"
   ]
  },
  {
   "cell_type": "code",
   "execution_count": 51,
   "metadata": {},
   "outputs": [
    {
     "name": "stdout",
     "output_type": "stream",
     "text": [
      "Percentile Shift Cost (AReS): 0.0\n",
      "Percentile Shift Cost (Globe CE): 41.927988563444856\n",
      "Percentile Shift Cost (DCE): 8.461230964194298\n",
      "Percentile Shift Cost (DiCE): 99.99999967773317\n"
     ]
    }
   ],
   "source": [
    "percentiles = np.arange(0, 15, 0.1)\n",
    "print('Percentile Shift Cost (AReS):', compute_percentile_difference(counterfactual_X_ares, factual_X, percentiles))\n",
    "print('Percentile Shift Cost (Globe CE):', compute_percentile_difference(counterfactual_X_global_ce, factual_X, percentiles))\n",
    "print('Percentile Shift Cost (DiCE):', compute_percentile_difference(counterfactual_X_dice.dropna(), factual_X, percentiles))\n",
    "print('Percentile Shift Cost (DCE):', compute_percentile_difference(counterfactual_X_dce, factual_X, percentiles))"
   ]
  },
  {
   "cell_type": "code",
   "execution_count": 52,
   "metadata": {},
   "outputs": [
    {
     "name": "stdout",
     "output_type": "stream",
     "text": [
      "Percentile Shift Cost (AReS): 1.0023559084409879\n",
      "Percentile Shift Cost (Globe CE): 28.27676078156156\n",
      "Percentile Shift Cost (DCE): 21.64551511445524\n",
      "Percentile Shift Cost (DiCE): 99.99999991422321\n"
     ]
    }
   ],
   "source": [
    "percentiles = np.arange(15, 30, 1)\n",
    "print('Percentile Shift Cost (AReS):', compute_percentile_difference(counterfactual_X_ares, factual_X, percentiles))\n",
    "print('Percentile Shift Cost (Globe CE):', compute_percentile_difference(counterfactual_X_global_ce, factual_X, percentiles))\n",
    "print('Percentile Shift Cost (DiCE):', compute_percentile_difference(counterfactual_X_dice.dropna(), factual_X, percentiles))\n",
    "print('Percentile Shift Cost (DCE):', compute_percentile_difference(counterfactual_X_dce, factual_X, percentiles))"
   ]
  },
  {
   "cell_type": "code",
   "execution_count": 53,
   "metadata": {},
   "outputs": [
    {
     "name": "stdout",
     "output_type": "stream",
     "text": [
      "Percentile Shift Cost (AReS): 5.998870585835797\n",
      "Percentile Shift Cost (Globe CE): 87.70321331916952\n",
      "Percentile Shift Cost (DCE): 185.49393328919382\n",
      "Percentile Shift Cost (DiCE): 95.28490292781994\n"
     ]
    }
   ],
   "source": [
    "percentiles = np.arange(30, 70, 1)\n",
    "print('Percentile Shift Cost (AReS):', compute_percentile_difference(counterfactual_X_ares, factual_X, percentiles))\n",
    "print('Percentile Shift Cost (Globe CE):', compute_percentile_difference(counterfactual_X_global_ce, factual_X, percentiles))\n",
    "print('Percentile Shift Cost (DiCE):', compute_percentile_difference(counterfactual_X_dice.dropna(), factual_X, percentiles))\n",
    "print('Percentile Shift Cost (DCE):', compute_percentile_difference(counterfactual_X_dce, factual_X, percentiles))"
   ]
  },
  {
   "cell_type": "code",
   "execution_count": 54,
   "metadata": {},
   "outputs": [
    {
     "name": "stdout",
     "output_type": "stream",
     "text": [
      "Percentile Shift Cost (AReS): 0.41762901814123937\n",
      "Percentile Shift Cost (Globe CE): 57.28567071710114\n",
      "Percentile Shift Cost (DCE): 36.888984597655295\n",
      "Percentile Shift Cost (DiCE): 4.256976311386257\n"
     ]
    }
   ],
   "source": [
    "percentiles = np.arange(70, 85, 1)\n",
    "print('Percentile Shift Cost (AReS):', compute_percentile_difference(counterfactual_X_ares, factual_X, percentiles))\n",
    "print('Percentile Shift Cost (Globe CE):', compute_percentile_difference(counterfactual_X_global_ce, factual_X, percentiles))\n",
    "print('Percentile Shift Cost (DiCE):', compute_percentile_difference(counterfactual_X_dice.dropna(), factual_X, percentiles))\n",
    "print('Percentile Shift Cost (DCE):', compute_percentile_difference(counterfactual_X_dce, factual_X, percentiles))"
   ]
  },
  {
   "cell_type": "code",
   "execution_count": 55,
   "metadata": {},
   "outputs": [
    {
     "name": "stdout",
     "output_type": "stream",
     "text": [
      "Percentile Shift Cost (AReS): 0.0\n",
      "Percentile Shift Cost (Globe CE): 117.76723871046391\n",
      "Percentile Shift Cost (DCE): 19.548522799975373\n",
      "Percentile Shift Cost (DiCE): 32.39455717425004\n"
     ]
    }
   ],
   "source": [
    "percentiles = np.arange(85, 100, 1)\n",
    "print('Percentile Shift Cost (AReS):', compute_percentile_difference(counterfactual_X_ares, factual_X, percentiles))\n",
    "print('Percentile Shift Cost (Globe CE):', compute_percentile_difference(counterfactual_X_global_ce, factual_X, percentiles))\n",
    "print('Percentile Shift Cost (DiCE):', compute_percentile_difference(counterfactual_X_dice.dropna(), factual_X, percentiles))\n",
    "print('Percentile Shift Cost (DCE):', compute_percentile_difference(counterfactual_X_dce, factual_X, percentiles))"
   ]
  },
  {
   "cell_type": "markdown",
   "metadata": {},
   "source": [
    "## Diversity"
   ]
  },
  {
   "cell_type": "code",
   "execution_count": 44,
   "metadata": {},
   "outputs": [],
   "source": [
    "def compute_diversity(counterfactual_X):\n",
    "    n = len(counterfactual_X)\n",
    "    K = np.zeros((n, n))\n",
    "\n",
    "    # Calculate the kernel matrix K\n",
    "    for i in range(n):\n",
    "        for j in range(n):\n",
    "            # Compute L1 distance between counterfactual examples\n",
    "            dist = np.sum(np.abs(counterfactual_X.iloc[i] - counterfactual_X.iloc[j]))\n",
    "            K[i, j] = 1 / (1 + dist)\n",
    "\n",
    "    # Compute the determinant of the kernel matrix\n",
    "    diversity = np.linalg.det(K)\n",
    "    return diversity"
   ]
  },
  {
   "cell_type": "code",
   "execution_count": 61,
   "metadata": {},
   "outputs": [
    {
     "name": "stdout",
     "output_type": "stream",
     "text": [
      "Diversity (Factual) 0.2394017642970609\n"
     ]
    }
   ],
   "source": [
    "print('Diversity (Factual)', compute_diversity(factual_X))"
   ]
  },
  {
   "cell_type": "code",
   "execution_count": 45,
   "metadata": {},
   "outputs": [
    {
     "name": "stdout",
     "output_type": "stream",
     "text": [
      "Diversity (AReS): 0.23796547974432924\n",
      "Diversity (Globe CE): 0.2394017642970609\n",
      "Diversity (DiCE): 0.0006439136758091803\n",
      "Diversity (DCE): 0.24621287389255206\n"
     ]
    }
   ],
   "source": [
    "print('Diversity (AReS):', compute_diversity(counterfactual_X_ares))\n",
    "print('Diversity (Globe CE):', compute_diversity(counterfactual_X_global_ce))\n",
    "print('Diversity (DiCE):', compute_diversity(counterfactual_X_dice.dropna()))\n",
    "print('Diversity (DCE):', compute_diversity(counterfactual_X_dce))"
   ]
  },
  {
   "cell_type": "code",
   "execution_count": 46,
   "metadata": {},
   "outputs": [],
   "source": [
    "cov_ares = 0.038\n",
    "cov_global_ce = 1\n",
    "cov_dice = 1\n",
    "cov_dce = 1"
   ]
  },
  {
   "cell_type": "code",
   "execution_count": 47,
   "metadata": {},
   "outputs": [],
   "source": [
    "ot_dist_ares = 0.001\n",
    "ot_dist_global_ce = 13.72\n",
    "ot_dist_dice = 0.514\n",
    "ot_dist_dce = 0.342"
   ]
  },
  {
   "cell_type": "code",
   "execution_count": 48,
   "metadata": {},
   "outputs": [
    {
     "name": "stdout",
     "output_type": "stream",
     "text": [
      "Effective Diversity (AReS): 9.04268823028451\n",
      "Effective Diversity (Globe CE): 0.017449108184916975\n",
      "Effective Diversity (DiCE): 0.0012527503420412067\n",
      "Effective Diversity (DCE): 0.719920683896351\n"
     ]
    }
   ],
   "source": [
    "print('Effective Diversity (AReS):', compute_diversity(counterfactual_X_ares)/ot_dist_ares * cov_ares)\n",
    "print('Effective Diversity (Globe CE):', compute_diversity(counterfactual_X_global_ce)/ot_dist_global_ce * cov_global_ce)\n",
    "print('Effective Diversity (DiCE):', compute_diversity(counterfactual_X_dice)/ot_dist_dice * cov_dice)\n",
    "print('Effective Diversity (DCE):', compute_diversity(counterfactual_X_dce)/ot_dist_dce * cov_dce)\n"
   ]
  },
  {
   "cell_type": "code",
   "execution_count": null,
   "metadata": {},
   "outputs": [],
   "source": []
  }
 ],
 "metadata": {
  "kernelspec": {
   "display_name": "base",
   "language": "python",
   "name": "python3"
  },
  "language_info": {
   "codemirror_mode": {
    "name": "ipython",
    "version": 3
   },
   "file_extension": ".py",
   "mimetype": "text/x-python",
   "name": "python",
   "nbconvert_exporter": "python",
   "pygments_lexer": "ipython3",
   "version": "3.9.13"
  }
 },
 "nbformat": 4,
 "nbformat_minor": 2
}
