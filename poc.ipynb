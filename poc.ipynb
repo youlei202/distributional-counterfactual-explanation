{
 "cells": [
  {
   "cell_type": "markdown",
   "metadata": {},
   "source": [
    "# Distributional Counterfactual Explanation"
   ]
  },
  {
   "cell_type": "code",
   "execution_count": 1,
   "metadata": {},
   "outputs": [
    {
     "name": "stderr",
     "output_type": "stream",
     "text": [
      "c:\\Users\\leiyo\\Anaconda3\\lib\\site-packages\\scipy\\__init__.py:155: UserWarning: A NumPy version >=1.18.5 and <1.25.0 is required for this version of SciPy (detected version 1.26.2\n",
      "  warnings.warn(f\"A NumPy version >={np_minversion} and <{np_maxversion}\"\n"
     ]
    }
   ],
   "source": [
    "import pandas as pd\n",
    "import numpy as np\n",
    "import seaborn as sns\n",
    "\n",
    "import torch.optim as optim\n",
    "from sklearn.model_selection import train_test_split\n",
    "import torch\n",
    "import torch.nn as nn\n",
    "\n",
    "from sklearn.preprocessing import LabelEncoder\n",
    "\n",
    "from models.mlp import BlackBoxModel\n",
    "\n",
    "pd.set_option('display.max_columns', None)\n",
    "\n",
    "%reload_ext autoreload\n",
    "%autoreload 2"
   ]
  },
  {
   "cell_type": "markdown",
   "metadata": {},
   "source": [
    "## Read and Process Data"
   ]
  },
  {
   "cell_type": "code",
   "execution_count": 2,
   "metadata": {},
   "outputs": [],
   "source": [
    "df_ = pd.read_csv('data/hotel_booking/hotel_bookings.csv')\n",
    "df = df_.copy()\n",
    "target_name = 'is_canceled'\n",
    "target = df[target_name]"
   ]
  },
  {
   "cell_type": "code",
   "execution_count": 4,
   "metadata": {},
   "outputs": [
    {
     "data": {
      "text/html": [
       "<div>\n",
       "<style scoped>\n",
       "    .dataframe tbody tr th:only-of-type {\n",
       "        vertical-align: middle;\n",
       "    }\n",
       "\n",
       "    .dataframe tbody tr th {\n",
       "        vertical-align: top;\n",
       "    }\n",
       "\n",
       "    .dataframe thead th {\n",
       "        text-align: right;\n",
       "    }\n",
       "</style>\n",
       "<table border=\"1\" class=\"dataframe\">\n",
       "  <thead>\n",
       "    <tr style=\"text-align: right;\">\n",
       "      <th></th>\n",
       "      <th>hotel</th>\n",
       "      <th>is_canceled</th>\n",
       "      <th>lead_time</th>\n",
       "      <th>arrival_date_year</th>\n",
       "      <th>arrival_date_month</th>\n",
       "      <th>arrival_date_week_number</th>\n",
       "      <th>arrival_date_day_of_month</th>\n",
       "      <th>stays_in_weekend_nights</th>\n",
       "      <th>stays_in_week_nights</th>\n",
       "      <th>adults</th>\n",
       "      <th>children</th>\n",
       "      <th>babies</th>\n",
       "      <th>meal</th>\n",
       "      <th>country</th>\n",
       "      <th>market_segment</th>\n",
       "      <th>distribution_channel</th>\n",
       "      <th>is_repeated_guest</th>\n",
       "      <th>previous_cancellations</th>\n",
       "      <th>previous_bookings_not_canceled</th>\n",
       "      <th>reserved_room_type</th>\n",
       "      <th>assigned_room_type</th>\n",
       "      <th>booking_changes</th>\n",
       "      <th>deposit_type</th>\n",
       "      <th>agent</th>\n",
       "      <th>company</th>\n",
       "      <th>days_in_waiting_list</th>\n",
       "      <th>customer_type</th>\n",
       "      <th>adr</th>\n",
       "      <th>required_car_parking_spaces</th>\n",
       "      <th>total_of_special_requests</th>\n",
       "      <th>reservation_status</th>\n",
       "      <th>reservation_status_date</th>\n",
       "    </tr>\n",
       "  </thead>\n",
       "  <tbody>\n",
       "    <tr>\n",
       "      <th>0</th>\n",
       "      <td>1</td>\n",
       "      <td>0</td>\n",
       "      <td>342</td>\n",
       "      <td>2015</td>\n",
       "      <td>5</td>\n",
       "      <td>27</td>\n",
       "      <td>1</td>\n",
       "      <td>0</td>\n",
       "      <td>0</td>\n",
       "      <td>2</td>\n",
       "      <td>0.0</td>\n",
       "      <td>0</td>\n",
       "      <td>0</td>\n",
       "      <td>135</td>\n",
       "      <td>3</td>\n",
       "      <td>1</td>\n",
       "      <td>0</td>\n",
       "      <td>0</td>\n",
       "      <td>0</td>\n",
       "      <td>2</td>\n",
       "      <td>2</td>\n",
       "      <td>3</td>\n",
       "      <td>0</td>\n",
       "      <td>14.0</td>\n",
       "      <td>179.0</td>\n",
       "      <td>0</td>\n",
       "      <td>2</td>\n",
       "      <td>0.0</td>\n",
       "      <td>0</td>\n",
       "      <td>0</td>\n",
       "      <td>1</td>\n",
       "      <td>15</td>\n",
       "    </tr>\n",
       "    <tr>\n",
       "      <th>1</th>\n",
       "      <td>1</td>\n",
       "      <td>0</td>\n",
       "      <td>737</td>\n",
       "      <td>2015</td>\n",
       "      <td>5</td>\n",
       "      <td>27</td>\n",
       "      <td>1</td>\n",
       "      <td>0</td>\n",
       "      <td>0</td>\n",
       "      <td>2</td>\n",
       "      <td>0.0</td>\n",
       "      <td>0</td>\n",
       "      <td>0</td>\n",
       "      <td>135</td>\n",
       "      <td>3</td>\n",
       "      <td>1</td>\n",
       "      <td>0</td>\n",
       "      <td>0</td>\n",
       "      <td>0</td>\n",
       "      <td>2</td>\n",
       "      <td>2</td>\n",
       "      <td>4</td>\n",
       "      <td>0</td>\n",
       "      <td>14.0</td>\n",
       "      <td>179.0</td>\n",
       "      <td>0</td>\n",
       "      <td>2</td>\n",
       "      <td>0.0</td>\n",
       "      <td>0</td>\n",
       "      <td>0</td>\n",
       "      <td>1</td>\n",
       "      <td>15</td>\n",
       "    </tr>\n",
       "    <tr>\n",
       "      <th>2</th>\n",
       "      <td>1</td>\n",
       "      <td>0</td>\n",
       "      <td>7</td>\n",
       "      <td>2015</td>\n",
       "      <td>5</td>\n",
       "      <td>27</td>\n",
       "      <td>1</td>\n",
       "      <td>0</td>\n",
       "      <td>1</td>\n",
       "      <td>1</td>\n",
       "      <td>0.0</td>\n",
       "      <td>0</td>\n",
       "      <td>0</td>\n",
       "      <td>59</td>\n",
       "      <td>3</td>\n",
       "      <td>1</td>\n",
       "      <td>0</td>\n",
       "      <td>0</td>\n",
       "      <td>0</td>\n",
       "      <td>0</td>\n",
       "      <td>2</td>\n",
       "      <td>0</td>\n",
       "      <td>0</td>\n",
       "      <td>14.0</td>\n",
       "      <td>179.0</td>\n",
       "      <td>0</td>\n",
       "      <td>2</td>\n",
       "      <td>75.0</td>\n",
       "      <td>0</td>\n",
       "      <td>0</td>\n",
       "      <td>1</td>\n",
       "      <td>46</td>\n",
       "    </tr>\n",
       "    <tr>\n",
       "      <th>3</th>\n",
       "      <td>1</td>\n",
       "      <td>0</td>\n",
       "      <td>13</td>\n",
       "      <td>2015</td>\n",
       "      <td>5</td>\n",
       "      <td>27</td>\n",
       "      <td>1</td>\n",
       "      <td>0</td>\n",
       "      <td>1</td>\n",
       "      <td>1</td>\n",
       "      <td>0.0</td>\n",
       "      <td>0</td>\n",
       "      <td>0</td>\n",
       "      <td>59</td>\n",
       "      <td>2</td>\n",
       "      <td>0</td>\n",
       "      <td>0</td>\n",
       "      <td>0</td>\n",
       "      <td>0</td>\n",
       "      <td>0</td>\n",
       "      <td>0</td>\n",
       "      <td>0</td>\n",
       "      <td>0</td>\n",
       "      <td>304.0</td>\n",
       "      <td>179.0</td>\n",
       "      <td>0</td>\n",
       "      <td>2</td>\n",
       "      <td>75.0</td>\n",
       "      <td>0</td>\n",
       "      <td>0</td>\n",
       "      <td>1</td>\n",
       "      <td>46</td>\n",
       "    </tr>\n",
       "    <tr>\n",
       "      <th>4</th>\n",
       "      <td>1</td>\n",
       "      <td>0</td>\n",
       "      <td>14</td>\n",
       "      <td>2015</td>\n",
       "      <td>5</td>\n",
       "      <td>27</td>\n",
       "      <td>1</td>\n",
       "      <td>0</td>\n",
       "      <td>2</td>\n",
       "      <td>2</td>\n",
       "      <td>0.0</td>\n",
       "      <td>0</td>\n",
       "      <td>0</td>\n",
       "      <td>59</td>\n",
       "      <td>6</td>\n",
       "      <td>3</td>\n",
       "      <td>0</td>\n",
       "      <td>0</td>\n",
       "      <td>0</td>\n",
       "      <td>0</td>\n",
       "      <td>0</td>\n",
       "      <td>0</td>\n",
       "      <td>0</td>\n",
       "      <td>240.0</td>\n",
       "      <td>179.0</td>\n",
       "      <td>0</td>\n",
       "      <td>2</td>\n",
       "      <td>98.0</td>\n",
       "      <td>0</td>\n",
       "      <td>1</td>\n",
       "      <td>1</td>\n",
       "      <td>76</td>\n",
       "    </tr>\n",
       "  </tbody>\n",
       "</table>\n",
       "</div>"
      ],
      "text/plain": [
       "   hotel  is_canceled  lead_time  arrival_date_year  arrival_date_month   \n",
       "0      1            0        342               2015                   5  \\\n",
       "1      1            0        737               2015                   5   \n",
       "2      1            0          7               2015                   5   \n",
       "3      1            0         13               2015                   5   \n",
       "4      1            0         14               2015                   5   \n",
       "\n",
       "   arrival_date_week_number  arrival_date_day_of_month   \n",
       "0                        27                          1  \\\n",
       "1                        27                          1   \n",
       "2                        27                          1   \n",
       "3                        27                          1   \n",
       "4                        27                          1   \n",
       "\n",
       "   stays_in_weekend_nights  stays_in_week_nights  adults  children  babies   \n",
       "0                        0                     0       2       0.0       0  \\\n",
       "1                        0                     0       2       0.0       0   \n",
       "2                        0                     1       1       0.0       0   \n",
       "3                        0                     1       1       0.0       0   \n",
       "4                        0                     2       2       0.0       0   \n",
       "\n",
       "   meal  country  market_segment  distribution_channel  is_repeated_guest   \n",
       "0     0      135               3                     1                  0  \\\n",
       "1     0      135               3                     1                  0   \n",
       "2     0       59               3                     1                  0   \n",
       "3     0       59               2                     0                  0   \n",
       "4     0       59               6                     3                  0   \n",
       "\n",
       "   previous_cancellations  previous_bookings_not_canceled  reserved_room_type   \n",
       "0                       0                               0                   2  \\\n",
       "1                       0                               0                   2   \n",
       "2                       0                               0                   0   \n",
       "3                       0                               0                   0   \n",
       "4                       0                               0                   0   \n",
       "\n",
       "   assigned_room_type  booking_changes  deposit_type  agent  company   \n",
       "0                   2                3             0   14.0    179.0  \\\n",
       "1                   2                4             0   14.0    179.0   \n",
       "2                   2                0             0   14.0    179.0   \n",
       "3                   0                0             0  304.0    179.0   \n",
       "4                   0                0             0  240.0    179.0   \n",
       "\n",
       "   days_in_waiting_list  customer_type   adr  required_car_parking_spaces   \n",
       "0                     0              2   0.0                            0  \\\n",
       "1                     0              2   0.0                            0   \n",
       "2                     0              2  75.0                            0   \n",
       "3                     0              2  75.0                            0   \n",
       "4                     0              2  98.0                            0   \n",
       "\n",
       "   total_of_special_requests  reservation_status  reservation_status_date  \n",
       "0                          0                   1                       15  \n",
       "1                          0                   1                       15  \n",
       "2                          0                   1                       46  \n",
       "3                          0                   1                       46  \n",
       "4                          1                   1                       76  "
      ]
     },
     "execution_count": 4,
     "metadata": {},
     "output_type": "execute_result"
    }
   ],
   "source": [
    "# Initialize a label encoder\n",
    "label_encoder = LabelEncoder()\n",
    "label_mappings = {}\n",
    "\n",
    "\n",
    "# Convert categorical columns to numerical representations using label encoding\n",
    "for column in df.columns:\n",
    "    if df[column].dtype == 'object':\n",
    "        # Handle missing values by filling with a placeholder and then encoding\n",
    "        df[column] = df[column].fillna('Unknown')\n",
    "        df[column] = label_encoder.fit_transform(df[column])\n",
    "        label_mappings[column] = dict(zip(label_encoder.classes_, range(len(label_encoder.classes_))))\n",
    "\n",
    "\n",
    "# For columns with NaN values that are numerical, we will impute them with the median of the column\n",
    "for column in df.columns:\n",
    "    if df[column].isna().any():\n",
    "        median_val = df[column].median()\n",
    "        df[column].fillna(median_val, inplace=True)\n",
    "\n",
    "# Display the first few rows of the transformed dataframe\n",
    "df.head()\n"
   ]
  },
  {
   "cell_type": "markdown",
   "metadata": {},
   "source": [
    "## Model Training"
   ]
  },
  {
   "cell_type": "code",
   "execution_count": 5,
   "metadata": {},
   "outputs": [],
   "source": [
    "features = [\n",
    "    # 'hotel', \n",
    "    'lead_time', \n",
    "    # 'arrival_date_year', \n",
    "    # 'arrival_date_month',\n",
    "    # 'arrival_date_week_number', \n",
    "    # 'arrival_date_day_of_month',\n",
    "    # 'stays_in_weekend_nights', \n",
    "    # 'stays_in_week_nights', \n",
    "    # 'adults', \n",
    "    # 'children',\n",
    "    # 'babies', \n",
    "    # 'meal', \n",
    "    # 'country', \n",
    "    # 'market_segment', \n",
    "    # 'distribution_channel',\n",
    "    # 'is_repeated_guest', \n",
    "    # 'previous_cancellations',\n",
    "    # 'previous_bookings_not_canceled', \n",
    "    # 'reserved_room_type',\n",
    "    # 'assigned_room_type', \n",
    "    'booking_changes', \n",
    "    # 'deposit_type', \n",
    "    # 'agent',\n",
    "    # 'company', \n",
    "    # 'days_in_waiting_list', \n",
    "    # 'customer_type', \n",
    "    # 'adr',\n",
    "    # 'required_car_parking_spaces', \n",
    "    # 'total_of_special_requests'\n",
    "]\n",
    "\n",
    "df_X = df[features].copy()\n",
    "df_y = target"
   ]
  },
  {
   "cell_type": "code",
   "execution_count": 6,
   "metadata": {},
   "outputs": [
    {
     "data": {
      "text/plain": [
       "0.6767736077308655"
      ]
     },
     "execution_count": 6,
     "metadata": {},
     "output_type": "execute_result"
    }
   ],
   "source": [
    "seed = 42\n",
    "\n",
    "np.random.seed(seed)  # for reproducibility\n",
    "\n",
    "\n",
    "# Split the dataset into training and testing sets (80% train, 20% test)\n",
    "X_train, X_test, y_train, y_test = train_test_split(df_X, df_y, test_size=0.2, random_state=seed)\n",
    "\n",
    "std = X_train.std()\n",
    "mean = X_train.mean()\n",
    "\n",
    "X_train = (X_train - mean) / std\n",
    "X_test = (X_test - mean) / std\n",
    "\n",
    "# X_train, X_test, y_train, y_test = X_train.values, X_test.values, y_train.values, y_test.values\n",
    "\n",
    "# Convert to PyTorch tensors\n",
    "X_train_tensor = torch.FloatTensor(X_train.values)\n",
    "y_train_tensor = torch.FloatTensor(y_train.values).view(-1, 1)\n",
    "X_test_tensor = torch.FloatTensor(X_test.values)\n",
    "y_test_tensor = torch.FloatTensor(y_test.values).view(-1, 1)\n",
    "\n",
    "# Initialize the model, loss function, and optimizer\n",
    "model = BlackBoxModel(input_dim=X_train.shape[1])\n",
    "criterion = nn.MSELoss()\n",
    "optimizer = optim.Adam(model.parameters(), lr=0.01)\n",
    "\n",
    "# Training loop\n",
    "num_epochs = 100\n",
    "for epoch in range(num_epochs):\n",
    "    # Forward pass\n",
    "    outputs = model(X_train_tensor)\n",
    "    loss = criterion(outputs, y_train_tensor)\n",
    "    \n",
    "    # Backward pass and optimization\n",
    "    optimizer.zero_grad()\n",
    "    loss.backward()\n",
    "    optimizer.step()\n",
    "\n",
    "# Evaluate on test set\n",
    "model.eval()\n",
    "with torch.no_grad():\n",
    "    test_outputs = model(X_test_tensor)\n",
    "    test_loss = criterion(test_outputs, y_test_tensor)\n",
    "\n",
    "    # Convert outputs to binary using 0.5 as threshold\n",
    "    y_pred_tensor = (test_outputs > 0.5).float()\n",
    "    correct_predictions = (y_pred_tensor == y_test_tensor).float().sum()\n",
    "    accuracy = correct_predictions / y_test_tensor.shape[0]\n",
    "\n",
    "accuracy.item()"
   ]
  },
  {
   "cell_type": "markdown",
   "metadata": {},
   "source": [
    "## Counterfactual Explanation"
   ]
  },
  {
   "cell_type": "code",
   "execution_count": 117,
   "metadata": {},
   "outputs": [],
   "source": [
    "sample_num = 100\n",
    "delta = 0.1\n",
    "alpha = 0.05\n",
    "N=10\n",
    "\n",
    "indice = (X_test.sample(sample_num)).index\n",
    "\n",
    "X = X_test.loc[indice].values\n",
    "y = model(torch.FloatTensor(X))\n",
    "\n",
    "y_target = torch.distributions.beta.Beta(0.1, 0.9).sample((sample_num,))\n",
    "\n",
    "y_true = y_test.loc[indice]"
   ]
  },
  {
   "cell_type": "code",
   "execution_count": 148,
   "metadata": {},
   "outputs": [
    {
     "name": "stderr",
     "output_type": "stream",
     "text": [
      "DEBUG:root:test\n"
     ]
    }
   ],
   "source": [
    "from explainers.dce import DistributionalCounterfactualExplainer\n",
    "\n",
    "explainer = DistributionalCounterfactualExplainer(\n",
    "    model=model, \n",
    "    X=X, \n",
    "    y_target=y_target, \n",
    "    lr=1e-1, \n",
    "    n_proj=N,\n",
    "    delta=delta)"
   ]
  },
  {
   "cell_type": "code",
   "execution_count": 149,
   "metadata": {},
   "outputs": [
    {
     "data": {
      "text/plain": [
       "0.36825865888677367"
      ]
     },
     "execution_count": 149,
     "metadata": {},
     "output_type": "execute_result"
    }
   ],
   "source": [
    "np.sqrt(explainer.wd.distance(y, y_target, delta=delta)[0].item())"
   ]
  },
  {
   "cell_type": "code",
   "execution_count": 150,
   "metadata": {},
   "outputs": [
    {
     "data": {
      "text/plain": [
       "(0.3215083385634991, 0.40853059127364666)"
      ]
     },
     "execution_count": 150,
     "metadata": {},
     "output_type": "execute_result"
    }
   ],
   "source": [
    "explainer.wd.distance_interval(y, y_target, delta=delta, alpha=0.10)"
   ]
  },
  {
   "cell_type": "code",
   "execution_count": 179,
   "metadata": {},
   "outputs": [
    {
     "name": "stderr",
     "output_type": "stream",
     "text": [
      "DEBUG:root:test\n",
      "INFO:root:Optimization (without chance constraints) started\n",
      "INFO:root:Iter 1: Q = 3.825778007507324, term1 = 381.343017578125, term2 = 0.012472661212086678\n",
      "INFO:root:Iter 2: Q = 3.2968132495880127, term1 = 328.56719970703125, term2 = 0.011253931559622288\n",
      "INFO:root:Iter 3: Q = 2.842594623565674, term1 = 283.14825439453125, term2 = 0.01122436486184597\n",
      "INFO:root:Iter 4: Q = 2.4490442276000977, term1 = 243.79922485351562, term2 = 0.011163745075464249\n",
      "INFO:root:Iter 5: Q = 2.1086668968200684, term1 = 209.77108764648438, term2 = 0.011066610924899578\n",
      "INFO:root:Iter 6: Q = 1.8165595531463623, term1 = 180.5762481689453, term2 = 0.010906151495873928\n",
      "INFO:root:Iter 7: Q = 1.565079689025879, term1 = 155.453369140625, term2 = 0.010652564465999603\n",
      "INFO:root:Iter 8: Q = 1.348131537437439, term1 = 133.81661987304688, term2 = 0.010066074319183826\n",
      "INFO:root:Iter 9: Q = 1.1609786748886108, term1 = 115.1798095703125, term2 = 0.009273304603993893\n",
      "INFO:root:Iter 10: Q = 0.9997420907020569, term1 = 99.17413330078125, term2 = 0.008081581443548203\n",
      "INFO:root:Iter 11: Q = 0.8611677885055542, term1 = 85.42025756835938, term2 = 0.0070356042124331\n",
      "INFO:root:Iter 12: Q = 0.7418720722198486, term1 = 73.57551574707031, term2 = 0.006178711540997028\n",
      "INFO:root:Iter 13: Q = 0.6384625434875488, term1 = 63.36077117919922, term2 = 0.0049038720317184925\n",
      "INFO:root:Iter 14: Q = 0.5499854683876038, term1 = 54.5890007019043, term2 = 0.004136858973652124\n",
      "INFO:root:Iter 15: Q = 0.4740408957004547, term1 = 47.05524444580078, term2 = 0.0035236761905252934\n",
      "INFO:root:Iter 16: Q = 0.40819382667541504, term1 = 40.53741455078125, term2 = 0.002848169533535838\n",
      "INFO:root:Iter 17: Q = 0.35173800587654114, term1 = 34.89929962158203, term2 = 0.002772773150354624\n",
      "INFO:root:Iter 18: Q = 0.30347657203674316, term1 = 30.069992065429688, term2 = 0.0028047116938978434\n",
      "INFO:root:Iter 19: Q = 0.2613109052181244, term1 = 25.89852523803711, term2 = 0.002349133137613535\n",
      "INFO:root:Iter 20: Q = 0.22510956227779388, term1 = 22.315370559692383, term2 = 0.001975615741685033\n"
     ]
    }
   ],
   "source": [
    "explainer.optimize_without_chance_constraints(max_iter=20, tau=1e3)"
   ]
  },
  {
   "cell_type": "code",
   "execution_count": 180,
   "metadata": {},
   "outputs": [],
   "source": [
    "X_s = explainer.X.clone()\n",
    "X_t = explainer.X_prime.clone()"
   ]
  },
  {
   "cell_type": "code",
   "execution_count": 181,
   "metadata": {},
   "outputs": [
    {
     "data": {
      "text/plain": [
       "5.2815060525252955"
      ]
     },
     "execution_count": 181,
     "metadata": {},
     "output_type": "execute_result"
    }
   ],
   "source": [
    "np.sqrt(explainer.swd.distance(X_s, X_t, delta)[0].item())"
   ]
  },
  {
   "cell_type": "code",
   "execution_count": 182,
   "metadata": {},
   "outputs": [
    {
     "name": "stderr",
     "output_type": "stream",
     "text": [
      "c:\\Users\\leiyo\\GitHub\\distributional-counterfactual-explanation\\explainers\\distances.py:303: UserWarning: To copy construct from a tensor, it is recommended to use sourceTensor.clone().detach() or sourceTensor.clone().detach().requires_grad_(True), rather than torch.tensor(sourceTensor).\n",
      "  x = x.clone()\n",
      "c:\\Users\\leiyo\\GitHub\\distributional-counterfactual-explanation\\explainers\\distances.py:304: UserWarning: To copy construct from a tensor, it is recommended to use sourceTensor.clone().detach() or sourceTensor.clone().detach().requires_grad_(True), rather than torch.tensor(sourceTensor).\n",
      "  y = y.clone()\n"
     ]
    },
    {
     "data": {
      "text/plain": [
       "(0.0, 5.90132382137229)"
      ]
     },
     "execution_count": 182,
     "metadata": {},
     "output_type": "execute_result"
    }
   ],
   "source": [
    "explainer.swd.distance_interval(X_s, X_t, delta=delta, alpha=alpha)"
   ]
  },
  {
   "cell_type": "code",
   "execution_count": 183,
   "metadata": {},
   "outputs": [],
   "source": [
    "factual_X = df[df_X.columns].loc[indice].copy()\n",
    "counterfactual_X = pd.DataFrame(explainer.best_X.detach().numpy() * std[df_X.columns].values + mean[df_X.columns].values, columns=df_X.columns)\n",
    "# counterfactual_X = pd.DataFrame(explainer.best_X.detach().numpy(), columns=df_X.columns)\n",
    "\n",
    "factual_y = pd.DataFrame(y.detach().numpy(),columns=[target_name], index=factual_X.index)\n",
    "counterfactual_y = pd.DataFrame(explainer.best_y.detach().numpy(),columns=[target_name], index=factual_X.index)"
   ]
  },
  {
   "cell_type": "code",
   "execution_count": 184,
   "metadata": {},
   "outputs": [
    {
     "data": {
      "text/html": [
       "<div>\n",
       "<style scoped>\n",
       "    .dataframe tbody tr th:only-of-type {\n",
       "        vertical-align: middle;\n",
       "    }\n",
       "\n",
       "    .dataframe tbody tr th {\n",
       "        vertical-align: top;\n",
       "    }\n",
       "\n",
       "    .dataframe thead th {\n",
       "        text-align: right;\n",
       "    }\n",
       "</style>\n",
       "<table border=\"1\" class=\"dataframe\">\n",
       "  <thead>\n",
       "    <tr style=\"text-align: right;\">\n",
       "      <th></th>\n",
       "      <th>factual_y</th>\n",
       "      <th>counterfactual_y</th>\n",
       "    </tr>\n",
       "  </thead>\n",
       "  <tbody>\n",
       "    <tr>\n",
       "      <th>0</th>\n",
       "      <td>0.418274</td>\n",
       "      <td>0.026873</td>\n",
       "    </tr>\n",
       "    <tr>\n",
       "      <th>1</th>\n",
       "      <td>0.492623</td>\n",
       "      <td>0.431523</td>\n",
       "    </tr>\n",
       "    <tr>\n",
       "      <th>2</th>\n",
       "      <td>0.331205</td>\n",
       "      <td>0.263249</td>\n",
       "    </tr>\n",
       "    <tr>\n",
       "      <th>3</th>\n",
       "      <td>0.485512</td>\n",
       "      <td>0.408215</td>\n",
       "    </tr>\n",
       "    <tr>\n",
       "      <th>4</th>\n",
       "      <td>0.428104</td>\n",
       "      <td>0.127436</td>\n",
       "    </tr>\n",
       "    <tr>\n",
       "      <th>...</th>\n",
       "      <td>...</td>\n",
       "      <td>...</td>\n",
       "    </tr>\n",
       "    <tr>\n",
       "      <th>95</th>\n",
       "      <td>0.442847</td>\n",
       "      <td>0.343395</td>\n",
       "    </tr>\n",
       "    <tr>\n",
       "      <th>96</th>\n",
       "      <td>0.444758</td>\n",
       "      <td>0.296818</td>\n",
       "    </tr>\n",
       "    <tr>\n",
       "      <th>97</th>\n",
       "      <td>0.149337</td>\n",
       "      <td>0.125696</td>\n",
       "    </tr>\n",
       "    <tr>\n",
       "      <th>98</th>\n",
       "      <td>0.438555</td>\n",
       "      <td>0.281529</td>\n",
       "    </tr>\n",
       "    <tr>\n",
       "      <th>99</th>\n",
       "      <td>0.149337</td>\n",
       "      <td>0.155715</td>\n",
       "    </tr>\n",
       "  </tbody>\n",
       "</table>\n",
       "<p>100 rows × 2 columns</p>\n",
       "</div>"
      ],
      "text/plain": [
       "    factual_y  counterfactual_y\n",
       "0    0.418274          0.026873\n",
       "1    0.492623          0.431523\n",
       "2    0.331205          0.263249\n",
       "3    0.485512          0.408215\n",
       "4    0.428104          0.127436\n",
       "..        ...               ...\n",
       "95   0.442847          0.343395\n",
       "96   0.444758          0.296818\n",
       "97   0.149337          0.125696\n",
       "98   0.438555          0.281529\n",
       "99   0.149337          0.155715\n",
       "\n",
       "[100 rows x 2 columns]"
      ]
     },
     "execution_count": 184,
     "metadata": {},
     "output_type": "execute_result"
    }
   ],
   "source": [
    "pd.DataFrame({\n",
    "    'factual_y': factual_y[target_name].values,\n",
    "    'counterfactual_y': counterfactual_y[target_name].values,\n",
    "})"
   ]
  },
  {
   "cell_type": "code",
   "execution_count": 185,
   "metadata": {},
   "outputs": [],
   "source": [
    "counterfactual_X.index = factual_X.index\n",
    "counterfactual_X[target_name] = counterfactual_y"
   ]
  },
  {
   "cell_type": "code",
   "execution_count": 186,
   "metadata": {},
   "outputs": [],
   "source": [
    "factual_X[target_name] = factual_y"
   ]
  },
  {
   "cell_type": "code",
   "execution_count": 187,
   "metadata": {},
   "outputs": [
    {
     "data": {
      "text/html": [
       "<div>\n",
       "<style scoped>\n",
       "    .dataframe tbody tr th:only-of-type {\n",
       "        vertical-align: middle;\n",
       "    }\n",
       "\n",
       "    .dataframe tbody tr th {\n",
       "        vertical-align: top;\n",
       "    }\n",
       "\n",
       "    .dataframe thead th {\n",
       "        text-align: right;\n",
       "    }\n",
       "</style>\n",
       "<table border=\"1\" class=\"dataframe\">\n",
       "  <thead>\n",
       "    <tr style=\"text-align: right;\">\n",
       "      <th></th>\n",
       "      <th>lead_time</th>\n",
       "      <th>booking_changes</th>\n",
       "      <th>is_canceled</th>\n",
       "    </tr>\n",
       "  </thead>\n",
       "  <tbody>\n",
       "    <tr>\n",
       "      <th>15617</th>\n",
       "      <td>-56.647760</td>\n",
       "      <td>0.148746</td>\n",
       "      <td>0.026873</td>\n",
       "    </tr>\n",
       "    <tr>\n",
       "      <th>92316</th>\n",
       "      <td>136.521535</td>\n",
       "      <td>0.267514</td>\n",
       "      <td>0.431523</td>\n",
       "    </tr>\n",
       "    <tr>\n",
       "      <th>40634</th>\n",
       "      <td>16.850025</td>\n",
       "      <td>-0.130766</td>\n",
       "      <td>0.263249</td>\n",
       "    </tr>\n",
       "    <tr>\n",
       "      <th>81127</th>\n",
       "      <td>117.164650</td>\n",
       "      <td>0.271887</td>\n",
       "      <td>0.408215</td>\n",
       "    </tr>\n",
       "    <tr>\n",
       "      <th>90878</th>\n",
       "      <td>-4.574228</td>\n",
       "      <td>0.034314</td>\n",
       "      <td>0.127436</td>\n",
       "    </tr>\n",
       "    <tr>\n",
       "      <th>...</th>\n",
       "      <td>...</td>\n",
       "      <td>...</td>\n",
       "      <td>...</td>\n",
       "    </tr>\n",
       "    <tr>\n",
       "      <th>16261</th>\n",
       "      <td>56.597066</td>\n",
       "      <td>0.248242</td>\n",
       "      <td>0.343395</td>\n",
       "    </tr>\n",
       "    <tr>\n",
       "      <th>22819</th>\n",
       "      <td>52.172772</td>\n",
       "      <td>0.369949</td>\n",
       "      <td>0.296818</td>\n",
       "    </tr>\n",
       "    <tr>\n",
       "      <th>91590</th>\n",
       "      <td>-20.751427</td>\n",
       "      <td>-0.719166</td>\n",
       "      <td>0.125696</td>\n",
       "    </tr>\n",
       "    <tr>\n",
       "      <th>43000</th>\n",
       "      <td>43.038428</td>\n",
       "      <td>0.383606</td>\n",
       "      <td>0.281529</td>\n",
       "    </tr>\n",
       "    <tr>\n",
       "      <th>19018</th>\n",
       "      <td>1.495897</td>\n",
       "      <td>0.009152</td>\n",
       "      <td>0.155715</td>\n",
       "    </tr>\n",
       "  </tbody>\n",
       "</table>\n",
       "<p>100 rows × 3 columns</p>\n",
       "</div>"
      ],
      "text/plain": [
       "        lead_time  booking_changes  is_canceled\n",
       "15617  -56.647760         0.148746     0.026873\n",
       "92316  136.521535         0.267514     0.431523\n",
       "40634   16.850025        -0.130766     0.263249\n",
       "81127  117.164650         0.271887     0.408215\n",
       "90878   -4.574228         0.034314     0.127436\n",
       "...           ...              ...          ...\n",
       "16261   56.597066         0.248242     0.343395\n",
       "22819   52.172772         0.369949     0.296818\n",
       "91590  -20.751427        -0.719166     0.125696\n",
       "43000   43.038428         0.383606     0.281529\n",
       "19018    1.495897         0.009152     0.155715\n",
       "\n",
       "[100 rows x 3 columns]"
      ]
     },
     "execution_count": 187,
     "metadata": {},
     "output_type": "execute_result"
    }
   ],
   "source": [
    "counterfactual_X"
   ]
  },
  {
   "cell_type": "code",
   "execution_count": 188,
   "metadata": {},
   "outputs": [
    {
     "data": {
      "text/html": [
       "<div>\n",
       "<style scoped>\n",
       "    .dataframe tbody tr th:only-of-type {\n",
       "        vertical-align: middle;\n",
       "    }\n",
       "\n",
       "    .dataframe tbody tr th {\n",
       "        vertical-align: top;\n",
       "    }\n",
       "\n",
       "    .dataframe thead th {\n",
       "        text-align: right;\n",
       "    }\n",
       "</style>\n",
       "<table border=\"1\" class=\"dataframe\">\n",
       "  <thead>\n",
       "    <tr style=\"text-align: right;\">\n",
       "      <th></th>\n",
       "      <th>factual</th>\n",
       "      <th>counterfactual</th>\n",
       "    </tr>\n",
       "  </thead>\n",
       "  <tbody>\n",
       "    <tr>\n",
       "      <th>0</th>\n",
       "      <td>48</td>\n",
       "      <td>-56.647760</td>\n",
       "    </tr>\n",
       "    <tr>\n",
       "      <th>1</th>\n",
       "      <td>158</td>\n",
       "      <td>136.521535</td>\n",
       "    </tr>\n",
       "    <tr>\n",
       "      <th>2</th>\n",
       "      <td>28</td>\n",
       "      <td>16.850025</td>\n",
       "    </tr>\n",
       "    <tr>\n",
       "      <th>3</th>\n",
       "      <td>146</td>\n",
       "      <td>117.164650</td>\n",
       "    </tr>\n",
       "    <tr>\n",
       "      <th>4</th>\n",
       "      <td>57</td>\n",
       "      <td>-4.574228</td>\n",
       "    </tr>\n",
       "    <tr>\n",
       "      <th>...</th>\n",
       "      <td>...</td>\n",
       "      <td>...</td>\n",
       "    </tr>\n",
       "    <tr>\n",
       "      <th>95</th>\n",
       "      <td>77</td>\n",
       "      <td>56.597066</td>\n",
       "    </tr>\n",
       "    <tr>\n",
       "      <th>96</th>\n",
       "      <td>81</td>\n",
       "      <td>52.172772</td>\n",
       "    </tr>\n",
       "    <tr>\n",
       "      <th>97</th>\n",
       "      <td>0</td>\n",
       "      <td>-20.751427</td>\n",
       "    </tr>\n",
       "    <tr>\n",
       "      <th>98</th>\n",
       "      <td>68</td>\n",
       "      <td>43.038428</td>\n",
       "    </tr>\n",
       "    <tr>\n",
       "      <th>99</th>\n",
       "      <td>0</td>\n",
       "      <td>1.495897</td>\n",
       "    </tr>\n",
       "  </tbody>\n",
       "</table>\n",
       "<p>100 rows × 2 columns</p>\n",
       "</div>"
      ],
      "text/plain": [
       "    factual  counterfactual\n",
       "0        48      -56.647760\n",
       "1       158      136.521535\n",
       "2        28       16.850025\n",
       "3       146      117.164650\n",
       "4        57       -4.574228\n",
       "..      ...             ...\n",
       "95       77       56.597066\n",
       "96       81       52.172772\n",
       "97        0      -20.751427\n",
       "98       68       43.038428\n",
       "99        0        1.495897\n",
       "\n",
       "[100 rows x 2 columns]"
      ]
     },
     "execution_count": 188,
     "metadata": {},
     "output_type": "execute_result"
    }
   ],
   "source": [
    "check_column = 'lead_time'\n",
    "pd.DataFrame({\n",
    "    'factual': factual_X[check_column].values, \n",
    "    'counterfactual': counterfactual_X[check_column].values\n",
    "    })"
   ]
  },
  {
   "cell_type": "code",
   "execution_count": 189,
   "metadata": {},
   "outputs": [
    {
     "data": {
      "text/plain": [
       "94.24"
      ]
     },
     "execution_count": 189,
     "metadata": {},
     "output_type": "execute_result"
    }
   ],
   "source": [
    "factual_X[check_column].mean()"
   ]
  },
  {
   "cell_type": "code",
   "execution_count": 190,
   "metadata": {},
   "outputs": [
    {
     "data": {
      "text/plain": [
       "62.3841998124943"
      ]
     },
     "execution_count": 190,
     "metadata": {},
     "output_type": "execute_result"
    }
   ],
   "source": [
    "counterfactual_X[check_column].mean()"
   ]
  },
  {
   "cell_type": "code",
   "execution_count": 191,
   "metadata": {},
   "outputs": [
    {
     "name": "stderr",
     "output_type": "stream",
     "text": [
      "DEBUG:matplotlib.colorbar:locator: <matplotlib.ticker.AutoLocator object at 0x000001B5DC859EE0>\n"
     ]
    },
    {
     "data": {
      "image/png": "[encoded data removed]",
      "text/plain": [
       "<Figure size 1000x800 with 2 Axes>"
      ]
     },
     "metadata": {},
     "output_type": "display_data"
    }
   ],
   "source": [
    "import numpy as np\n",
    "import matplotlib.pyplot as plt\n",
    "\n",
    "# Sample matrix for demonstration\n",
    "matrix = explainer.wd.nu.numpy()\n",
    "\n",
    "plt.figure(figsize=(10, 8))\n",
    "plt.imshow(matrix, cmap='viridis')\n",
    "plt.colorbar()\n",
    "plt.title(\"Heatmap of the Matrix\")\n",
    "plt.show()\n"
   ]
  },
  {
   "cell_type": "code",
   "execution_count": null,
   "metadata": {},
   "outputs": [],
   "source": []
  }
 ],
 "metadata": {
  "kernelspec": {
   "display_name": "base",
   "language": "python",
   "name": "python3"
  },
  "language_info": {
   "codemirror_mode": {
    "name": "ipython",
    "version": 3
   },
   "file_extension": ".py",
   "mimetype": "text/x-python",
   "name": "python",
   "nbconvert_exporter": "python",
   "pygments_lexer": "ipython3",
   "version": "3.9.13"
  }
 },
 "nbformat": 4,
 "nbformat_minor": 2
}
