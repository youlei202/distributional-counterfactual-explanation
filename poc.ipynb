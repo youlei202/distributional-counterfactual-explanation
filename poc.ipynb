{
 "cells": [
  {
   "cell_type": "code",
   "execution_count": null,
   "metadata": {},
   "outputs": [],
   "source": [
    "import pandas as pd\n",
    "import numpy as np\n",
    "import seaborn as sns\n",
    "\n",
    "import torch.optim as optim\n",
    "from sklearn.model_selection import train_test_split\n",
    "import torch\n",
    "import torch.nn as nn\n",
    "\n",
    "from sklearn.preprocessing import LabelEncoder\n",
    "\n",
    "from models.mlp import BlackBoxModel\n",
    "\n",
    "pd.set_option('display.max_columns', None)\n",
    "\n",
    "%reload_ext autoreload\n",
    "%autoreload 2"
   ]
  },
  {
   "cell_type": "code",
   "execution_count": null,
   "metadata": {},
   "outputs": [],
   "source": [
    "df_ = pd.read_csv('hotel_bookings.csv')\n",
    "df = df_.copy()\n",
    "target_name = 'is_canceled'\n",
    "target = df[target_name]"
   ]
  },
  {
   "cell_type": "code",
   "execution_count": null,
   "metadata": {},
   "outputs": [],
   "source": [
    "# Initialize a label encoder\n",
    "label_encoder = LabelEncoder()\n",
    "label_mappings = {}\n",
    "\n",
    "\n",
    "# Convert categorical columns to numerical representations using label encoding\n",
    "for column in df.columns:\n",
    "    if df[column].dtype == 'object':\n",
    "        # Handle missing values by filling with a placeholder and then encoding\n",
    "        df[column] = df[column].fillna('Unknown')\n",
    "        df[column] = label_encoder.fit_transform(df[column])\n",
    "        label_mappings[column] = dict(zip(label_encoder.classes_, range(len(label_encoder.classes_))))\n",
    "\n",
    "\n",
    "# For columns with NaN values that are numerical, we will impute them with the median of the column\n",
    "for column in df.columns:\n",
    "    if df[column].isna().any():\n",
    "        median_val = df[column].median()\n",
    "        df[column].fillna(median_val, inplace=True)\n",
    "\n",
    "# Display the first few rows of the transformed dataframe\n",
    "df.head()\n"
   ]
  },
  {
   "cell_type": "code",
   "execution_count": null,
   "metadata": {},
   "outputs": [],
   "source": [
    "features = [\n",
    "    # 'hotel', \n",
    "    'lead_time', \n",
    "    # 'arrival_date_year', \n",
    "    'arrival_date_month',\n",
    "    # 'arrival_date_week_number', \n",
    "    # 'arrival_date_day_of_month',\n",
    "    'stays_in_weekend_nights', \n",
    "    'stays_in_week_nights', \n",
    "    # 'adults', \n",
    "    # 'children',\n",
    "    # 'babies', \n",
    "    # 'meal', \n",
    "    'country', \n",
    "    'market_segment', \n",
    "    # 'distribution_channel',\n",
    "    # 'is_repeated_guest', \n",
    "    'previous_cancellations',\n",
    "    # 'previous_bookings_not_canceled', \n",
    "    'reserved_room_type',\n",
    "    'assigned_room_type', \n",
    "    'booking_changes', \n",
    "    'deposit_type', \n",
    "    'agent',\n",
    "    # 'company', \n",
    "    'days_in_waiting_list', \n",
    "    'customer_type', \n",
    "    'adr',\n",
    "    'required_car_parking_spaces', \n",
    "    'total_of_special_requests'\n",
    "]\n",
    "\n",
    "df_X = df[features].copy()\n",
    "df_y = target"
   ]
  },
  {
   "cell_type": "code",
   "execution_count": null,
   "metadata": {},
   "outputs": [],
   "source": [
    "seed = 42\n",
    "\n",
    "np.random.seed(seed)  # for reproducibility\n",
    "\n",
    "\n",
    "# Split the dataset into training and testing sets (80% train, 20% test)\n",
    "X_train, X_test, y_train, y_test = train_test_split(df_X, df_y, test_size=0.2, random_state=seed)\n",
    "\n",
    "std = X_train.std()\n",
    "mean = X_train.mean()\n",
    "\n",
    "X_train = (X_train - mean) / std\n",
    "X_test = (X_test - mean) / std\n",
    "\n",
    "# X_train, X_test, y_train, y_test = X_train.values, X_test.values, y_train.values, y_test.values\n",
    "\n",
    "# Convert to PyTorch tensors\n",
    "X_train_tensor = torch.FloatTensor(X_train.values)\n",
    "y_train_tensor = torch.FloatTensor(y_train.values).view(-1, 1)\n",
    "X_test_tensor = torch.FloatTensor(X_test.values)\n",
    "y_test_tensor = torch.FloatTensor(y_test.values).view(-1, 1)\n",
    "\n",
    "# Initialize the model, loss function, and optimizer\n",
    "model = BlackBoxModel(input_dim=X_train.shape[1])\n",
    "criterion = nn.MSELoss()\n",
    "optimizer = optim.Adam(model.parameters(), lr=0.01)\n",
    "\n",
    "# Training loop\n",
    "num_epochs = 100\n",
    "for epoch in range(num_epochs):\n",
    "    # Forward pass\n",
    "    outputs = model(X_train_tensor)\n",
    "    loss = criterion(outputs, y_train_tensor)\n",
    "    \n",
    "    # Backward pass and optimization\n",
    "    optimizer.zero_grad()\n",
    "    loss.backward()\n",
    "    optimizer.step()\n",
    "\n",
    "# Evaluate on test set\n",
    "model.eval()\n",
    "with torch.no_grad():\n",
    "    test_outputs = model(X_test_tensor)\n",
    "    test_loss = criterion(test_outputs, y_test_tensor)\n",
    "\n",
    "    # Convert outputs to binary using 0.5 as threshold\n",
    "    y_pred_tensor = (test_outputs > 0.5).float()\n",
    "    correct_predictions = (y_pred_tensor == y_test_tensor).float().sum()\n",
    "    accuracy = correct_predictions / y_test_tensor.shape[0]\n",
    "\n",
    "accuracy.item()"
   ]
  },
  {
   "cell_type": "code",
   "execution_count": null,
   "metadata": {},
   "outputs": [],
   "source": [
    "sample_num = 20\n",
    "\n",
    "indice = (X_test.sample(sample_num)).index"
   ]
  },
  {
   "cell_type": "code",
   "execution_count": null,
   "metadata": {},
   "outputs": [],
   "source": [
    "X_prime = X_test.loc[indice].values\n",
    "X = X_prime.copy()\n",
    "\n",
    "y_prime = model(torch.FloatTensor(X_prime))\n",
    "y = model(torch.FloatTensor(X))\n",
    "\n",
    "y_true = y_test.loc[indice]"
   ]
  },
  {
   "cell_type": "code",
   "execution_count": null,
   "metadata": {},
   "outputs": [],
   "source": [
    "from explainers.dce import DistributionalCounterfactualExplainer\n",
    "\n",
    "explainer = DistributionalCounterfactualExplainer(model=model, X=X, epsilon=0.2, lambda_val=0.5)"
   ]
  },
  {
   "cell_type": "code",
   "execution_count": null,
   "metadata": {},
   "outputs": [],
   "source": [
    "explainer.optimize(initial_lr=1)"
   ]
  },
  {
   "cell_type": "code",
   "execution_count": null,
   "metadata": {},
   "outputs": [],
   "source": [
    "factual_X = df[df_X.columns].loc[indice].copy()\n",
    "counterfactual_X = pd.DataFrame(explainer.X.detach().numpy() * std[df_X.columns].values + mean[df_X.columns].values, columns=df_X.columns)\n",
    "# counterfactual_X = pd.DataFrame(explainer.X.detach().numpy(), columns=df_X.columns)\n",
    "\n",
    "factual_y = pd.DataFrame(y.detach().numpy(),columns=[target_name], index=factual_X.index)\n",
    "counterfactual_y = pd.DataFrame(explainer.y.detach().numpy(),columns=[target_name], index=factual_X.index)"
   ]
  },
  {
   "cell_type": "code",
   "execution_count": null,
   "metadata": {},
   "outputs": [],
   "source": [
    "factual_y.mean()"
   ]
  },
  {
   "cell_type": "code",
   "execution_count": null,
   "metadata": {},
   "outputs": [],
   "source": [
    "counterfactual_y.mean()"
   ]
  },
  {
   "cell_type": "code",
   "execution_count": null,
   "metadata": {},
   "outputs": [],
   "source": [
    "check_column = 'lead_time'\n",
    "pd.DataFrame({\n",
    "    'factual': factual_X[check_column].values, \n",
    "    'counterfactual': counterfactual_X[check_column].values\n",
    "    })"
   ]
  },
  {
   "cell_type": "code",
   "execution_count": null,
   "metadata": {},
   "outputs": [],
   "source": [
    "factual_X[check_column].mean()"
   ]
  },
  {
   "cell_type": "code",
   "execution_count": null,
   "metadata": {},
   "outputs": [],
   "source": [
    "counterfactual_X[check_column].mean()"
   ]
  },
  {
   "cell_type": "code",
   "execution_count": null,
   "metadata": {},
   "outputs": [],
   "source": []
  }
 ],
 "metadata": {
  "kernelspec": {
   "display_name": "base",
   "language": "python",
   "name": "python3"
  },
  "language_info": {
   "codemirror_mode": {
    "name": "ipython",
    "version": 3
   },
   "file_extension": ".py",
   "mimetype": "text/x-python",
   "name": "python",
   "nbconvert_exporter": "python",
   "pygments_lexer": "ipython3",
   "version": "3.9.13"
  }
 },
 "nbformat": 4,
 "nbformat_minor": 2
}
